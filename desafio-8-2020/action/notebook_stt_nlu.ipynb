{
 "cells": [
  {
   "cell_type": "markdown",
   "metadata": {
    "colab_type": "text",
    "id": "wvsREMdSpl8t"
   },
   "source": [
    "Execute a célula de baixo se ainda não instalou o `Watson Developer Cloud Python SDK`. Essa é a biblioteca que vai te permitir conectar, via Python, aos serviços da IBM Cloud."
   ]
  },
  {
   "cell_type": "code",
   "execution_count": null,
   "metadata": {
    "colab": {},
    "colab_type": "code",
    "id": "kdJV-gSlpl8v"
   },
   "outputs": [],
   "source": [
    "!pip3 install --upgrade ibm-watson"
   ]
  },
  {
   "cell_type": "markdown",
   "metadata": {
    "colab_type": "text",
    "id": "98wGwLZWpl8z"
   },
   "source": [
    "Após a instalação, você deve importar os seguintes serviços suficientes para o desafio:"
   ]
  },
  {
   "cell_type": "code",
   "execution_count": 1,
   "metadata": {
    "colab": {},
    "colab_type": "code",
    "id": "7mUc-kzYpl80"
   },
   "outputs": [],
   "source": [
    "# Lidar com arquivos JSON\n",
    "import json\n",
    "\n",
    "# Aqui importamos as classes que cuidam dos serviços do Natural Language Understanding e do Speech-to-Text\n",
    "from ibm_watson import NaturalLanguageUnderstandingV1, SpeechToTextV1\n",
    "\n",
    "# Puxamos, para o natural language understanding, as classes de Features e EntitiesOptions que serão úteis para obter as entidades e os sentimentos associdados\n",
    "from ibm_watson.natural_language_understanding_v1 import Features, EntitiesOptions\n",
    "\n",
    "# Só é possível se conectar aos seus serviços se você se autenticar, e a classe que cuidará disso é o IAMAuthenticator\n",
    "from ibm_cloud_sdk_core.authenticators import IAMAuthenticator"
   ]
  },
  {
   "cell_type": "markdown",
   "metadata": {
    "colab_type": "text",
    "id": "EnYve07Tpl9B"
   },
   "source": [
    "## Serviço STT"
   ]
  },
  {
   "cell_type": "markdown",
   "metadata": {
    "colab_type": "text",
    "id": "f7CbtMdvpl9C"
   },
   "source": [
    "Aqui você só vai precisar da key e da URL do seu serviço do `Speech-to-Text`"
   ]
  },
  {
   "cell_type": "code",
   "execution_count": 2,
   "metadata": {
    "colab": {},
    "colab_type": "code",
    "id": "SmJQumBhpl9D"
   },
   "outputs": [],
   "source": [
    "stt_apikey = \"9kesqvRxa7lKR3WUkcR81zFXfhrJXXYl3dzobsEWEfCM\"\n",
    "\n",
    "stt_service_url = \"https://api.us-south.speech-to-text.watson.cloud.ibm.com\""
   ]
  },
  {
   "cell_type": "code",
   "execution_count": 3,
   "metadata": {
    "colab": {},
    "colab_type": "code",
    "id": "Ohzb8pYkpl9J"
   },
   "outputs": [],
   "source": [
    "stt_authenticator = IAMAuthenticator(apikey=stt_apikey)\n",
    "\n",
    "stt_service = SpeechToTextV1(authenticator=stt_authenticator)\n",
    "\n",
    "stt_service.set_service_url(stt_service_url)"
   ]
  },
  {
   "cell_type": "markdown",
   "metadata": {
    "colab_type": "text",
    "id": "eDe62ysDpl84"
   },
   "source": [
    "## Serviço NLU"
   ]
  },
  {
   "cell_type": "markdown",
   "metadata": {
    "colab_type": "text",
    "id": "1bYkC0jwpl84"
   },
   "source": [
    "Você precisará de 3 coisas: A key e a URL do seu serviço de `Natural Language Understanding` e o model_id do seu Knowledge Studio treinado."
   ]
  },
  {
   "cell_type": "code",
   "execution_count": 4,
   "metadata": {
    "colab": {},
    "colab_type": "code",
    "id": "5O3zZUfMpl85"
   },
   "outputs": [],
   "source": [
    "nlu_apikey = \"rv_tVs7qTDhdlEtEwcY-D11AGDdI6VVkVh8RaZj1jwQ-\"\n",
    "    \n",
    "nlu_service_url = \"https://api.us-south.natural-language-understanding.watson.cloud.ibm.com\"\n",
    "    \n",
    "nlu_entity_model = \"187ea1d8-ea11-4285-b96e-32db2996a9aa\""
   ]
  },
  {
   "cell_type": "markdown",
   "metadata": {
    "colab_type": "text",
    "id": "YSbFnibopl89"
   },
   "source": [
    "Agora instanciamos os serviços com as suas credenciais."
   ]
  },
  {
   "cell_type": "code",
   "execution_count": 5,
   "metadata": {
    "colab": {},
    "colab_type": "code",
    "id": "zF44bFgCpl8-"
   },
   "outputs": [],
   "source": [
    "# Cria-se um autenticador\n",
    "nlu_authenticator = IAMAuthenticator(apikey=nlu_apikey)\n",
    "\n",
    "# Criamos o serviço passando esse autenticador\n",
    "nlu_service = NaturalLanguageUnderstandingV1(\n",
    "    version='2018-03-16',\n",
    "    authenticator=nlu_authenticator)\n",
    "\n",
    "# Setamos a URL de acesso do nosso serviço\n",
    "nlu_service.set_service_url(nlu_service_url)"
   ]
  },
  {
   "cell_type": "markdown",
   "metadata": {
    "colab_type": "text",
    "id": "OrJ5LklCpl9I"
   },
   "source": [
    "E agora instanciamos o serviço com as suas credenciais."
   ]
  },
  {
   "cell_type": "markdown",
   "metadata": {
    "colab_type": "text",
    "id": "2yYsxV-wpl9V"
   },
   "source": [
    "## Resposta STT"
   ]
  },
  {
   "cell_type": "markdown",
   "metadata": {
    "colab_type": "text",
    "id": "9iap90I9pl9V"
   },
   "source": [
    "Como enviamos um arquivo temos que abrí-lo primeiro (quando você estiver montando sua api você vai receber como requisição e não como leitura do disco, isso é apenas para exemplo). Você deve enviar um arquivo de tipo `bytes` para o serviço. O `open` do python cuida dessa parte para esse caso. Não carregue um arquivo que não seja formato `.flac`, pois não irá funcionar.\n",
    "\n"
   ]
  },
  {
   "cell_type": "code",
   "execution_count": 38,
   "metadata": {
    "colab": {},
    "colab_type": "code",
    "id": "bNhZ-Xafpl9W"
   },
   "outputs": [],
   "source": [
    "#caminho_para_audio = \"./doc/source/dataset/audio_sample.flac\"\n",
    "caminho_para_audio = \"/Users/pires/Downloads/argo.flac\""
   ]
  },
  {
   "cell_type": "markdown",
   "metadata": {
    "colab_type": "text",
    "id": "JydQ7aUOpl9Z"
   },
   "source": [
    "Como o serviço de Speech-to-Text lida com linguagem, você deve indicar qual modelo linguístico você quer usar. Queremos utilizar um que identifique o português do Brasil. Eu já o separei abaixo para você."
   ]
  },
  {
   "cell_type": "code",
   "execution_count": 7,
   "metadata": {
    "colab": {},
    "colab_type": "code",
    "id": "4_ZAlw82pl9a"
   },
   "outputs": [],
   "source": [
    "stt_model = 'pt-BR_BroadbandModel'"
   ]
  },
  {
   "cell_type": "markdown",
   "metadata": {
    "colab_type": "text",
    "id": "6LTkHd8Npl9f"
   },
   "source": [
    "Com isso pronto, carregamos nosso arquivo `.flac` e o enviamos ao serviço. Isso é feito agora pelo método `.recognize()`. Feito isso você verá o resultado ser printado logo abaixo."
   ]
  },
  {
   "cell_type": "code",
   "execution_count": 39,
   "metadata": {
    "colab": {},
    "colab_type": "code",
    "id": "pyG9TbAupl9g"
   },
   "outputs": [
    {
     "name": "stdout",
     "output_type": "stream",
     "text": [
      "\"o ar tema condicionando muito bom \"\n"
     ]
    }
   ],
   "source": [
    "with open(caminho_para_audio, 'rb') as audio_file:\n",
    "    stt_results = stt_service.recognize(\n",
    "            audio=audio_file,\n",
    "            content_type='audio/flac',\n",
    "            model=stt_model,\n",
    "            timestamps=False,\n",
    "            word_confidence=False).get_result()\n",
    "    \n",
    "transcript = json.dumps(stt_results['results'][0]['alternatives'][0]['transcript'], indent=2, ensure_ascii=False)\n",
    "print(transcript)"
   ]
  },
  {
   "cell_type": "markdown",
   "metadata": {
    "colab_type": "text",
    "id": "KNZLstAlpl9k"
   },
   "source": [
    "Uma vez feito isso, sua variável `stt_results` é agora um `dict` (dicionário) com a resposta do serviço ao arquivo de áudio que você forneceu. Você pode agora manipular como quiser essa resposta em seu código para completar o desafio."
   ]
  },
  {
   "cell_type": "markdown",
   "metadata": {
    "colab_type": "text",
    "id": "vHpK09Rdpl9P"
   },
   "source": [
    "## Resposta NLU"
   ]
  },
  {
   "cell_type": "markdown",
   "metadata": {
    "colab_type": "text",
    "id": "558WLOxypl9P"
   },
   "source": [
    "Para usar o serviço agora, basta mandar uma variável contendo seu texto para o serviço utilizando o método `.analyze()`. É no próprio método que, na parte de `Features`, você define o modelo que quer usar para extrair as entidades e o sentimento. Lembre que a variável deve estar do formato `str`, ou seja, deve ser uma string. \n",
    "\n",
    "Quando rodar a célula abaixo, você verá o resultado do `nlu_response` logo em seguida. Deve demorar alguns segundos para fazer a requisição."
   ]
  },
  {
   "cell_type": "code",
   "execution_count": 50,
   "metadata": {
    "colab": {},
    "colab_type": "code",
    "id": "iHagEW8cpl9Q"
   },
   "outputs": [
    {
     "name": "stdout",
     "output_type": "stream",
     "text": [
      "[\n",
      "  {\n",
      "    \"type\": \"MODELO\",\n",
      "    \"text\": \"ARGO\",\n",
      "    \"sentiment\": {\n",
      "      \"score\": 0.713002,\n",
      "      \"label\": \"positive\"\n",
      "    },\n",
      "    \"disambiguation\": {\n",
      "      \"subtype\": [\n",
      "        \"NONE\"\n",
      "      ]\n",
      "    },\n",
      "    \"count\": 1,\n",
      "    \"confidence\": 0.976141\n",
      "  }\n",
      "]\n"
     ]
    }
   ],
   "source": [
    "# Defina o que você quer enviar para o seu modelo analisar. O importante é que você envie uma string. Essa variável text pode ser o que você quiser\n",
    "text = \"O novo ARGO apresenta um design bacana\"\n",
    "\n",
    "# O método analyze cuida de tudo\n",
    "nlu_response = nlu_service.analyze(\n",
    "    text=text,\n",
    "    features=Features(entities=EntitiesOptions(model=nlu_entity_model, sentiment=True)),\n",
    "    language='pt'\n",
    ").get_result()\n",
    "\n",
    "print(json.dumps(nlu_response['entities'], indent=2, ensure_ascii=False))"
   ]
  },
  {
   "cell_type": "code",
   "execution_count": 52,
   "metadata": {
    "colab": {},
    "colab_type": "code",
    "id": "iHagEW8cpl9Q"
   },
   "outputs": [
    {
     "data": {
      "text/plain": [
       "{'type': 'MODELO',\n",
       " 'text': 'ARGO',\n",
       " 'sentiment': {'score': 0.713002, 'label': 'positive'},\n",
       " 'disambiguation': {'subtype': ['NONE']},\n",
       " 'count': 1,\n",
       " 'confidence': 0.976141}"
      ]
     },
     "execution_count": 52,
     "metadata": {},
     "output_type": "execute_result"
    }
   ],
   "source": [
    "nlu_response['entities'][0]"
   ]
  },
  {
   "cell_type": "markdown",
   "metadata": {
    "colab_type": "text",
    "id": "strPsd4Wpl9U"
   },
   "source": [
    "Uma vez feito isso, sua variável `nlu_result` é agora um `dict` (dicionário) com a resposta do serviço ao texto que você forneceu. Você pode agora manipular como quiser essa resposta em seu código para completar o desafio."
   ]
  },
  {
   "cell_type": "markdown",
   "metadata": {
    "colab_type": "text",
    "id": "M7g286T8pl9l"
   },
   "source": [
    "## Boa Sorte!!"
   ]
  }
 ],
 "metadata": {
  "colab": {
   "name": "notebook_stt_nlu.ipynb",
   "provenance": []
  },
  "kernelspec": {
   "display_name": "Python 3",
   "language": "python",
   "name": "python3"
  },
  "language_info": {
   "codemirror_mode": {
    "name": "ipython",
    "version": 3
   },
   "file_extension": ".py",
   "mimetype": "text/x-python",
   "name": "python",
   "nbconvert_exporter": "python",
   "pygments_lexer": "ipython3",
   "version": "3.7.5"
  }
 },
 "nbformat": 4,
 "nbformat_minor": 4
}
