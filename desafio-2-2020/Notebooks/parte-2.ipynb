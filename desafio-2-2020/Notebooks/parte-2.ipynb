{
 "cells": [
  {
   "cell_type": "markdown",
   "metadata": {},
   "source": [
    "# MARATONA BEHIND THE CODE 2020\n",
    "\n",
    "## DESAFIO 2: PARTE 2"
   ]
  },
  {
   "cell_type": "markdown",
   "metadata": {},
   "source": [
    "### Introdução"
   ]
  },
  {
   "cell_type": "markdown",
   "metadata": {},
   "source": [
    "Na parte 1 deste desafio, você realizou o pré-processamento e o treinamento de um modelo a partir de um conjunto de dados base fornecido. Nesta segunda etapa você irá integrar todas as transformações e eventos de treinamento criados anteriormente em uma Pipeline completa para *deploy* no **Watson Machine Learning**!"
   ]
  },
  {
   "cell_type": "markdown",
   "metadata": {},
   "source": [
    "<hr>"
   ]
  },
  {
   "cell_type": "markdown",
   "metadata": {},
   "source": [
    "### Preparação do Notebook"
   ]
  },
  {
   "cell_type": "markdown",
   "metadata": {},
   "source": [
    "Primeiro realizaremos a instalação do scikit-learn e a importação das mesmas bibliotecas utilizadas anteriormente"
   ]
  },
  {
   "cell_type": "code",
   "execution_count": 1,
   "metadata": {},
   "outputs": [
    {
     "name": "stdout",
     "output_type": "stream",
     "text": [
      "Requirement already up-to-date: scikit-learn==0.20.3 in /opt/conda/envs/Python36/lib/python3.6/site-packages (0.20.3)\n",
      "Requirement already satisfied, skipping upgrade: scipy>=0.13.3 in /opt/conda/envs/Python36/lib/python3.6/site-packages (from scikit-learn==0.20.3) (1.2.0)\n",
      "Requirement already satisfied, skipping upgrade: numpy>=1.8.2 in /opt/conda/envs/Python36/lib/python3.6/site-packages (from scikit-learn==0.20.3) (1.15.4)\n",
      "Requirement already up-to-date: xgboost==0.71 in /opt/conda/envs/Python36/lib/python3.6/site-packages (0.71)\n",
      "Requirement already satisfied, skipping upgrade: scipy in /opt/conda/envs/Python36/lib/python3.6/site-packages (from xgboost==0.71) (1.2.0)\n",
      "Requirement already satisfied, skipping upgrade: numpy in /opt/conda/envs/Python36/lib/python3.6/site-packages (from xgboost==0.71) (1.15.4)\n"
     ]
    }
   ],
   "source": [
    "# Primeiro, realizamos a instalação do scikit-learn versão 0.20.3 e do xgboost versão 0.71 no Kernel deste notebook\n",
    "# ** CUIDADO AO TROCAR A VERSÃO DAS BIBLIOTECAS -- VERSÕES DIFERENTES PODEM SER INCOMPATÍVEIS COM O WATSON STUDIO **\n",
    "# OBS: A instalação do xgboost leva um tempo considerável\n",
    "!pip install scikit-learn==0.20.3 --upgrade\n",
    "!pip install xgboost==0.71 --upgrade"
   ]
  },
  {
   "cell_type": "code",
   "execution_count": 2,
   "metadata": {},
   "outputs": [],
   "source": [
    "import json\n",
    "import requests\n",
    "import pandas as pd\n",
    "import numpy as np\n",
    "import xgboost as xgb\n",
    "from xgboost import XGBClassifier\n",
    "from sklearn.impute import SimpleImputer\n",
    "from sklearn.model_selection import train_test_split\n",
    "from sklearn.tree import DecisionTreeClassifier\n",
    "from sklearn.pipeline import Pipeline\n",
    "from sklearn.model_selection import KFold, cross_validate"
   ]
  },
  {
   "cell_type": "markdown",
   "metadata": {},
   "source": [
    "É necessário inserir o conjunto de dados base novamente como um dataframe pandas, seguindo as instruções\n",
    "\n",
    "![alt text](https://i.imgur.com/K1DwL9I.png \"importing-csv-as-df\")\n",
    "\n",
    "Após a seleção da opção **\"Insert to code\"**, a célula abaixo será preenchida com o código necessário para importação e leitura dos dados no arquivo .csv como um DataFrame Pandas."
   ]
  },
  {
   "cell_type": "code",
   "execution_count": 3,
   "metadata": {},
   "outputs": [
    {
     "data": {
      "text/html": [
       "<div>\n",
       "<style scoped>\n",
       "    .dataframe tbody tr th:only-of-type {\n",
       "        vertical-align: middle;\n",
       "    }\n",
       "\n",
       "    .dataframe tbody tr th {\n",
       "        vertical-align: top;\n",
       "    }\n",
       "\n",
       "    .dataframe thead th {\n",
       "        text-align: right;\n",
       "    }\n",
       "</style>\n",
       "<table border=\"1\" class=\"dataframe\">\n",
       "  <thead>\n",
       "    <tr style=\"text-align: right;\">\n",
       "      <th></th>\n",
       "      <th>MATRICULA</th>\n",
       "      <th>NOME</th>\n",
       "      <th>REPROVACOES_DE</th>\n",
       "      <th>REPROVACOES_EM</th>\n",
       "      <th>REPROVACOES_MF</th>\n",
       "      <th>REPROVACOES_GO</th>\n",
       "      <th>NOTA_DE</th>\n",
       "      <th>NOTA_EM</th>\n",
       "      <th>NOTA_MF</th>\n",
       "      <th>NOTA_GO</th>\n",
       "      <th>INGLES</th>\n",
       "      <th>H_AULA_PRES</th>\n",
       "      <th>TAREFAS_ONLINE</th>\n",
       "      <th>FALTAS</th>\n",
       "      <th>PERFIL</th>\n",
       "    </tr>\n",
       "  </thead>\n",
       "  <tbody>\n",
       "    <tr>\n",
       "      <th>0</th>\n",
       "      <td>502375</td>\n",
       "      <td>Márcia Illiglener</td>\n",
       "      <td>0</td>\n",
       "      <td>0</td>\n",
       "      <td>0</td>\n",
       "      <td>0</td>\n",
       "      <td>6.2</td>\n",
       "      <td>5.8</td>\n",
       "      <td>4.6</td>\n",
       "      <td>5.9</td>\n",
       "      <td>0.0</td>\n",
       "      <td>2</td>\n",
       "      <td>4</td>\n",
       "      <td>3</td>\n",
       "      <td>EXATAS</td>\n",
       "    </tr>\n",
       "    <tr>\n",
       "      <th>1</th>\n",
       "      <td>397093</td>\n",
       "      <td>Jason Jytereoman Izoimum</td>\n",
       "      <td>0</td>\n",
       "      <td>0</td>\n",
       "      <td>0</td>\n",
       "      <td>0</td>\n",
       "      <td>6.0</td>\n",
       "      <td>6.2</td>\n",
       "      <td>5.2</td>\n",
       "      <td>4.5</td>\n",
       "      <td>1.0</td>\n",
       "      <td>2</td>\n",
       "      <td>4</td>\n",
       "      <td>3</td>\n",
       "      <td>EXATAS</td>\n",
       "    </tr>\n",
       "    <tr>\n",
       "      <th>2</th>\n",
       "      <td>915288</td>\n",
       "      <td>Bartolomeu Inácio da Gama</td>\n",
       "      <td>0</td>\n",
       "      <td>0</td>\n",
       "      <td>0</td>\n",
       "      <td>0</td>\n",
       "      <td>7.3</td>\n",
       "      <td>6.7</td>\n",
       "      <td>7.1</td>\n",
       "      <td>7.2</td>\n",
       "      <td>0.0</td>\n",
       "      <td>5</td>\n",
       "      <td>0</td>\n",
       "      <td>3</td>\n",
       "      <td>HUMANAS</td>\n",
       "    </tr>\n",
       "    <tr>\n",
       "      <th>3</th>\n",
       "      <td>192652</td>\n",
       "      <td>Fernanda Guedes</td>\n",
       "      <td>1</td>\n",
       "      <td>3</td>\n",
       "      <td>1</td>\n",
       "      <td>1</td>\n",
       "      <td>0.0</td>\n",
       "      <td>0.0</td>\n",
       "      <td>0.0</td>\n",
       "      <td>0.0</td>\n",
       "      <td>1.0</td>\n",
       "      <td>4</td>\n",
       "      <td>4</td>\n",
       "      <td>4</td>\n",
       "      <td>DIFICULDADE</td>\n",
       "    </tr>\n",
       "    <tr>\n",
       "      <th>4</th>\n",
       "      <td>949491</td>\n",
       "      <td>Alessandre Borba Gomes</td>\n",
       "      <td>1</td>\n",
       "      <td>3</td>\n",
       "      <td>1</td>\n",
       "      <td>1</td>\n",
       "      <td>0.0</td>\n",
       "      <td>0.0</td>\n",
       "      <td>0.0</td>\n",
       "      <td>0.0</td>\n",
       "      <td>1.0</td>\n",
       "      <td>5</td>\n",
       "      <td>2</td>\n",
       "      <td>5</td>\n",
       "      <td>DIFICULDADE</td>\n",
       "    </tr>\n",
       "  </tbody>\n",
       "</table>\n",
       "</div>"
      ],
      "text/plain": [
       "   MATRICULA                       NOME  REPROVACOES_DE  REPROVACOES_EM  \\\n",
       "0     502375          Márcia Illiglener               0               0   \n",
       "1     397093   Jason Jytereoman Izoimum               0               0   \n",
       "2     915288  Bartolomeu Inácio da Gama               0               0   \n",
       "3     192652            Fernanda Guedes               1               3   \n",
       "4     949491     Alessandre Borba Gomes               1               3   \n",
       "\n",
       "   REPROVACOES_MF  REPROVACOES_GO  NOTA_DE  NOTA_EM  NOTA_MF  NOTA_GO  INGLES  \\\n",
       "0               0               0      6.2      5.8      4.6      5.9     0.0   \n",
       "1               0               0      6.0      6.2      5.2      4.5     1.0   \n",
       "2               0               0      7.3      6.7      7.1      7.2     0.0   \n",
       "3               1               1      0.0      0.0      0.0      0.0     1.0   \n",
       "4               1               1      0.0      0.0      0.0      0.0     1.0   \n",
       "\n",
       "   H_AULA_PRES  TAREFAS_ONLINE  FALTAS       PERFIL  \n",
       "0            2               4       3       EXATAS  \n",
       "1            2               4       3       EXATAS  \n",
       "2            5               0       3      HUMANAS  \n",
       "3            4               4       4  DIFICULDADE  \n",
       "4            5               2       5  DIFICULDADE  "
      ]
     },
     "execution_count": 3,
     "metadata": {},
     "output_type": "execute_result"
    }
   ],
   "source": [
    "\n",
    "import types\n",
    "import pandas as pd\n",
    "from botocore.client import Config\n",
    "import ibm_boto3\n",
    "\n",
    "def __iter__(self): return 0\n",
    "\n",
    "# @hidden_cell\n",
    "# The following code accesses a file in your IBM Cloud Object Storage. It includes your credentials.\n",
    "# You might want to remove those credentials before you share the notebook.\n",
    "client_5c477263bcfc4ab2a674610ea82df049 = ibm_boto3.client(service_name='s3',\n",
    "    ibm_api_key_id='w_3psHsQMVtxB7rQANRM0UTC9ah93S9dBGxJHS9ycBcb',\n",
    "    ibm_auth_endpoint=\"https://iam.cloud.ibm.com/oidc/token\",\n",
    "    config=Config(signature_version='oauth'),\n",
    "    endpoint_url='https://s3-api.us-geo.objectstorage.service.networklayer.com')\n",
    "\n",
    "body = client_5c477263bcfc4ab2a674610ea82df049.get_object(Bucket='maratonaibm-donotdelete-pr-0xfkhrbbnwe7sg',Key='dataset_desafio_2.csv')['Body']\n",
    "# add missing __iter__ method, so pandas accepts body as file-like object\n",
    "if not hasattr(body, \"__iter__\"): body.__iter__ = types.MethodType( __iter__, body )\n",
    "\n",
    "df_data_2 = pd.read_csv(body)\n",
    "df_data_2.head()\n"
   ]
  },
  {
   "cell_type": "markdown",
   "metadata": {},
   "source": [
    "### Construção da Pipeline completa para encapsulamento no WML"
   ]
  },
  {
   "cell_type": "markdown",
   "metadata": {},
   "source": [
    "#### Preparando transformações personalizadas para carregamento no WML"
   ]
  },
  {
   "cell_type": "markdown",
   "metadata": {},
   "source": [
    "Na etapa anterior, foi mostrado como criar uma transformação personalizada, através da declaração de uma classe Python com os métodos ``fit`` e ``transform``.\n",
    "\n",
    "    - Código da transformação personalizada DropColumns():\n",
    "    \n",
    "    from sklearn.base import BaseEstimator, TransformerMixin\n",
    "    # All sklearn Transforms must have the `transform` and `fit` methods\n",
    "    class DropColumns(BaseEstimator, TransformerMixin):\n",
    "        def __init__(self, columns):\n",
    "            self.columns = columns\n",
    "        def fit(self, X, y=None):\n",
    "            return self\n",
    "        def transform(self, X):\n",
    "            # Primeiro realizamos a cópia do dataframe 'X' de entrada\n",
    "            data = X.copy()\n",
    "            # Retornamos um novo dataframe sem as colunas indesejadas\n",
    "            return data.drop(labels=self.columns, axis='columns')\n",
    "\n",
    "Para integrar esses tipos de transformações personalizadas nas Pipelines do Watson Machine Learning, é necessário primeiramente empacotar seu código personalizado como uma biblioteca Python. Isso pode ser feito facilmente com o uso da ferramenta *setuptools*.\n",
    "\n",
    "No seguinte repositório git: https://github.com/vnderlev/sklearn_transforms temos todos os arquivos necessários para a criação de um pacote Python, nomeado **my_custom_sklearn_transforms**.\n",
    "Esse pacote possui a seguinte estrutura de arquivos:\n",
    "\n",
    "    /my_custom_sklearn_transforms.egg-info\n",
    "        dependency_links.txt\n",
    "        not-zip-safe\n",
    "        PKG-INFO\n",
    "        SOURCES.txt\n",
    "        top_level.txt\n",
    "    /my_custom_sklearn_transforms\n",
    "        __init__.py\n",
    "        sklearn_transformers.py\n",
    "    PKG-INFO\n",
    "    README.md\n",
    "    setup.cfg\n",
    "    setup.py\n",
    "    \n",
    "O arquivo principal, que irá conter o código das nossas transformadas personalizadas, é o arquivo **/my_custom_sklearn_transforms/sklearn_transformers.py**. Se você acessá-lo no repositório, irá notar que ele contém exatamente o mesmo código declarado na primeira etapa (a classe DropColumns).\n",
    "\n",
    "Caso você tenha declarado transformações próprias (além da DropColumn fornecida), você deverá adicionar todas as classes dessas transformadas criadas por você nesse mesmo arquivo. Para tal, você deve realizar o fork desse repositório (isso pode ser feito na própria interface Web do Github, clicando no botão conforme a imagem abaixo), e adicionar suas classes personalizadas no arquivo **sklearn_transformers.py**.\n",
    "\n",
    "![alt text](https://i.imgur.com/D81E1uM.png \"forking-a-repo\")\n",
    "\n",
    "Se você somente fez o uso da transformação fornecida (DropColumns), pode ignorar essa etapa de fork, e seguir utilizando o pacote base fornecido! :)\n",
    "\n",
    "Após a preparação do seu pacote Python com as suas transformadas personalizadas, substitua o link do repositório git na célula abaixo e execute-a. Caso você não tenha preparado nenhuma nova transformada, execute a célula com o link do repositório já fornecido. \n",
    "\n",
    "<hr>\n",
    "    \n",
    "**OBSERVAÇÃO**\n",
    "\n",
    "Caso a execução da célula abaixo retorne um erro de que o repositório já existe, execute:\n",
    "\n",
    "**!rm -r -f sklearn_transforms**"
   ]
  },
  {
   "cell_type": "code",
   "execution_count": null,
   "metadata": {},
   "outputs": [],
   "source": [
    "# substitua o link abaixo pelo link do seu repositório git (se for o caso)\n",
    "!git clone https://github.com/vnderlev/sklearn_transforms.git"
   ]
  },
  {
   "cell_type": "code",
   "execution_count": 4,
   "metadata": {},
   "outputs": [
    {
     "name": "stdout",
     "output_type": "stream",
     "text": [
      "total 68\n",
      "drwxr-x--- 5 dsxuser dsxuser  4096 Aug 25 19:48 sklearn_transforms\n",
      "-rw-r----- 1 dsxuser dsxuser 62143 Aug 25 19:48 sklearn_transforms.zip\n"
     ]
    }
   ],
   "source": [
    "!cd sklearn_transforms\n",
    "!ls -ltr"
   ]
  },
  {
   "cell_type": "markdown",
   "metadata": {},
   "source": [
    "Para subir o código no WML, precisamos enviar um arquivo .zip com todo o código fonte, então iremos zipar o diretório clonado em seguida:"
   ]
  },
  {
   "cell_type": "code",
   "execution_count": null,
   "metadata": {},
   "outputs": [],
   "source": [
    "!zip -r sklearn_transforms.zip sklearn_transforms"
   ]
  },
  {
   "cell_type": "markdown",
   "metadata": {},
   "source": [
    "Com o arquivo zip do nosso pacote carregado no Kernel deste notebook, podemos utilizar a ferramenta pip para instalá-lo, conforme a célula abaixo:"
   ]
  },
  {
   "cell_type": "code",
   "execution_count": 5,
   "metadata": {},
   "outputs": [
    {
     "name": "stdout",
     "output_type": "stream",
     "text": [
      "Processing ./sklearn_transforms.zip\n",
      "Building wheels for collected packages: my-custom-sklearn-transforms\n",
      "  Building wheel for my-custom-sklearn-transforms (setup.py) ... \u001b[?25ldone\n",
      "\u001b[?25h  Stored in directory: /home/dsxuser/.tmp/pip-ephem-wheel-cache-ahx2a9_0/wheels/8f/88/32/f886e7510a37b111e2a1b7e689e04450acda46732970a7ed78\n",
      "Successfully built my-custom-sklearn-transforms\n",
      "Installing collected packages: my-custom-sklearn-transforms\n",
      "  Found existing installation: my-custom-sklearn-transforms 1.0\n",
      "    Uninstalling my-custom-sklearn-transforms-1.0:\n",
      "      Successfully uninstalled my-custom-sklearn-transforms-1.0\n",
      "Successfully installed my-custom-sklearn-transforms-1.0\n"
     ]
    }
   ],
   "source": [
    "!pip install sklearn_transforms.zip"
   ]
  },
  {
   "cell_type": "markdown",
   "metadata": {},
   "source": [
    "Podemos agora realizar a importação do nosso pacote personalizado em nosso notabook!\n",
    "\n",
    "Iremos importar a transformação DropColumns. Se você possui outras transformações personalizadas, não se esqueça de importá-las!"
   ]
  },
  {
   "cell_type": "code",
   "execution_count": 6,
   "metadata": {},
   "outputs": [],
   "source": [
    "from my_custom_sklearn_transforms.sklearn_transformers import DropColumns"
   ]
  },
  {
   "cell_type": "markdown",
   "metadata": {},
   "source": [
    "#### Declarando a Pipeline\n",
    "\n",
    "Após a importação das transformações personalizadas como um pacote Python, podemos partir para a declaração da nossa Pipeline.\n",
    "\n",
    "O processo é bem semelhante ao realizado na primeira etapa, porém com algumas diferenças importantes, então preste bem atenção!\n",
    "\n",
    "A Pipeline exemplo possui três estágios: \n",
    "\n",
    "    - remover a coluna \"NOME\"\n",
    "    - imputar \"zeros\" em todos os valores faltantes\n",
    "    - inserir os dados pré-processados como entrada em um modelo treinado\n",
    "    \n",
    "Relembrando, a entrada desta Pipeline será o conjunto cru de dados fornecido exceto a coluna \"PERFIL\" (variável-alvo a ser determinada pelo modelo).\n",
    "\n",
    "    MATRICULA       - número de matrícula do estudante\n",
    "    NOME            - nome completo do estudante\n",
    "    REPROVACOES_DE  - número de reprovações na disciplina de ``Direito Empresarial``\n",
    "    REPROVACOES_EM  - número de reprovações na disciplina de ``Empreendedorismo``\n",
    "    REPROVACOES_MF  - número de reprovações na disciplina de ``Matemática Financeira``\n",
    "    REPROVACOES_GO  - número de reprovações na disciplina de ``Gestão Operacional``\n",
    "    NOTA_DE         - média simples das notas do aluno na disciplina de ``Direito Empresarial`` (0-10)\n",
    "    NOTA_EM         - média simples das notas do aluno na disciplina de ``Empreendedorismo`` (0-10)\n",
    "    NOTA_MF         - média simples das notas do aluno na disciplina de ``Matemática Financeira`` (0-10)\n",
    "    NOTA_GO         - média simples das notas do aluno na disciplina de ``Gestão Operacional`` (0-10)\n",
    "    INGLES          - variável binária que indica se o estudante tem conhecimento em língua inglesa (0 -> sim ou 1 -> não).\n",
    "    H_AULA_PRES     - horas de estudo presencial realizadas pelo estudante\n",
    "    TAREFAS_ONLINE  - número de tarefas online entregues pelo estudante\n",
    "    FALTAS          - número de faltas acumuladas do estudante (todas disciplinas)\n",
    "    \n",
    "A variável-alvo é:\n",
    "\n",
    "PERFIL               - uma *string* que indica uma de cinco possibilidades: \n",
    "    \"EXCELENTE\"      - Estudante não necessita de mentoria\n",
    "    \"MUITO BOM\"      - Estudante não necessita de mentoria\n",
    "    \"HUMANAS\"        - Estudante necessita de mentoria exclusivamente em matérias com conteúdo de ciências humanas\n",
    "    \"EXATAS\"         - Estudante necessita de mentoria apenas em disciplinas com conteúdo de ciências exatas\n",
    "    \"DIFICULDADE\"    - Estudante necessita de mentoria em duas ou mais disciplinas\n",
    "\n",
    "Com um modelo capaz de classificar um estudante em uma dessas categorias, podemos automatizar parte da mentoria estudantil através de assistentes virtuais, que serão capazes de recomendar práticas de estudo e conteúdo personalizado com base nas necessidades de cada aluno."
   ]
  },
  {
   "cell_type": "code",
   "execution_count": 7,
   "metadata": {},
   "outputs": [],
   "source": [
    "# Criação de uma Transform personalizada ``DropColumns``\n",
    "\n",
    "rm_columns = DropColumns(\n",
    "    columns=[\"NOME\"]\n",
    ")"
   ]
  },
  {
   "cell_type": "code",
   "execution_count": 8,
   "metadata": {},
   "outputs": [],
   "source": [
    "# Criação de um objeto ``SimpleImputer``\n",
    "\n",
    "si = SimpleImputer(\n",
    "    missing_values=np.nan,  # os valores faltantes são do tipo ``np.nan`` (padrão Pandas)\n",
    "    strategy='constant',  # a estratégia escolhida é a alteração do valor faltante por uma constante\n",
    "    fill_value=0,  # a constante que será usada para preenchimento dos valores faltantes é um int64=0.\n",
    "    verbose=0,\n",
    "    copy=True\n",
    ")"
   ]
  },
  {
   "cell_type": "markdown",
   "metadata": {},
   "source": [
    "## ATENÇÃO: As \"features\" declaradas na célula abaixo são as entradas da PIPELINE, e não do seu modelo (as features da Pipeline serão TODAS as colunas do dataset exceto a coluna PERFIL, que é o nosso alvo)."
   ]
  },
  {
   "cell_type": "code",
   "execution_count": 9,
   "metadata": {},
   "outputs": [],
   "source": [
    "# Definição das colunas que serão features (entradas) da Pipeline\n",
    "features = [\n",
    "    \"MATRICULA\", \"NOME\", 'REPROVACOES_DE', 'REPROVACOES_EM', \"REPROVACOES_MF\", \"REPROVACOES_GO\",\n",
    "    \"NOTA_DE\", \"NOTA_EM\", \"NOTA_MF\", \"NOTA_GO\",\n",
    "    \"INGLES\", \"H_AULA_PRES\", \"TAREFAS_ONLINE\", \"FALTAS\", \n",
    "]\n",
    "\n",
    "# Definição da variável-alvo\n",
    "target = [\"PERFIL\"]"
   ]
  },
  {
   "cell_type": "code",
   "execution_count": 10,
   "metadata": {},
   "outputs": [],
   "source": [
    "# Preparação dos argumentos para os métodos da biblioteca ``scikit-learn``\n",
    "X = df_data_2[features]\n",
    "y = df_data_2[target]"
   ]
  },
  {
   "cell_type": "markdown",
   "metadata": {},
   "source": [
    "**ATENÇÃO!!**\n",
    "\n",
    "A célula acima, embora muito parecida com a definição de features na primeira etapa deste desafio, possui uma grande diferença!\n",
    "\n",
    "Nela está presente a coluna \"NOME\" como uma feature! Isso ocorre pois neste caso essas são as entradas da *PIPELINE*, e não do modelo."
   ]
  },
  {
   "cell_type": "code",
   "execution_count": 11,
   "metadata": {},
   "outputs": [],
   "source": [
    "# Separação dos dados em um conjunto de treino e um conjunto de teste\n",
    "X_train, X_test, y_train, y_test = train_test_split(X, y, test_size=0.3, random_state=337)"
   ]
  },
  {
   "cell_type": "markdown",
   "metadata": {},
   "source": [
    "Na célula abaixo é realizada a declaração de um objeto **Pipeline** do scikit-learn, onde é declarado o parâmetro *steps*, que nada mais é do que uma lista com as etapas da nossa pipeline:\n",
    "\n",
    "    'passo_1_remove_cols'     - transformação personalizada DropColumns\n",
    "    'passo_2_imputer'         - transformação embutida do scikit-learn para imputação de valores faltantes\n",
    "    'seu_modelo'             - um classificador via árvore de decisão\n",
    "    \n",
    "Note que passamos como passos as transformadas instanciadas anteriormente, sob nome `rm_columns` e `si`."
   ]
  },
  {
   "cell_type": "code",
   "execution_count": 12,
   "metadata": {},
   "outputs": [],
   "source": [
    "# Criação da nossa pipeline para armazenamento no Watson Machine Learning:\n",
    "my_pipeline = Pipeline(\n",
    "    steps=[\n",
    "        ('passo_1_remove_cols', rm_columns),\n",
    "        ('passo_2_imputer', si),\n",
    "        ('seu_modelo', XGBClassifier(n_estimators=1000, learning_rate=0.001)),\n",
    "    ]\n",
    ")"
   ]
  },
  {
   "cell_type": "markdown",
   "metadata": {},
   "source": [
    "Em seguida iremos executar o método `fit()` da Pipeline, realizando o pré-processamento e o treinamento do modelo de uma só vez."
   ]
  },
  {
   "cell_type": "code",
   "execution_count": 13,
   "metadata": {},
   "outputs": [
    {
     "name": "stderr",
     "output_type": "stream",
     "text": [
      "/opt/conda/envs/Python36/lib/python3.6/site-packages/sklearn/preprocessing/label.py:219: DataConversionWarning: A column-vector y was passed when a 1d array was expected. Please change the shape of y to (n_samples, ), for example using ravel().\n",
      "  y = column_or_1d(y, warn=True)\n",
      "/opt/conda/envs/Python36/lib/python3.6/site-packages/sklearn/preprocessing/label.py:252: DataConversionWarning: A column-vector y was passed when a 1d array was expected. Please change the shape of y to (n_samples, ), for example using ravel().\n",
      "  y = column_or_1d(y, warn=True)\n"
     ]
    },
    {
     "data": {
      "text/plain": [
       "Pipeline(memory=None,\n",
       "     steps=[('passo_1_remove_cols', DropColumns(columns=['NOME'])), ('passo_2_imputer', SimpleImputer(copy=True, fill_value=0, missing_values=nan,\n",
       "       strategy='constant', verbose=0)), ('seu_modelo', XGBClassifier(base_score=0.5, booster='gbtree', colsample_bylevel=1,\n",
       "       colsample_bytree=1, gamma=...\n",
       "       reg_alpha=0, reg_lambda=1, scale_pos_weight=1, seed=None,\n",
       "       silent=True, subsample=1))])"
      ]
     },
     "execution_count": 13,
     "metadata": {},
     "output_type": "execute_result"
    }
   ],
   "source": [
    "# Inicialização da Pipeline (pré-processamento e realização do treinamento do modelo)\n",
    "my_pipeline.fit(X_train, y_train)"
   ]
  },
  {
   "cell_type": "markdown",
   "metadata": {},
   "source": [
    "Agora que temos uma pipeline completa, com etapas de pré-processamento configuradas e também um modelo por árvore de decisão já treinado, podemos realizar a integração com o Watson Machine Learning!"
   ]
  },
  {
   "cell_type": "markdown",
   "metadata": {},
   "source": [
    "<hr>"
   ]
  },
  {
   "cell_type": "markdown",
   "metadata": {},
   "source": [
    "### Encapsulando uma Pipeline personalizada no Watson Machine Learning"
   ]
  },
  {
   "cell_type": "markdown",
   "metadata": {},
   "source": [
    "#### Estabelecendo conexão entre o cliente Python do WML e a sua instância do serviço na nuvem"
   ]
  },
  {
   "cell_type": "code",
   "execution_count": 14,
   "metadata": {},
   "outputs": [],
   "source": [
    "# Biblioteca Python com implementação de um cliente HTTP para a API do WML\n",
    "from watson_machine_learning_client import WatsonMachineLearningAPIClient"
   ]
  },
  {
   "cell_type": "markdown",
   "metadata": {},
   "source": [
    "As próximas células irão realizar o deploy da pipeline declarada neste notebook no WML. Só prossiga se você já está satisfeito com seu modelo e acha que já é a hora de fazer o deploy da sua solução.\n",
    "\n",
    "Cole as credenciais de sua instância do Watson Machine Learning na variável na célula abaixo.\n",
    "\n",
    "É importante que a variável que contém os valores tenha o nome de ``wml_credentials`` para que as próximas células deste notebook executem corretamente."
   ]
  },
  {
   "cell_type": "code",
   "execution_count": 15,
   "metadata": {},
   "outputs": [],
   "source": [
    "wml_credentials = {\n",
    "  \"apikey\": \"WZaw5WVewQ1B4zpRrY-dDA3zp0rUk9tgQ8HASnuMu1-I\",\n",
    "  \"iam_apikey_description\": \"Auto-generated for key 2ccf2aad-a1f7-4c55-8dcf-162b40a78509\",\n",
    "  \"iam_apikey_name\": \"Credenciais de serviço-1\",\n",
    "  \"iam_role_crn\": \"crn:v1:bluemix:public:iam::::serviceRole:Writer\",\n",
    "  \"iam_serviceid_crn\": \"crn:v1:bluemix:public:iam-identity::a/8e04f9b997b34612a259dfb287636845::serviceid:ServiceId-de595301-133b-48c1-a0d1-f29362f7949a\",\n",
    "  \"instance_id\": \"6b0ac4ef-4319-4e87-8b47-bbac53d68fc2\",\n",
    "  \"url\": \"https://us-south.ml.cloud.ibm.com\"\n",
    "}"
   ]
  },
  {
   "cell_type": "code",
   "execution_count": 16,
   "metadata": {},
   "outputs": [],
   "source": [
    "# Instanciando um objeto cliente do Watson Machine Learning a partir das credenciais fornecidas\n",
    "\n",
    "clientWML = WatsonMachineLearningAPIClient(wml_credentials)"
   ]
  },
  {
   "cell_type": "code",
   "execution_count": 17,
   "metadata": {},
   "outputs": [
    {
     "name": "stdout",
     "output_type": "stream",
     "text": [
      "{\n",
      "    \"entity\": {\n",
      "        \"source\": \"Bluemix\",\n",
      "        \"published_models\": {\n",
      "            \"url\": \"https://us-south.ml.cloud.ibm.com/v3/wml_instances/6b0ac4ef-4319-4e87-8b47-bbac53d68fc2/published_models\"\n",
      "        },\n",
      "        \"usage\": {\n",
      "            \"capacity_units\": {\n",
      "                \"current\": 0,\n",
      "                \"limit\": 180000000\n",
      "            },\n",
      "            \"computation_time\": {\n",
      "                \"current\": 0,\n",
      "                \"limit\": 180000\n",
      "            },\n",
      "            \"deployment_count\": {\n",
      "                \"current\": 0,\n",
      "                \"limit\": 5\n",
      "            },\n",
      "            \"expiration_date\": \"2020-09-01T00:00:00.000Z\",\n",
      "            \"gpu_count_k80\": {\n",
      "                \"current\": 0,\n",
      "                \"limit\": 8\n",
      "            },\n",
      "            \"gpu_count_p100\": {\n",
      "                \"current\": 0,\n",
      "                \"limit\": 0\n",
      "            },\n",
      "            \"gpu_count_v100\": {\n",
      "                \"current\": 0,\n",
      "                \"limit\": 0\n",
      "            },\n",
      "            \"model_count\": {\n",
      "                \"current\": 0,\n",
      "                \"limit\": 200\n",
      "            },\n",
      "            \"prediction_count\": {\n",
      "                \"current\": 0,\n",
      "                \"limit\": 5000\n",
      "            }\n",
      "        },\n",
      "        \"tags\": null,\n",
      "        \"plan_id\": \"3f6acf43-ede8-413a-ac69-f8af3bb0cbfe\",\n",
      "        \"service_endpoints\": \"public\",\n",
      "        \"status\": \"Active\",\n",
      "        \"organization_guid\": \"N/A\",\n",
      "        \"region\": \"us-south\",\n",
      "        \"account\": {\n",
      "            \"id\": \"8e04f9b997b34612a259dfb287636845\",\n",
      "            \"name\": \"IBM\",\n",
      "            \"type\": \"TRIAL\"\n",
      "        },\n",
      "        \"owner\": {\n",
      "            \"beta_user\": true,\n",
      "            \"country_code\": \"BRA\",\n",
      "            \"email\": \"thiago.pires@ibm.com\",\n",
      "            \"ibm_id\": \"5500048FSX\",\n",
      "            \"user_id\": \"3da3782b-5003-41d8-bd20-251e4c9e8a80\"\n",
      "        },\n",
      "        \"deployments\": {\n",
      "            \"url\": \"https://us-south.ml.cloud.ibm.com/v3/wml_instances/6b0ac4ef-4319-4e87-8b47-bbac53d68fc2/deployments\"\n",
      "        },\n",
      "        \"space_guid\": \"N/A\",\n",
      "        \"plan\": \"lite\"\n",
      "    },\n",
      "    \"metadata\": {\n",
      "        \"created_at\": \"2020-08-25T20:34:47.712Z\",\n",
      "        \"modified_at\": \"2020-08-25T20:34:47.712Z\",\n",
      "        \"guid\": \"6b0ac4ef-4319-4e87-8b47-bbac53d68fc2\",\n",
      "        \"url\": \"https://us-south.ml.cloud.ibm.com/v3/wml_instances/6b0ac4ef-4319-4e87-8b47-bbac53d68fc2\"\n",
      "    }\n",
      "}\n"
     ]
    }
   ],
   "source": [
    "# Extraindo detalhes da sua instância do Watson Machine Learning\n",
    "\n",
    "instance_details = clientWML.service_instance.get_details()\n",
    "print(json.dumps(instance_details, indent=4))"
   ]
  },
  {
   "cell_type": "markdown",
   "metadata": {},
   "source": [
    "**ATENÇÃO!!**\n",
    "\n",
    "Fique atento para os limites de consumo de sua instância do Watson Machine Learning!\n",
    "\n",
    "Caso você expire a camada grátis, não será possível avaliar seu modelo (pois é necessária a realização de algumas chamadas de API que consomem predições!)"
   ]
  },
  {
   "cell_type": "markdown",
   "metadata": {},
   "source": [
    "#### Listando todos os artefatos armazenados no seu WML"
   ]
  },
  {
   "cell_type": "markdown",
   "metadata": {},
   "source": [
    "Para listar todos os artefatos armazenados em seu Watson Machine Learning, você pode usar a seguinte função:\n",
    "\n",
    "    clientWML.repository.list()"
   ]
  },
  {
   "cell_type": "code",
   "execution_count": 18,
   "metadata": {},
   "outputs": [
    {
     "name": "stdout",
     "output_type": "stream",
     "text": [
      "----  ----  -------  ---------  ----\n",
      "GUID  NAME  CREATED  FRAMEWORK  TYPE\n",
      "----  ----  -------  ---------  ----\n"
     ]
    }
   ],
   "source": [
    "# Listando todos os artefatos atualmente armazenados na sua instância do WML\n",
    "\n",
    "clientWML.repository.list()"
   ]
  },
  {
   "cell_type": "markdown",
   "metadata": {},
   "source": [
    "No plano LITE do Watson Machine Learning é permitido um número limitado de artefatos. Se for o caso de você já possuir um modelo online na sua instância, você pode apagá-lo utilizando o método clientWML.repository.delete():\n",
    "\n",
    "    artifact_guid = \"359c8951-d2fe-4063-8706-cc06b32d5e0d\"\n",
    "    clientWML.repository.delete(artifact_guid)"
   ]
  },
  {
   "cell_type": "markdown",
   "metadata": {},
   "source": [
    "#### Criando uma nova definição de pacote Python personalizado no WML"
   ]
  },
  {
   "cell_type": "markdown",
   "metadata": {},
   "source": [
    "O primeiro passo para realizar seu deploy é armazenar o código das transformações personalizadas criadas por você.\n",
    "\n",
    "Para essa etapa precisamos apenas do arquivo .zip do pacote criado (que já possuimos carregado no Kernel!)"
   ]
  },
  {
   "cell_type": "code",
   "execution_count": 19,
   "metadata": {},
   "outputs": [
    {
     "name": "stdout",
     "output_type": "stream",
     "text": [
      "\n",
      " Lista de artefatos de runtime armazenados no WML:\n",
      "------------------------------------  -----------------------------  ------------------------  ---------  --------------\n",
      "GUID                                  NAME                           CREATED                   FRAMEWORK  TYPE\n",
      "7d7cdf51-5eb3-4dc9-8582-07131178ae5a  my_custom_sklearn_transform_1  2020-08-25T20:37:54.343Z  -          python library\n",
      "------------------------------------  -----------------------------  ------------------------  ---------  --------------\n"
     ]
    }
   ],
   "source": [
    "# Definição de metadados do nosso pacote com as Transforms personalizadas\n",
    "pkg_meta = {\n",
    "    clientWML.runtimes.LibraryMetaNames.NAME: \"my_custom_sklearn_transform_1\",\n",
    "    clientWML.runtimes.LibraryMetaNames.DESCRIPTION: \"A custom sklearn transform\",\n",
    "    clientWML.runtimes.LibraryMetaNames.FILEPATH: \"sklearn_transforms.zip\",  # Note que estamos utilizando o .zip criado anteriormente!\n",
    "    clientWML.runtimes.LibraryMetaNames.VERSION: \"1.0\",\n",
    "    clientWML.runtimes.LibraryMetaNames.PLATFORM: { \"name\": \"python\", \"versions\": [\"3.6\"] }\n",
    "}\n",
    "custom_package_details = clientWML.runtimes.store_library( pkg_meta )\n",
    "custom_package_uid = clientWML.runtimes.get_library_uid( custom_package_details )\n",
    "\n",
    "print(\"\\n Lista de artefatos de runtime armazenados no WML:\")\n",
    "clientWML.repository.list()"
   ]
  },
  {
   "cell_type": "markdown",
   "metadata": {},
   "source": [
    "#### Criando uma nova definição de runtime Python personalizado no WML\n",
    "\n",
    "O segundo passo é armazenar uma definição de runtime Python para utilizar a nossa biblioteca personalizada.\n",
    "\n",
    "Isso pode ser feito da seguinte forma:"
   ]
  },
  {
   "cell_type": "code",
   "execution_count": 20,
   "metadata": {},
   "outputs": [
    {
     "name": "stdout",
     "output_type": "stream",
     "text": [
      "\n",
      " Detalhes do runtime armazenado:\n",
      "{\n",
      "    \"entity\": {\n",
      "        \"name\": \"my_custom_wml_runtime_1\",\n",
      "        \"description\": \"A Python runtime with custom sklearn Transforms\",\n",
      "        \"custom_libraries\": [\n",
      "            {\n",
      "                \"name\": \"my_custom_sklearn_transform_1\",\n",
      "                \"url\": \"https://private.us-south.ml.cloud.ibm.com/v4/libraries/7d7cdf51-5eb3-4dc9-8582-07131178ae5a\",\n",
      "                \"version\": \"1.0\"\n",
      "            }\n",
      "        ],\n",
      "        \"content_url\": \"https://private.us-south.ml.cloud.ibm.com/v4/runtimes/fa09d4e2-1393-48f2-bf5b-4b269965bec0/content\",\n",
      "        \"platform\": {\n",
      "            \"name\": \"python\",\n",
      "            \"version\": \"3.6\"\n",
      "        }\n",
      "    },\n",
      "    \"metadata\": {\n",
      "        \"created_at\": \"2020-08-25T20:37:57.032Z\",\n",
      "        \"guid\": \"fa09d4e2-1393-48f2-bf5b-4b269965bec0\",\n",
      "        \"url\": \"https://us-south.ml.cloud.ibm.com/v4/runtimes/fa09d4e2-1393-48f2-bf5b-4b269965bec0\"\n",
      "    }\n",
      "}\n"
     ]
    }
   ],
   "source": [
    "runtime_meta = {\n",
    "    clientWML.runtimes.ConfigurationMetaNames.NAME: \"my_custom_wml_runtime_1\",\n",
    "    clientWML.runtimes.ConfigurationMetaNames.DESCRIPTION: \"A Python runtime with custom sklearn Transforms\",\n",
    "    clientWML.runtimes.ConfigurationMetaNames.PLATFORM: {\n",
    "        \"name\": \"python\",\n",
    "        \"version\": \"3.6\"\n",
    "    },\n",
    "    clientWML.runtimes.ConfigurationMetaNames.LIBRARIES_UIDS: [ custom_package_uid ]\n",
    "}\n",
    "runtime_details = clientWML.runtimes.store( runtime_meta )\n",
    "custom_runtime_uid = clientWML.runtimes.get_uid( runtime_details )\n",
    "\n",
    "print(\"\\n Detalhes do runtime armazenado:\")\n",
    "print(json.dumps(runtime_details, indent=4))"
   ]
  },
  {
   "cell_type": "code",
   "execution_count": 21,
   "metadata": {},
   "outputs": [
    {
     "name": "stdout",
     "output_type": "stream",
     "text": [
      "------------------------------------  -----------------------  ------------------------  ----------\n",
      "GUID                                  NAME                     CREATED                   PLATFORM\n",
      "fa09d4e2-1393-48f2-bf5b-4b269965bec0  my_custom_wml_runtime_1  2020-08-25T20:37:57.032Z  python-3.6\n",
      "------------------------------------  -----------------------  ------------------------  ----------\n"
     ]
    }
   ],
   "source": [
    "# Listando todos runtimes armazenados no seu WML:\n",
    "clientWML.runtimes.list()"
   ]
  },
  {
   "cell_type": "markdown",
   "metadata": {},
   "source": [
    "#### Criando uma nova definição de Pipeline personalizada no WML\n",
    "\n",
    "Finalmente iremos criar uma definição (metadados) para a nossa Pipeline ser hospedada no WML.\n",
    "\n",
    "Definimos como parâmetros um nome para o artefato e o ID do runtime criado anteriormente."
   ]
  },
  {
   "cell_type": "code",
   "execution_count": 22,
   "metadata": {},
   "outputs": [],
   "source": [
    "model_meta = {\n",
    "    clientWML.repository.ModelMetaNames.NAME: 'desafio-2-mbtc2020-pipeline-1',\n",
    "    clientWML.repository.ModelMetaNames.DESCRIPTION: \"my pipeline for submission\",\n",
    "    clientWML.repository.ModelMetaNames.RUNTIME_UID: custom_runtime_uid\n",
    "}"
   ]
  },
  {
   "cell_type": "markdown",
   "metadata": {},
   "source": [
    "Em seguida chamamos o método para armazenar a nova definição:"
   ]
  },
  {
   "cell_type": "code",
   "execution_count": 23,
   "metadata": {},
   "outputs": [],
   "source": [
    "# Função para armazenar uma definição de Pipeline no WML\n",
    "stored_model_details = clientWML.repository.store_model(\n",
    "    model=my_pipeline,  # `my_pipeline` é a variável criada anteriormente e contém nossa Pipeline já treinada :)\n",
    "    meta_props=model_meta,  # Metadados definidos na célula anterior\n",
    "    training_data=None  # Não altere esse parâmetro\n",
    ")"
   ]
  },
  {
   "cell_type": "code",
   "execution_count": 24,
   "metadata": {},
   "outputs": [
    {
     "name": "stdout",
     "output_type": "stream",
     "text": [
      "\n",
      " Lista de artefatos armazenados no WML:\n",
      "------------------------------------  -----------------------------  ------------------------  -----------------  --------------\n",
      "GUID                                  NAME                           CREATED                   FRAMEWORK          TYPE\n",
      "db49bae0-280c-465f-86ad-8e486640d925  desafio-2-mbtc2020-pipeline-1  2020-08-25T20:38:11.955Z  scikit-learn-0.20  model\n",
      "7d7cdf51-5eb3-4dc9-8582-07131178ae5a  my_custom_sklearn_transform_1  2020-08-25T20:37:54.343Z  -                  python library\n",
      "fa09d4e2-1393-48f2-bf5b-4b269965bec0  my_custom_wml_runtime_1        2020-08-25T20:37:57.032Z  -                  python runtime\n",
      "------------------------------------  -----------------------------  ------------------------  -----------------  --------------\n",
      "\n",
      " Metadados do modelo armazenado:\n",
      "{\n",
      "    \"metadata\": {\n",
      "        \"guid\": \"db49bae0-280c-465f-86ad-8e486640d925\",\n",
      "        \"url\": \"https://us-south.ml.cloud.ibm.com/v3/wml_instances/6b0ac4ef-4319-4e87-8b47-bbac53d68fc2/published_models/db49bae0-280c-465f-86ad-8e486640d925\",\n",
      "        \"created_at\": \"2020-08-25T20:38:11.955Z\",\n",
      "        \"modified_at\": \"2020-08-25T20:38:12.026Z\"\n",
      "    },\n",
      "    \"entity\": {\n",
      "        \"runtime_environment\": \"python-3.6\",\n",
      "        \"learning_configuration_url\": \"https://us-south.ml.cloud.ibm.com/v3/wml_instances/6b0ac4ef-4319-4e87-8b47-bbac53d68fc2/published_models/db49bae0-280c-465f-86ad-8e486640d925/learning_configuration\",\n",
      "        \"name\": \"desafio-2-mbtc2020-pipeline-1\",\n",
      "        \"description\": \"my pipeline for submission\",\n",
      "        \"learning_iterations_url\": \"https://us-south.ml.cloud.ibm.com/v3/wml_instances/6b0ac4ef-4319-4e87-8b47-bbac53d68fc2/published_models/db49bae0-280c-465f-86ad-8e486640d925/learning_iterations\",\n",
      "        \"feedback_url\": \"https://us-south.ml.cloud.ibm.com/v3/wml_instances/6b0ac4ef-4319-4e87-8b47-bbac53d68fc2/published_models/db49bae0-280c-465f-86ad-8e486640d925/feedback\",\n",
      "        \"latest_version\": {\n",
      "            \"url\": \"https://us-south.ml.cloud.ibm.com/v3/ml_assets/models/db49bae0-280c-465f-86ad-8e486640d925/versions/d5ac8eee-c0d8-4b17-8838-73b7a82c6218\",\n",
      "            \"guid\": \"d5ac8eee-c0d8-4b17-8838-73b7a82c6218\",\n",
      "            \"created_at\": \"2020-08-25T20:38:12.026Z\"\n",
      "        },\n",
      "        \"model_type\": \"scikit-learn-0.20\",\n",
      "        \"deployments\": {\n",
      "            \"count\": 0,\n",
      "            \"url\": \"https://us-south.ml.cloud.ibm.com/v3/wml_instances/6b0ac4ef-4319-4e87-8b47-bbac53d68fc2/published_models/db49bae0-280c-465f-86ad-8e486640d925/deployments\"\n",
      "        },\n",
      "        \"evaluation_metrics_url\": \"https://us-south.ml.cloud.ibm.com/v3/wml_instances/6b0ac4ef-4319-4e87-8b47-bbac53d68fc2/published_models/db49bae0-280c-465f-86ad-8e486640d925/evaluation_metrics\",\n",
      "        \"runtime\": {\n",
      "            \"url\": \"https://us-south.ml.cloud.ibm.com/v4/runtimes/fa09d4e2-1393-48f2-bf5b-4b269965bec0\"\n",
      "        }\n",
      "    }\n",
      "}\n"
     ]
    }
   ],
   "source": [
    "print(\"\\n Lista de artefatos armazenados no WML:\")\n",
    "clientWML.repository.list()\n",
    "\n",
    "# Detalhes do modelo hospedado no Watson Machine Learning\n",
    "print(\"\\n Metadados do modelo armazenado:\")\n",
    "print(json.dumps(stored_model_details, indent=4))"
   ]
  },
  {
   "cell_type": "markdown",
   "metadata": {},
   "source": [
    "#### Realizando o deployment do seu modelo para consumo imediato por outras aplicações"
   ]
  },
  {
   "cell_type": "code",
   "execution_count": 25,
   "metadata": {},
   "outputs": [
    {
     "name": "stdout",
     "output_type": "stream",
     "text": [
      "\n",
      "\n",
      "#######################################################################################\n",
      "\n",
      "Synchronous deployment creation for uid: 'db49bae0-280c-465f-86ad-8e486640d925' started\n",
      "\n",
      "#######################################################################################\n",
      "\n",
      "\n",
      "INITIALIZING\n",
      "DEPLOY_IN_PROGRESS..\n",
      "DEPLOY_SUCCESS\n",
      "\n",
      "\n",
      "------------------------------------------------------------------------------------------------\n",
      "Successfully finished deployment creation, deployment_uid='d52419f1-fcd5-4136-ae4a-d99ee3dcab76'\n",
      "------------------------------------------------------------------------------------------------\n",
      "\n",
      "\n"
     ]
    }
   ],
   "source": [
    "# O deployment do modelo é finalmente realizado por meio do método ``deployments.create()``\n",
    "\n",
    "model_deployment_details = clientWML.deployments.create(\n",
    "    artifact_uid=stored_model_details[\"metadata\"][\"guid\"],  # Não altere esse parâmetro\n",
    "    name=\"desafio-2-mbtc2020-deployment-1\",\n",
    "    description=\"Solução do desafio 2 - MBTC\",\n",
    "    asynchronous=False,  # Não altere esse parâmetro\n",
    "    deployment_type='online',  # Não altere esse parâmetro\n",
    "    deployment_format='Core ML',  # Não altere esse parâmetro\n",
    "    meta_props=model_meta  # Não altere esse parâmetro\n",
    ")"
   ]
  },
  {
   "cell_type": "markdown",
   "metadata": {},
   "source": [
    "#### Testando um modelo hospedado no Watson Machine Learning"
   ]
  },
  {
   "cell_type": "code",
   "execution_count": 26,
   "metadata": {},
   "outputs": [
    {
     "name": "stdout",
     "output_type": "stream",
     "text": [
      "A URL de chamada da sua API é: https://us-south.ml.cloud.ibm.com/v3/wml_instances/6b0ac4ef-4319-4e87-8b47-bbac53d68fc2/deployments/d52419f1-fcd5-4136-ae4a-d99ee3dcab76/online\n"
     ]
    }
   ],
   "source": [
    "# Recuperando a URL endpoint do modelo hospedado na célula anterior\n",
    "\n",
    "model_endpoint_url = clientWML.deployments.get_scoring_url(model_deployment_details)\n",
    "print(\"A URL de chamada da sua API é: {}\".format(model_endpoint_url))"
   ]
  },
  {
   "cell_type": "markdown",
   "metadata": {},
   "source": [
    "### ATENÇÃO: Você irá precisar da URL acima para submeter seu modelo :)"
   ]
  },
  {
   "cell_type": "code",
   "execution_count": 27,
   "metadata": {},
   "outputs": [
    {
     "name": "stdout",
     "output_type": "stream",
     "text": [
      "Metadados do deployment realizado: \n",
      "\n",
      "{\n",
      "    \"metadata\": {\n",
      "        \"guid\": \"d52419f1-fcd5-4136-ae4a-d99ee3dcab76\",\n",
      "        \"url\": \"https://us-south.ml.cloud.ibm.com/v3/wml_instances/6b0ac4ef-4319-4e87-8b47-bbac53d68fc2/deployments/d52419f1-fcd5-4136-ae4a-d99ee3dcab76\",\n",
      "        \"created_at\": \"2020-08-25T20:38:25.643Z\",\n",
      "        \"modified_at\": \"2020-08-25T20:38:26.294Z\"\n",
      "    },\n",
      "    \"entity\": {\n",
      "        \"runtime_environment\": \"python-3.6\",\n",
      "        \"name\": \"desafio-2-mbtc2020-deployment-1\",\n",
      "        \"scoring_url\": \"https://us-south.ml.cloud.ibm.com/v3/wml_instances/6b0ac4ef-4319-4e87-8b47-bbac53d68fc2/deployments/d52419f1-fcd5-4136-ae4a-d99ee3dcab76/online\",\n",
      "        \"deployable_asset\": {\n",
      "            \"name\": \"desafio-2-mbtc2020-pipeline-1\",\n",
      "            \"url\": \"https://us-south.ml.cloud.ibm.com/v3/wml_instances/6b0ac4ef-4319-4e87-8b47-bbac53d68fc2/published_models/db49bae0-280c-465f-86ad-8e486640d925\",\n",
      "            \"guid\": \"db49bae0-280c-465f-86ad-8e486640d925\",\n",
      "            \"description\": \"my pipeline for submission\",\n",
      "            \"created_at\": \"2020-08-25T20:38:25.619Z\",\n",
      "            \"type\": \"model\"\n",
      "        },\n",
      "        \"description\": \"Solu\\u00e7\\u00e3o do desafio 2 - MBTC\",\n",
      "        \"status_details\": {\n",
      "            \"status\": \"DEPLOY_SUCCESS\"\n",
      "        },\n",
      "        \"model_type\": \"scikit-learn-0.20\",\n",
      "        \"status\": \"DEPLOY_SUCCESS\",\n",
      "        \"type\": \"online\",\n",
      "        \"deployed_version\": {\n",
      "            \"url\": \"https://us-south.ml.cloud.ibm.com/v3/ml_assets/models/db49bae0-280c-465f-86ad-8e486640d925/versions/d5ac8eee-c0d8-4b17-8838-73b7a82c6218\",\n",
      "            \"guid\": \"d5ac8eee-c0d8-4b17-8838-73b7a82c6218\"\n",
      "        }\n",
      "    }\n",
      "}\n"
     ]
    }
   ],
   "source": [
    "# Detalhes do deployment realizado\n",
    "\n",
    "deployment_details = clientWML.deployments.get_details(\n",
    "    deployment_uid=model_deployment_details[\"metadata\"][\"guid\"]  # esse é o ID do seu deployment!\n",
    ")\n",
    "\n",
    "print(\"Metadados do deployment realizado: \\n\")\n",
    "print(json.dumps(deployment_details, indent=4))"
   ]
  },
  {
   "cell_type": "markdown",
   "metadata": {},
   "source": [
    "### Realizando uma chamada de API para seu modelo armazenado no WML"
   ]
  },
  {
   "cell_type": "code",
   "execution_count": 28,
   "metadata": {},
   "outputs": [
    {
     "name": "stdout",
     "output_type": "stream",
     "text": [
      "\n",
      " Payload de dados a ser classificada:\n",
      "{\n",
      "    \"fields\": [\n",
      "        \"MATRICULA\",\n",
      "        \"NOME\",\n",
      "        \"REPROVACOES_DE\",\n",
      "        \"REPROVACOES_EM\",\n",
      "        \"REPROVACOES_MF\",\n",
      "        \"REPROVACOES_GO\",\n",
      "        \"NOTA_DE\",\n",
      "        \"NOTA_EM\",\n",
      "        \"NOTA_MF\",\n",
      "        \"NOTA_GO\",\n",
      "        \"INGLES\",\n",
      "        \"H_AULA_PRES\",\n",
      "        \"TAREFAS_ONLINE\",\n",
      "        \"FALTAS\"\n",
      "    ],\n",
      "    \"values\": [\n",
      "        [\n",
      "            513949,\n",
      "            \"Marli Qu\\u00e9sia de Oliveira\",\n",
      "            1,\n",
      "            1,\n",
      "            1,\n",
      "            1,\n",
      "            4.3,\n",
      "            4.0,\n",
      "            3.1,\n",
      "            4.9,\n",
      "            0,\n",
      "            3,\n",
      "            4,\n",
      "            3\n",
      "        ]\n",
      "    ]\n",
      "}\n"
     ]
    }
   ],
   "source": [
    "scoring_payload = {\n",
    "    'fields': [\n",
    "        \"MATRICULA\", \"NOME\", 'REPROVACOES_DE', 'REPROVACOES_EM', \"REPROVACOES_MF\", \"REPROVACOES_GO\",\n",
    "        \"NOTA_DE\", \"NOTA_EM\", \"NOTA_MF\", \"NOTA_GO\",\n",
    "        \"INGLES\", \"H_AULA_PRES\", \"TAREFAS_ONLINE\", \"FALTAS\", \n",
    "    ],\n",
    "    'values': [\n",
    "        [\n",
    "            513949,\"Marli Quésia de Oliveira\",1,1,1,1,4.3,4.0,3.1,4.9,0,3,4,3,\n",
    "        ]\n",
    "    ]\n",
    "}\n",
    "\n",
    "print(\"\\n Payload de dados a ser classificada:\")\n",
    "print(json.dumps(scoring_payload, indent=4))"
   ]
  },
  {
   "cell_type": "code",
   "execution_count": 29,
   "metadata": {},
   "outputs": [
    {
     "name": "stdout",
     "output_type": "stream",
     "text": [
      "\n",
      " Resultados:\n",
      "{\n",
      "    \"fields\": [\n",
      "        \"prediction\",\n",
      "        \"probability\"\n",
      "    ],\n",
      "    \"values\": [\n",
      "        [\n",
      "            \"DIFICULDADE\",\n",
      "            [\n",
      "                0.5891454815864563,\n",
      "                0.10409922897815704,\n",
      "                0.10198580473661423,\n",
      "                0.10151849687099457,\n",
      "                0.10325101017951965\n",
      "            ]\n",
      "        ]\n",
      "    ]\n",
      "}\n"
     ]
    }
   ],
   "source": [
    "result = clientWML.deployments.score(\n",
    "    model_endpoint_url,\n",
    "    scoring_payload\n",
    ")\n",
    "\n",
    "print(\"\\n Resultados:\")\n",
    "print(json.dumps(result, indent=4))"
   ]
  },
  {
   "cell_type": "markdown",
   "metadata": {},
   "source": [
    "<hr>\n",
    "\n",
    "## Parabéns! \n",
    "\n",
    "Se tudo foi executado sem erros, você já tem um classificador baseado em machine learning encapsulado como uma API REST!\n",
    "\n",
    "Para testar a sua solução integrada com um assistente virtual e realizar a submissão, acesse a página:\n",
    "\n",
    "# https://uninassau.maratona.dev\n",
    "\n",
    "Você irá precisar da endpoint url do seu modelo e das credenciais do WML :)"
   ]
  },
  {
   "cell_type": "code",
   "execution_count": null,
   "metadata": {},
   "outputs": [],
   "source": []
  }
 ],
 "metadata": {
  "kernelspec": {
   "display_name": "Python 3",
   "language": "python",
   "name": "python3"
  },
  "language_info": {
   "codemirror_mode": {
    "name": "ipython",
    "version": 3
   },
   "file_extension": ".py",
   "mimetype": "text/x-python",
   "name": "python",
   "nbconvert_exporter": "python",
   "pygments_lexer": "ipython3",
   "version": "3.7.5"
  }
 },
 "nbformat": 4,
 "nbformat_minor": 4
}
