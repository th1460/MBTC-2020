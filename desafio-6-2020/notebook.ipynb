{
 "cells": [
  {
   "cell_type": "code",
   "execution_count": null,
   "metadata": {},
   "outputs": [],
   "source": []
  },
  {
   "cell_type": "markdown",
   "metadata": {},
   "source": [
    "# MARATONA BEHIND THE CODE 2020\n",
    "\n",
    "## DESAFIO 6 - LIT"
   ]
  },
  {
   "cell_type": "markdown",
   "metadata": {},
   "source": [
    "<hr>"
   ]
  },
  {
   "cell_type": "markdown",
   "metadata": {},
   "source": [
    "## Installing Libs"
   ]
  },
  {
   "cell_type": "code",
   "execution_count": null,
   "metadata": {},
   "outputs": [],
   "source": [
    "!pip install scikit-learn --upgrade"
   ]
  },
  {
   "cell_type": "code",
   "execution_count": null,
   "metadata": {},
   "outputs": [],
   "source": [
    "!pip install xgboost --upgrade"
   ]
  },
  {
   "cell_type": "code",
   "execution_count": null,
   "metadata": {},
   "outputs": [],
   "source": [
    "!pip install imblearn --upgrade"
   ]
  },
  {
   "cell_type": "markdown",
   "metadata": {},
   "source": [
    "<hr>"
   ]
  },
  {
   "cell_type": "markdown",
   "metadata": {},
   "source": [
    "## Download dos conjuntos de dados em formato .csv"
   ]
  },
  {
   "cell_type": "code",
   "execution_count": 1,
   "metadata": {},
   "outputs": [],
   "source": [
    "import pandas as pd\n",
    "from lightgbm import LGBMClassifier"
   ]
  },
  {
   "cell_type": "code",
   "execution_count": 2,
   "metadata": {},
   "outputs": [
    {
     "data": {
      "text/html": [
       "<div>\n",
       "<style scoped>\n",
       "    .dataframe tbody tr th:only-of-type {\n",
       "        vertical-align: middle;\n",
       "    }\n",
       "\n",
       "    .dataframe tbody tr th {\n",
       "        vertical-align: top;\n",
       "    }\n",
       "\n",
       "    .dataframe thead th {\n",
       "        text-align: right;\n",
       "    }\n",
       "</style>\n",
       "<table border=\"1\" class=\"dataframe\">\n",
       "  <thead>\n",
       "    <tr style=\"text-align: right;\">\n",
       "      <th></th>\n",
       "      <th>id</th>\n",
       "      <th>graduacao</th>\n",
       "      <th>universidade</th>\n",
       "      <th>profissao</th>\n",
       "      <th>organizacao</th>\n",
       "      <th>pretende_fazer_cursos_lit</th>\n",
       "      <th>interesse_mba_lit</th>\n",
       "      <th>importante_ter_certificado</th>\n",
       "      <th>horas_semanais_estudo</th>\n",
       "      <th>como_conheceu_lit</th>\n",
       "      <th>total_modulos</th>\n",
       "      <th>modulos_iniciados</th>\n",
       "      <th>modulos_finalizados</th>\n",
       "      <th>certificados</th>\n",
       "      <th>categoria</th>\n",
       "    </tr>\n",
       "  </thead>\n",
       "  <tbody>\n",
       "    <tr>\n",
       "      <th>15852</th>\n",
       "      <td>620397030.0</td>\n",
       "      <td>Bacharelado</td>\n",
       "      <td>UFF</td>\n",
       "      <td>Outros</td>\n",
       "      <td>Borracha</td>\n",
       "      <td>0.0</td>\n",
       "      <td>0.0</td>\n",
       "      <td>1.0</td>\n",
       "      <td>8.0</td>\n",
       "      <td>NaN</td>\n",
       "      <td>10.0</td>\n",
       "      <td>NaN</td>\n",
       "      <td>NaN</td>\n",
       "      <td>NaN</td>\n",
       "      <td>perfil6</td>\n",
       "    </tr>\n",
       "    <tr>\n",
       "      <th>15853</th>\n",
       "      <td>229931283.0</td>\n",
       "      <td>Bacharelado</td>\n",
       "      <td>NaN</td>\n",
       "      <td>Advogado</td>\n",
       "      <td>NaN</td>\n",
       "      <td>0.0</td>\n",
       "      <td>0.0</td>\n",
       "      <td>1.0</td>\n",
       "      <td>7.0</td>\n",
       "      <td>Linkedin</td>\n",
       "      <td>42.0</td>\n",
       "      <td>17.0</td>\n",
       "      <td>15.0</td>\n",
       "      <td>NaN</td>\n",
       "      <td>perfil5</td>\n",
       "    </tr>\n",
       "    <tr>\n",
       "      <th>15854</th>\n",
       "      <td>480674907.0</td>\n",
       "      <td>Tecnólogo</td>\n",
       "      <td>UNIP</td>\n",
       "      <td>Sócio/Dono/Proprietário</td>\n",
       "      <td>NaN</td>\n",
       "      <td>0.0</td>\n",
       "      <td>NaN</td>\n",
       "      <td>1.0</td>\n",
       "      <td>7.0</td>\n",
       "      <td>Outros</td>\n",
       "      <td>30.0</td>\n",
       "      <td>9.0</td>\n",
       "      <td>8.0</td>\n",
       "      <td>0.0</td>\n",
       "      <td>perfil5</td>\n",
       "    </tr>\n",
       "    <tr>\n",
       "      <th>15855</th>\n",
       "      <td>559626807.0</td>\n",
       "      <td>SEM FORMAÇÃO</td>\n",
       "      <td>UNIVERSIDADE NOVE DE JULHO</td>\n",
       "      <td>Advogado</td>\n",
       "      <td>Estado</td>\n",
       "      <td>0.0</td>\n",
       "      <td>0.0</td>\n",
       "      <td>1.0</td>\n",
       "      <td>10.0</td>\n",
       "      <td>NaN</td>\n",
       "      <td>226.0</td>\n",
       "      <td>102.0</td>\n",
       "      <td>93.0</td>\n",
       "      <td>1.0</td>\n",
       "      <td>perfil1</td>\n",
       "    </tr>\n",
       "    <tr>\n",
       "      <th>15856</th>\n",
       "      <td>743652801.0</td>\n",
       "      <td>NaN</td>\n",
       "      <td>FGV-RJ</td>\n",
       "      <td>NaN</td>\n",
       "      <td>Siderurgica</td>\n",
       "      <td>1.0</td>\n",
       "      <td>1.0</td>\n",
       "      <td>1.0</td>\n",
       "      <td>9.0</td>\n",
       "      <td>Outros</td>\n",
       "      <td>125.0</td>\n",
       "      <td>98.0</td>\n",
       "      <td>97.0</td>\n",
       "      <td>1.0</td>\n",
       "      <td>perfil1</td>\n",
       "    </tr>\n",
       "  </tbody>\n",
       "</table>\n",
       "</div>"
      ],
      "text/plain": [
       "                id     graduacao                universidade  \\\n",
       "15852  620397030.0   Bacharelado                         UFF   \n",
       "15853  229931283.0   Bacharelado                         NaN   \n",
       "15854  480674907.0     Tecnólogo                        UNIP   \n",
       "15855  559626807.0  SEM FORMAÇÃO  UNIVERSIDADE NOVE DE JULHO   \n",
       "15856  743652801.0           NaN                      FGV-RJ   \n",
       "\n",
       "                     profissao  organizacao  pretende_fazer_cursos_lit  \\\n",
       "15852                   Outros     Borracha                        0.0   \n",
       "15853                 Advogado          NaN                        0.0   \n",
       "15854  Sócio/Dono/Proprietário          NaN                        0.0   \n",
       "15855                 Advogado       Estado                        0.0   \n",
       "15856                      NaN  Siderurgica                        1.0   \n",
       "\n",
       "       interesse_mba_lit  importante_ter_certificado  horas_semanais_estudo  \\\n",
       "15852                0.0                         1.0                    8.0   \n",
       "15853                0.0                         1.0                    7.0   \n",
       "15854                NaN                         1.0                    7.0   \n",
       "15855                0.0                         1.0                   10.0   \n",
       "15856                1.0                         1.0                    9.0   \n",
       "\n",
       "      como_conheceu_lit  total_modulos  modulos_iniciados  \\\n",
       "15852               NaN           10.0                NaN   \n",
       "15853          Linkedin           42.0               17.0   \n",
       "15854            Outros           30.0                9.0   \n",
       "15855               NaN          226.0              102.0   \n",
       "15856            Outros          125.0               98.0   \n",
       "\n",
       "       modulos_finalizados  certificados categoria  \n",
       "15852                  NaN           NaN   perfil6  \n",
       "15853                 15.0           NaN   perfil5  \n",
       "15854                  8.0           0.0   perfil5  \n",
       "15855                 93.0           1.0   perfil1  \n",
       "15856                 97.0           1.0   perfil1  "
      ]
     },
     "execution_count": 2,
     "metadata": {},
     "output_type": "execute_result"
    }
   ],
   "source": [
    "#!wget --no-check-certificate --content-disposition https://raw.githubusercontent.com/vanderlei-test/dataset-3/master/training_dataset.csv\n",
    "df_training_dataset = pd.read_csv(r'dataset/training_dataset.csv')\n",
    "df_training_dataset.tail()"
   ]
  },
  {
   "cell_type": "markdown",
   "metadata": {},
   "source": [
    "Sobre o arquivo \"training_dataset.csv\", temos algumas informações gerais sobre os usuários da plataforma:\n",
    "\n",
    "**id**\n",
    "\n",
    "**graduacao**\n",
    "\n",
    "**universidade**\n",
    "\n",
    "**profissao**\n",
    "\n",
    "**organizacao**\n",
    "\n",
    "**pretende_fazer_cursos_lit**\n",
    "\n",
    "**interesse_mba_lit**\n",
    "\n",
    "**importante_ter_certificado**\n",
    "\n",
    "**horas_semanais_estudo**\n",
    "\n",
    "**como_conheceu_lit**\n",
    "\n",
    "**total_modulos**\n",
    "\n",
    "**modulos_iniciados**\n",
    "\n",
    "**modulos_finalizados**\n",
    "\n",
    "**certificados**\n",
    "\n",
    "**categoria**"
   ]
  },
  {
   "cell_type": "code",
   "execution_count": 3,
   "metadata": {},
   "outputs": [
    {
     "name": "stdout",
     "output_type": "stream",
     "text": [
      "<class 'pandas.core.frame.DataFrame'>\n",
      "RangeIndex: 15857 entries, 0 to 15856\n",
      "Data columns (total 15 columns):\n",
      " #   Column                      Non-Null Count  Dtype  \n",
      "---  ------                      --------------  -----  \n",
      " 0   id                          13945 non-null  float64\n",
      " 1   graduacao                   13950 non-null  object \n",
      " 2   universidade                13920 non-null  object \n",
      " 3   profissao                   13977 non-null  object \n",
      " 4   organizacao                 13961 non-null  object \n",
      " 5   pretende_fazer_cursos_lit   13989 non-null  float64\n",
      " 6   interesse_mba_lit           14003 non-null  float64\n",
      " 7   importante_ter_certificado  13918 non-null  float64\n",
      " 8   horas_semanais_estudo       13959 non-null  float64\n",
      " 9   como_conheceu_lit           13915 non-null  object \n",
      " 10  total_modulos               13987 non-null  float64\n",
      " 11  modulos_iniciados           14044 non-null  float64\n",
      " 12  modulos_finalizados         13924 non-null  float64\n",
      " 13  certificados                13979 non-null  float64\n",
      " 14  categoria                   15857 non-null  object \n",
      "dtypes: float64(9), object(6)\n",
      "memory usage: 1.8+ MB\n"
     ]
    }
   ],
   "source": [
    "df_training_dataset.info()"
   ]
  },
  {
   "cell_type": "code",
   "execution_count": 4,
   "metadata": {},
   "outputs": [
    {
     "data": {
      "text/plain": [
       "id                            13945\n",
       "graduacao                         6\n",
       "universidade                     21\n",
       "profissao                        12\n",
       "organizacao                      11\n",
       "pretende_fazer_cursos_lit         2\n",
       "interesse_mba_lit                 2\n",
       "importante_ter_certificado        1\n",
       "horas_semanais_estudo             9\n",
       "como_conheceu_lit                 9\n",
       "total_modulos                   578\n",
       "modulos_iniciados               372\n",
       "modulos_finalizados             339\n",
       "certificados                     23\n",
       "categoria                         6\n",
       "dtype: int64"
      ]
     },
     "execution_count": 4,
     "metadata": {},
     "output_type": "execute_result"
    }
   ],
   "source": [
    "df_training_dataset.nunique()"
   ]
  },
  {
   "cell_type": "markdown",
   "metadata": {},
   "source": [
    "<hr>\n",
    "\n",
    "## Detalhamento do desafio: classificação multiclasse\n",
    "\n",
    "Este é um desafio cujo objetivo de negócio é a segmentação dos usuários de uma plataforma de ensino. Para tal, podemos utilizar duas abordagens: aprendizado de máquina supervisionado (classificação) ou não-supervisionado (clustering). Neste desafio será aplicada a classificação, pois é disponível um dataset já com \"labels\", ou em outras palavras, já com exemplos de dados juntamente com a variável alvo.\n",
    "\n",
    "Na biblioteca scikit-learn temos diversos algoritmos para classificação. O participante é livre para utilizar o framework que desejar para completar esse desafio.\n",
    "\n",
    "Neste notebook será mostrado um exeplo de uso do algoritmo \"Decision Tree\" para classificar parte dos estudantes em seis diferentes perfís."
   ]
  },
  {
   "cell_type": "markdown",
   "metadata": {},
   "source": [
    "# Atenção!\n",
    "\n",
    "A coluna-alvo neste desafio é a coluna ``categoria``"
   ]
  },
  {
   "cell_type": "markdown",
   "metadata": {},
   "source": [
    "<hr>"
   ]
  },
  {
   "cell_type": "code",
   "execution_count": null,
   "metadata": {},
   "outputs": [],
   "source": []
  },
  {
   "cell_type": "code",
   "execution_count": null,
   "metadata": {},
   "outputs": [],
   "source": []
  },
  {
   "cell_type": "code",
   "execution_count": null,
   "metadata": {},
   "outputs": [],
   "source": []
  },
  {
   "cell_type": "markdown",
   "metadata": {},
   "source": [
    "## Pre-processando o dataset antes do treinamento"
   ]
  },
  {
   "cell_type": "markdown",
   "metadata": {},
   "source": [
    "### Removendo todas as linhas que possuem algum valor nulos em determinadas colunas"
   ]
  },
  {
   "cell_type": "markdown",
   "metadata": {},
   "source": [
    "Usando o método Pandas **DataFrame.dropna()** você pode remover todas as linhas nulas do dataset.\n",
    "\n",
    "Docs: https://pandas.pydata.org/pandas-docs/stable/reference/api/pandas.DataFrame.dropna.html"
   ]
  },
  {
   "cell_type": "code",
   "execution_count": 5,
   "metadata": {},
   "outputs": [
    {
     "name": "stdout",
     "output_type": "stream",
     "text": [
      "Valores nulos no df_training_dataset antes da transformação DropNA: \n",
      "\n",
      "id                            1912\n",
      "graduacao                     1907\n",
      "universidade                  1937\n",
      "profissao                     1880\n",
      "organizacao                   1896\n",
      "pretende_fazer_cursos_lit     1868\n",
      "interesse_mba_lit             1854\n",
      "importante_ter_certificado    1939\n",
      "horas_semanais_estudo         1898\n",
      "como_conheceu_lit             1942\n",
      "total_modulos                 1870\n",
      "modulos_iniciados             1813\n",
      "modulos_finalizados           1933\n",
      "certificados                  1878\n",
      "categoria                        0\n",
      "dtype: int64\n",
      "\n"
     ]
    }
   ],
   "source": [
    "# Exibindo os dados ausentes do conjunto de dados antes da primeira transformação (df)\n",
    "print(\"Valores nulos no df_training_dataset antes da transformação DropNA: \\n\\n{}\\n\".format(df_training_dataset.isnull().sum(axis = 0)))"
   ]
  },
  {
   "cell_type": "code",
   "execution_count": 8,
   "metadata": {},
   "outputs": [],
   "source": [
    "# Aplicando a função para deletar todas as linhas com valor NaN na coluna ``certificados'' e ``total_modulos'':\n",
    "#df_training_dataset = df_training_dataset.dropna(axis='index', how='any', subset=['certificados', 'total_modulos'])"
   ]
  },
  {
   "cell_type": "code",
   "execution_count": 6,
   "metadata": {
    "scrolled": true
   },
   "outputs": [
    {
     "name": "stdout",
     "output_type": "stream",
     "text": [
      "Valores nulos no df_training_dataset após a transformação DropNA: \n",
      "\n",
      "id                            1912\n",
      "graduacao                     1907\n",
      "universidade                  1937\n",
      "profissao                     1880\n",
      "organizacao                   1896\n",
      "pretende_fazer_cursos_lit     1868\n",
      "interesse_mba_lit             1854\n",
      "importante_ter_certificado    1939\n",
      "horas_semanais_estudo         1898\n",
      "como_conheceu_lit             1942\n",
      "total_modulos                 1870\n",
      "modulos_iniciados             1813\n",
      "modulos_finalizados           1933\n",
      "certificados                  1878\n",
      "categoria                        0\n",
      "dtype: int64\n",
      "\n"
     ]
    }
   ],
   "source": [
    "# Exibindo os dados ausentes do conjunto de dados após a primeira transformação (df)\n",
    "print(\"Valores nulos no df_training_dataset após a transformação DropNA: \\n\\n{}\\n\".format(df_training_dataset.isnull().sum(axis = 0)))"
   ]
  },
  {
   "cell_type": "markdown",
   "metadata": {},
   "source": [
    "### Processando valores NaN com o SimpleImputer do sklearn\n",
    "\n",
    "Para os valores NaN, usaremos a substituição pela constante 0 como **exemplo**.\n",
    "\n",
    "Você pode escolher a estratégia que achar melhor para tratar os valores nulos :)\n",
    "\n",
    "Docs: https://scikit-learn.org/stable/modules/generated/sklearn.impute.SimpleImputer.html?highlight=simpleimputer#sklearn.impute.SimpleImputer"
   ]
  },
  {
   "cell_type": "code",
   "execution_count": 7,
   "metadata": {},
   "outputs": [],
   "source": [
    "from sklearn.impute import SimpleImputer\n",
    "import numpy as np\n",
    "\n",
    "\n",
    "impute_zeros = SimpleImputer(\n",
    "    missing_values=np.nan,\n",
    "    strategy='constant',\n",
    "    fill_value=0,\n",
    "    verbose=0,\n",
    "    copy=True\n",
    ")"
   ]
  },
  {
   "cell_type": "code",
   "execution_count": 8,
   "metadata": {},
   "outputs": [
    {
     "name": "stdout",
     "output_type": "stream",
     "text": [
      "Valores nulos no df_training_dataset antes da transformação SimpleImputer: \n",
      "\n",
      "id                            1912\n",
      "graduacao                     1907\n",
      "universidade                  1937\n",
      "profissao                     1880\n",
      "organizacao                   1896\n",
      "pretende_fazer_cursos_lit     1868\n",
      "interesse_mba_lit             1854\n",
      "importante_ter_certificado    1939\n",
      "horas_semanais_estudo         1898\n",
      "como_conheceu_lit             1942\n",
      "total_modulos                 1870\n",
      "modulos_iniciados             1813\n",
      "modulos_finalizados           1933\n",
      "certificados                  1878\n",
      "categoria                        0\n",
      "dtype: int64\n",
      "\n",
      "Valores nulos no df_training_dataset após a transformação SimpleImputer: \n",
      "\n",
      "id                            0\n",
      "graduacao                     0\n",
      "universidade                  0\n",
      "profissao                     0\n",
      "organizacao                   0\n",
      "pretende_fazer_cursos_lit     0\n",
      "interesse_mba_lit             0\n",
      "importante_ter_certificado    0\n",
      "horas_semanais_estudo         0\n",
      "como_conheceu_lit             0\n",
      "total_modulos                 0\n",
      "modulos_iniciados             0\n",
      "modulos_finalizados           0\n",
      "certificados                  0\n",
      "categoria                     0\n",
      "dtype: int64\n",
      "\n"
     ]
    }
   ],
   "source": [
    "# Exibindo os dados ausentes do conjunto de dados antes da primeira transformação (df)\n",
    "print(\"Valores nulos no df_training_dataset antes da transformação SimpleImputer: \\n\\n{}\\n\".format(df_training_dataset.isnull().sum(axis = 0)))\n",
    "\n",
    "# Aplicando a transformação ``SimpleImputer`` no conjunto de dados base\n",
    "impute_zeros.fit(X=df_training_dataset)\n",
    "\n",
    "# Reconstruindo um Pandas DataFrame com os resultados\n",
    "df_training_dataset_imputed = pd.DataFrame.from_records(\n",
    "    data=impute_zeros.transform(\n",
    "        X=df_training_dataset\n",
    "    ),\n",
    "    columns=df_training_dataset.columns\n",
    ")\n",
    "\n",
    "# Exibindo os dados ausentes do conjunto de dados após a primeira transformação (df)\n",
    "print(\"Valores nulos no df_training_dataset após a transformação SimpleImputer: \\n\\n{}\\n\".format(df_training_dataset_imputed.isnull().sum(axis = 0)))"
   ]
  },
  {
   "cell_type": "markdown",
   "metadata": {},
   "source": [
    "### Eliminando colunas indesejadas\n",
    "\n",
    "Vamos **demonstrar** abaixo como usar o método **DataFrame.drop()**.\n",
    "\n",
    "Docs: https://pandas.pydata.org/pandas-docs/stable/reference/api/pandas.DataFrame.drop.html"
   ]
  },
  {
   "cell_type": "code",
   "execution_count": 9,
   "metadata": {},
   "outputs": [
    {
     "data": {
      "text/html": [
       "<div>\n",
       "<style scoped>\n",
       "    .dataframe tbody tr th:only-of-type {\n",
       "        vertical-align: middle;\n",
       "    }\n",
       "\n",
       "    .dataframe tbody tr th {\n",
       "        vertical-align: top;\n",
       "    }\n",
       "\n",
       "    .dataframe thead th {\n",
       "        text-align: right;\n",
       "    }\n",
       "</style>\n",
       "<table border=\"1\" class=\"dataframe\">\n",
       "  <thead>\n",
       "    <tr style=\"text-align: right;\">\n",
       "      <th></th>\n",
       "      <th>id</th>\n",
       "      <th>graduacao</th>\n",
       "      <th>universidade</th>\n",
       "      <th>profissao</th>\n",
       "      <th>organizacao</th>\n",
       "      <th>pretende_fazer_cursos_lit</th>\n",
       "      <th>interesse_mba_lit</th>\n",
       "      <th>importante_ter_certificado</th>\n",
       "      <th>horas_semanais_estudo</th>\n",
       "      <th>como_conheceu_lit</th>\n",
       "      <th>total_modulos</th>\n",
       "      <th>modulos_iniciados</th>\n",
       "      <th>modulos_finalizados</th>\n",
       "      <th>certificados</th>\n",
       "      <th>categoria</th>\n",
       "    </tr>\n",
       "  </thead>\n",
       "  <tbody>\n",
       "    <tr>\n",
       "      <th>15852</th>\n",
       "      <td>620397030.0</td>\n",
       "      <td>Bacharelado</td>\n",
       "      <td>UFF</td>\n",
       "      <td>Outros</td>\n",
       "      <td>Borracha</td>\n",
       "      <td>0.0</td>\n",
       "      <td>0.0</td>\n",
       "      <td>1.0</td>\n",
       "      <td>8.0</td>\n",
       "      <td>0</td>\n",
       "      <td>10.0</td>\n",
       "      <td>0.0</td>\n",
       "      <td>0.0</td>\n",
       "      <td>0.0</td>\n",
       "      <td>perfil6</td>\n",
       "    </tr>\n",
       "    <tr>\n",
       "      <th>15853</th>\n",
       "      <td>229931283.0</td>\n",
       "      <td>Bacharelado</td>\n",
       "      <td>0</td>\n",
       "      <td>Advogado</td>\n",
       "      <td>0</td>\n",
       "      <td>0.0</td>\n",
       "      <td>0.0</td>\n",
       "      <td>1.0</td>\n",
       "      <td>7.0</td>\n",
       "      <td>Linkedin</td>\n",
       "      <td>42.0</td>\n",
       "      <td>17.0</td>\n",
       "      <td>15.0</td>\n",
       "      <td>0.0</td>\n",
       "      <td>perfil5</td>\n",
       "    </tr>\n",
       "    <tr>\n",
       "      <th>15854</th>\n",
       "      <td>480674907.0</td>\n",
       "      <td>Tecnólogo</td>\n",
       "      <td>UNIP</td>\n",
       "      <td>Sócio/Dono/Proprietário</td>\n",
       "      <td>0</td>\n",
       "      <td>0.0</td>\n",
       "      <td>0.0</td>\n",
       "      <td>1.0</td>\n",
       "      <td>7.0</td>\n",
       "      <td>Outros</td>\n",
       "      <td>30.0</td>\n",
       "      <td>9.0</td>\n",
       "      <td>8.0</td>\n",
       "      <td>0.0</td>\n",
       "      <td>perfil5</td>\n",
       "    </tr>\n",
       "    <tr>\n",
       "      <th>15855</th>\n",
       "      <td>559626807.0</td>\n",
       "      <td>SEM FORMAÇÃO</td>\n",
       "      <td>UNIVERSIDADE NOVE DE JULHO</td>\n",
       "      <td>Advogado</td>\n",
       "      <td>Estado</td>\n",
       "      <td>0.0</td>\n",
       "      <td>0.0</td>\n",
       "      <td>1.0</td>\n",
       "      <td>10.0</td>\n",
       "      <td>0</td>\n",
       "      <td>226.0</td>\n",
       "      <td>102.0</td>\n",
       "      <td>93.0</td>\n",
       "      <td>1.0</td>\n",
       "      <td>perfil1</td>\n",
       "    </tr>\n",
       "    <tr>\n",
       "      <th>15856</th>\n",
       "      <td>743652801.0</td>\n",
       "      <td>0</td>\n",
       "      <td>FGV-RJ</td>\n",
       "      <td>0</td>\n",
       "      <td>Siderurgica</td>\n",
       "      <td>1.0</td>\n",
       "      <td>1.0</td>\n",
       "      <td>1.0</td>\n",
       "      <td>9.0</td>\n",
       "      <td>Outros</td>\n",
       "      <td>125.0</td>\n",
       "      <td>98.0</td>\n",
       "      <td>97.0</td>\n",
       "      <td>1.0</td>\n",
       "      <td>perfil1</td>\n",
       "    </tr>\n",
       "  </tbody>\n",
       "</table>\n",
       "</div>"
      ],
      "text/plain": [
       "                id     graduacao                universidade  \\\n",
       "15852  620397030.0   Bacharelado                         UFF   \n",
       "15853  229931283.0   Bacharelado                           0   \n",
       "15854  480674907.0     Tecnólogo                        UNIP   \n",
       "15855  559626807.0  SEM FORMAÇÃO  UNIVERSIDADE NOVE DE JULHO   \n",
       "15856  743652801.0             0                      FGV-RJ   \n",
       "\n",
       "                     profissao  organizacao  pretende_fazer_cursos_lit  \\\n",
       "15852                   Outros     Borracha                        0.0   \n",
       "15853                 Advogado            0                        0.0   \n",
       "15854  Sócio/Dono/Proprietário            0                        0.0   \n",
       "15855                 Advogado       Estado                        0.0   \n",
       "15856                        0  Siderurgica                        1.0   \n",
       "\n",
       "       interesse_mba_lit  importante_ter_certificado  horas_semanais_estudo  \\\n",
       "15852                0.0                         1.0                    8.0   \n",
       "15853                0.0                         1.0                    7.0   \n",
       "15854                0.0                         1.0                    7.0   \n",
       "15855                0.0                         1.0                   10.0   \n",
       "15856                1.0                         1.0                    9.0   \n",
       "\n",
       "      como_conheceu_lit  total_modulos  modulos_iniciados  \\\n",
       "15852                 0           10.0                0.0   \n",
       "15853          Linkedin           42.0               17.0   \n",
       "15854            Outros           30.0                9.0   \n",
       "15855                 0          226.0              102.0   \n",
       "15856            Outros          125.0               98.0   \n",
       "\n",
       "       modulos_finalizados  certificados categoria  \n",
       "15852                  0.0           0.0   perfil6  \n",
       "15853                 15.0           0.0   perfil5  \n",
       "15854                  8.0           0.0   perfil5  \n",
       "15855                 93.0           1.0   perfil1  \n",
       "15856                 97.0           1.0   perfil1  "
      ]
     },
     "execution_count": 9,
     "metadata": {},
     "output_type": "execute_result"
    }
   ],
   "source": [
    "df_training_dataset_imputed.tail()"
   ]
  },
  {
   "cell_type": "code",
   "execution_count": 41,
   "metadata": {},
   "outputs": [],
   "source": [
    "df_training_dataset_rmcolumns = df_training_dataset_imputed.drop(columns=['id'], inplace=False)"
   ]
  },
  {
   "cell_type": "code",
   "execution_count": 42,
   "metadata": {},
   "outputs": [
    {
     "data": {
      "text/html": [
       "<div>\n",
       "<style scoped>\n",
       "    .dataframe tbody tr th:only-of-type {\n",
       "        vertical-align: middle;\n",
       "    }\n",
       "\n",
       "    .dataframe tbody tr th {\n",
       "        vertical-align: top;\n",
       "    }\n",
       "\n",
       "    .dataframe thead th {\n",
       "        text-align: right;\n",
       "    }\n",
       "</style>\n",
       "<table border=\"1\" class=\"dataframe\">\n",
       "  <thead>\n",
       "    <tr style=\"text-align: right;\">\n",
       "      <th></th>\n",
       "      <th>graduacao</th>\n",
       "      <th>universidade</th>\n",
       "      <th>profissao</th>\n",
       "      <th>organizacao</th>\n",
       "      <th>pretende_fazer_cursos_lit</th>\n",
       "      <th>interesse_mba_lit</th>\n",
       "      <th>importante_ter_certificado</th>\n",
       "      <th>horas_semanais_estudo</th>\n",
       "      <th>como_conheceu_lit</th>\n",
       "      <th>total_modulos</th>\n",
       "      <th>modulos_iniciados</th>\n",
       "      <th>modulos_finalizados</th>\n",
       "      <th>certificados</th>\n",
       "      <th>categoria</th>\n",
       "    </tr>\n",
       "  </thead>\n",
       "  <tbody>\n",
       "    <tr>\n",
       "      <th>15852</th>\n",
       "      <td>Bacharelado</td>\n",
       "      <td>UFF</td>\n",
       "      <td>Outros</td>\n",
       "      <td>Borracha</td>\n",
       "      <td>0.0</td>\n",
       "      <td>0.0</td>\n",
       "      <td>1.0</td>\n",
       "      <td>8.0</td>\n",
       "      <td>0</td>\n",
       "      <td>10.0</td>\n",
       "      <td>0.0</td>\n",
       "      <td>0.0</td>\n",
       "      <td>0.0</td>\n",
       "      <td>perfil6</td>\n",
       "    </tr>\n",
       "    <tr>\n",
       "      <th>15853</th>\n",
       "      <td>Bacharelado</td>\n",
       "      <td>0</td>\n",
       "      <td>Advogado</td>\n",
       "      <td>0</td>\n",
       "      <td>0.0</td>\n",
       "      <td>0.0</td>\n",
       "      <td>1.0</td>\n",
       "      <td>7.0</td>\n",
       "      <td>Linkedin</td>\n",
       "      <td>42.0</td>\n",
       "      <td>17.0</td>\n",
       "      <td>15.0</td>\n",
       "      <td>0.0</td>\n",
       "      <td>perfil5</td>\n",
       "    </tr>\n",
       "    <tr>\n",
       "      <th>15854</th>\n",
       "      <td>Tecnólogo</td>\n",
       "      <td>UNIP</td>\n",
       "      <td>Sócio/Dono/Proprietário</td>\n",
       "      <td>0</td>\n",
       "      <td>0.0</td>\n",
       "      <td>0.0</td>\n",
       "      <td>1.0</td>\n",
       "      <td>7.0</td>\n",
       "      <td>Outros</td>\n",
       "      <td>30.0</td>\n",
       "      <td>9.0</td>\n",
       "      <td>8.0</td>\n",
       "      <td>0.0</td>\n",
       "      <td>perfil5</td>\n",
       "    </tr>\n",
       "    <tr>\n",
       "      <th>15855</th>\n",
       "      <td>SEM FORMAÇÃO</td>\n",
       "      <td>UNIVERSIDADE NOVE DE JULHO</td>\n",
       "      <td>Advogado</td>\n",
       "      <td>Estado</td>\n",
       "      <td>0.0</td>\n",
       "      <td>0.0</td>\n",
       "      <td>1.0</td>\n",
       "      <td>10.0</td>\n",
       "      <td>0</td>\n",
       "      <td>226.0</td>\n",
       "      <td>102.0</td>\n",
       "      <td>93.0</td>\n",
       "      <td>1.0</td>\n",
       "      <td>perfil1</td>\n",
       "    </tr>\n",
       "    <tr>\n",
       "      <th>15856</th>\n",
       "      <td>0</td>\n",
       "      <td>FGV-RJ</td>\n",
       "      <td>0</td>\n",
       "      <td>Siderurgica</td>\n",
       "      <td>1.0</td>\n",
       "      <td>1.0</td>\n",
       "      <td>1.0</td>\n",
       "      <td>9.0</td>\n",
       "      <td>Outros</td>\n",
       "      <td>125.0</td>\n",
       "      <td>98.0</td>\n",
       "      <td>97.0</td>\n",
       "      <td>1.0</td>\n",
       "      <td>perfil1</td>\n",
       "    </tr>\n",
       "  </tbody>\n",
       "</table>\n",
       "</div>"
      ],
      "text/plain": [
       "          graduacao                universidade                profissao  \\\n",
       "15852   Bacharelado                         UFF                   Outros   \n",
       "15853   Bacharelado                           0                 Advogado   \n",
       "15854     Tecnólogo                        UNIP  Sócio/Dono/Proprietário   \n",
       "15855  SEM FORMAÇÃO  UNIVERSIDADE NOVE DE JULHO                 Advogado   \n",
       "15856             0                      FGV-RJ                        0   \n",
       "\n",
       "       organizacao  pretende_fazer_cursos_lit  interesse_mba_lit  \\\n",
       "15852     Borracha                        0.0                0.0   \n",
       "15853            0                        0.0                0.0   \n",
       "15854            0                        0.0                0.0   \n",
       "15855       Estado                        0.0                0.0   \n",
       "15856  Siderurgica                        1.0                1.0   \n",
       "\n",
       "       importante_ter_certificado  horas_semanais_estudo como_conheceu_lit  \\\n",
       "15852                         1.0                    8.0                 0   \n",
       "15853                         1.0                    7.0          Linkedin   \n",
       "15854                         1.0                    7.0            Outros   \n",
       "15855                         1.0                   10.0                 0   \n",
       "15856                         1.0                    9.0            Outros   \n",
       "\n",
       "       total_modulos  modulos_iniciados  modulos_finalizados  certificados  \\\n",
       "15852           10.0                0.0                  0.0           0.0   \n",
       "15853           42.0               17.0                 15.0           0.0   \n",
       "15854           30.0                9.0                  8.0           0.0   \n",
       "15855          226.0              102.0                 93.0           1.0   \n",
       "15856          125.0               98.0                 97.0           1.0   \n",
       "\n",
       "      categoria  \n",
       "15852   perfil6  \n",
       "15853   perfil5  \n",
       "15854   perfil5  \n",
       "15855   perfil1  \n",
       "15856   perfil1  "
      ]
     },
     "execution_count": 42,
     "metadata": {},
     "output_type": "execute_result"
    }
   ],
   "source": [
    "df_training_dataset_rmcolumns.tail()"
   ]
  },
  {
   "cell_type": "markdown",
   "metadata": {},
   "source": [
    "# Atenção!\n",
    "\n",
    "As colunas removidas acima são apenas para fim de exemplo, você pode usar as colunas que quiser e inclusive criar novas colunas com dados que achar importantes!\n"
   ]
  },
  {
   "cell_type": "markdown",
   "metadata": {},
   "source": [
    "### Tratamento de de variáveis categóricas\n",
    "\n",
    "Como mencionado antes, os computadores não são bons com variáveis \"categóricas\" (ou strings).\n",
    "\n",
    "Dado uma coluna com variável categórica, o que podemos realizar é a codificação dessa coluna em múltiplas colunas contendo variáveis binárias. Esse processo é chamado de \"one-hot-encoding\" ou \"dummy encoding\". Se você não é familiarizado com esses termos, você pode pesquisar mais sobre isso na internet :)"
   ]
  },
  {
   "cell_type": "code",
   "execution_count": 43,
   "metadata": {},
   "outputs": [],
   "source": [
    "# Tratando variáveis categóricas com o método Pandas ``get_dummies()''\n",
    "# df_training = pd.get_dummies(df_training_dataset_rmcolumns, columns=['profissao'])\n",
    "# df_training.tail()\n",
    "df_training = df_training_dataset_rmcolumns.copy()"
   ]
  },
  {
   "cell_type": "markdown",
   "metadata": {},
   "source": [
    "# Atenção!\n",
    "\n",
    "A coluna **categoria** deve ser mantida como uma string. Você não precisa processar/codificar a variável-alvo."
   ]
  },
  {
   "cell_type": "markdown",
   "metadata": {},
   "source": [
    "<hr>"
   ]
  },
  {
   "cell_type": "markdown",
   "metadata": {},
   "source": [
    "## Treinando um classificador com base em uma árvore de decisão"
   ]
  },
  {
   "cell_type": "markdown",
   "metadata": {},
   "source": [
    "### Selecionando FEATURES e definindo a variável TARGET"
   ]
  },
  {
   "cell_type": "code",
   "execution_count": 44,
   "metadata": {},
   "outputs": [
    {
     "data": {
      "text/plain": [
       "Index(['graduacao', 'universidade', 'profissao', 'organizacao',\n",
       "       'pretende_fazer_cursos_lit', 'interesse_mba_lit',\n",
       "       'importante_ter_certificado', 'horas_semanais_estudo',\n",
       "       'como_conheceu_lit', 'total_modulos', 'modulos_iniciados',\n",
       "       'modulos_finalizados', 'certificados', 'categoria'],\n",
       "      dtype='object')"
      ]
     },
     "execution_count": 44,
     "metadata": {},
     "output_type": "execute_result"
    }
   ],
   "source": [
    "df_training.columns"
   ]
  },
  {
   "cell_type": "code",
   "execution_count": 45,
   "metadata": {},
   "outputs": [],
   "source": [
    "features = df_training[\n",
    "    [\n",
    "        'graduacao', 'universidade', 'profissao', 'organizacao',\n",
    "       'pretende_fazer_cursos_lit', 'interesse_mba_lit',\n",
    "       'importante_ter_certificado', 'horas_semanais_estudo',\n",
    "       'como_conheceu_lit', 'total_modulos', 'modulos_iniciados',\n",
    "       'modulos_finalizados', 'certificados'\n",
    "    ]\n",
    "]\n",
    "target = df_training['categoria']  ## NÃO TROQUE O NOME DA VARIÁVEL TARGET."
   ]
  },
  {
   "cell_type": "markdown",
   "metadata": {},
   "source": [
    "### Dividindo nosso conjunto de dados em conjuntos de treinamento e teste"
   ]
  },
  {
   "cell_type": "code",
   "execution_count": 68,
   "metadata": {},
   "outputs": [
    {
     "name": "stderr",
     "output_type": "stream",
     "text": [
      "/usr/local/lib/python3.7/site-packages/ipykernel_launcher.py:4: SettingWithCopyWarning: \n",
      "A value is trying to be set on a copy of a slice from a DataFrame.\n",
      "Try using .loc[row_indexer,col_indexer] = value instead\n",
      "\n",
      "See the caveats in the documentation: https://pandas.pydata.org/pandas-docs/stable/user_guide/indexing.html#returning-a-view-versus-a-copy\n",
      "  after removing the cwd from sys.path.\n",
      "/usr/local/lib/python3.7/site-packages/ipykernel_launcher.py:5: SettingWithCopyWarning: \n",
      "A value is trying to be set on a copy of a slice from a DataFrame.\n",
      "Try using .loc[row_indexer,col_indexer] = value instead\n",
      "\n",
      "See the caveats in the documentation: https://pandas.pydata.org/pandas-docs/stable/user_guide/indexing.html#returning-a-view-versus-a-copy\n",
      "  \"\"\"\n",
      "/usr/local/lib/python3.7/site-packages/ipykernel_launcher.py:6: SettingWithCopyWarning: \n",
      "A value is trying to be set on a copy of a slice from a DataFrame.\n",
      "Try using .loc[row_indexer,col_indexer] = value instead\n",
      "\n",
      "See the caveats in the documentation: https://pandas.pydata.org/pandas-docs/stable/user_guide/indexing.html#returning-a-view-versus-a-copy\n",
      "  \n",
      "/usr/local/lib/python3.7/site-packages/ipykernel_launcher.py:7: SettingWithCopyWarning: \n",
      "A value is trying to be set on a copy of a slice from a DataFrame.\n",
      "Try using .loc[row_indexer,col_indexer] = value instead\n",
      "\n",
      "See the caveats in the documentation: https://pandas.pydata.org/pandas-docs/stable/user_guide/indexing.html#returning-a-view-versus-a-copy\n",
      "  import sys\n",
      "/usr/local/lib/python3.7/site-packages/ipykernel_launcher.py:8: SettingWithCopyWarning: \n",
      "A value is trying to be set on a copy of a slice from a DataFrame.\n",
      "Try using .loc[row_indexer,col_indexer] = value instead\n",
      "\n",
      "See the caveats in the documentation: https://pandas.pydata.org/pandas-docs/stable/user_guide/indexing.html#returning-a-view-versus-a-copy\n",
      "  \n"
     ]
    }
   ],
   "source": [
    "from sklearn.model_selection import train_test_split\n",
    "from imblearn.over_sampling import SMOTENC\n",
    "\n",
    "features[\"graduacao\"] = np.where(features[\"graduacao\"]==0, \"missing\",features[\"graduacao\"])\n",
    "features[\"profissao\"] = np.where(features[\"profissao\"]==0, \"missing\",features[\"profissao\"])\n",
    "features[\"organizacao\"] = np.where(features[\"organizacao\"]==0, \"missing\",features[\"organizacao\"])\n",
    "features[\"universidade\"] = np.where(features[\"universidade\"]==0, \"missing\",features[\"universidade\"])\n",
    "features[\"como_conheceu_lit\"] = np.where(features[\"como_conheceu_lit\"]==0, \"missing\",features[\"como_conheceu_lit\"])\n",
    "\n",
    "X_train, X_test, y_train, y_test = train_test_split(features, target, test_size=0.2, random_state=133)\n",
    "\n",
    "smc = SMOTENC(categorical_features=[0, 1, 2, 3, 8], random_state=143)\n",
    "\n",
    "X_train, y_train = smc.fit_resample(X_train, y_train)"
   ]
  },
  {
   "cell_type": "markdown",
   "metadata": {},
   "source": [
    "### Treinando uma árvore de decisão"
   ]
  },
  {
   "cell_type": "code",
   "execution_count": 69,
   "metadata": {},
   "outputs": [],
   "source": [
    "# Método para creacion de modelos basados en arbol de desición\n",
    "# from sklearn.tree import DecisionTreeClassifier\n",
    "X_train[\"profissao\"] = X_train[\"profissao\"].astype(\"category\")\n",
    "X_train[\"graduacao\"] = X_train[\"graduacao\"].astype(\"category\")\n",
    "X_train[\"organizacao\"] = X_train[\"organizacao\"].astype(\"category\")\n",
    "X_train[\"universidade\"] = X_train[\"universidade\"].astype(\"category\")\n",
    "X_train[\"como_conheceu_lit\"] = X_train[\"como_conheceu_lit\"].astype(\"category\")"
   ]
  },
  {
   "cell_type": "code",
   "execution_count": 70,
   "metadata": {},
   "outputs": [
    {
     "data": {
      "text/plain": [
       "graduacao                     category\n",
       "universidade                  category\n",
       "profissao                     category\n",
       "organizacao                   category\n",
       "pretende_fazer_cursos_lit      float64\n",
       "interesse_mba_lit              float64\n",
       "importante_ter_certificado     float64\n",
       "horas_semanais_estudo          float64\n",
       "como_conheceu_lit             category\n",
       "total_modulos                  float64\n",
       "modulos_iniciados              float64\n",
       "modulos_finalizados            float64\n",
       "certificados                   float64\n",
       "dtype: object"
      ]
     },
     "execution_count": 70,
     "metadata": {},
     "output_type": "execute_result"
    }
   ],
   "source": [
    "X_train.dtypes"
   ]
  },
  {
   "cell_type": "code",
   "execution_count": 71,
   "metadata": {},
   "outputs": [
    {
     "name": "stderr",
     "output_type": "stream",
     "text": [
      "/usr/local/lib/python3.7/site-packages/lightgbm/basic.py:1295: UserWarning: categorical_feature in Dataset is overridden.\n",
      "New categorical_feature is ['como_conheceu_lit', 'graduacao', 'organizacao', 'profissao', 'universidade']\n",
      "  'New categorical_feature is {}'.format(sorted(list(categorical_feature))))\n"
     ]
    },
    {
     "data": {
      "text/plain": [
       "LGBMClassifier(learning_rate=0.001, n_estimators=10000, objective='multiclass')"
      ]
     },
     "execution_count": 71,
     "metadata": {},
     "output_type": "execute_result"
    }
   ],
   "source": [
    "dtc = LGBMClassifier(objective=\"multiclass\", learning_rate=0.001, n_estimators=10000)\n",
    "dtc.fit(X_train, y_train, categorical_feature=[\"profissao\", \"graduacao\", \"como_conheceu_lit\", \"universidade\", \"organizacao\"])"
   ]
  },
  {
   "cell_type": "markdown",
   "metadata": {},
   "source": [
    "### Fazendo previsões na amostra de teste"
   ]
  },
  {
   "cell_type": "code",
   "execution_count": 72,
   "metadata": {},
   "outputs": [
    {
     "name": "stderr",
     "output_type": "stream",
     "text": [
      "/usr/local/lib/python3.7/site-packages/ipykernel_launcher.py:1: SettingWithCopyWarning: \n",
      "A value is trying to be set on a copy of a slice from a DataFrame.\n",
      "Try using .loc[row_indexer,col_indexer] = value instead\n",
      "\n",
      "See the caveats in the documentation: https://pandas.pydata.org/pandas-docs/stable/user_guide/indexing.html#returning-a-view-versus-a-copy\n",
      "  \"\"\"Entry point for launching an IPython kernel.\n",
      "/usr/local/lib/python3.7/site-packages/ipykernel_launcher.py:2: SettingWithCopyWarning: \n",
      "A value is trying to be set on a copy of a slice from a DataFrame.\n",
      "Try using .loc[row_indexer,col_indexer] = value instead\n",
      "\n",
      "See the caveats in the documentation: https://pandas.pydata.org/pandas-docs/stable/user_guide/indexing.html#returning-a-view-versus-a-copy\n",
      "  \n",
      "/usr/local/lib/python3.7/site-packages/ipykernel_launcher.py:3: SettingWithCopyWarning: \n",
      "A value is trying to be set on a copy of a slice from a DataFrame.\n",
      "Try using .loc[row_indexer,col_indexer] = value instead\n",
      "\n",
      "See the caveats in the documentation: https://pandas.pydata.org/pandas-docs/stable/user_guide/indexing.html#returning-a-view-versus-a-copy\n",
      "  This is separate from the ipykernel package so we can avoid doing imports until\n",
      "/usr/local/lib/python3.7/site-packages/ipykernel_launcher.py:4: SettingWithCopyWarning: \n",
      "A value is trying to be set on a copy of a slice from a DataFrame.\n",
      "Try using .loc[row_indexer,col_indexer] = value instead\n",
      "\n",
      "See the caveats in the documentation: https://pandas.pydata.org/pandas-docs/stable/user_guide/indexing.html#returning-a-view-versus-a-copy\n",
      "  after removing the cwd from sys.path.\n",
      "/usr/local/lib/python3.7/site-packages/ipykernel_launcher.py:5: SettingWithCopyWarning: \n",
      "A value is trying to be set on a copy of a slice from a DataFrame.\n",
      "Try using .loc[row_indexer,col_indexer] = value instead\n",
      "\n",
      "See the caveats in the documentation: https://pandas.pydata.org/pandas-docs/stable/user_guide/indexing.html#returning-a-view-versus-a-copy\n",
      "  \"\"\"\n"
     ]
    },
    {
     "name": "stdout",
     "output_type": "stream",
     "text": [
      "['perfil2' 'perfil2' 'perfil4' ... 'perfil1' 'perfil2' 'perfil1']\n"
     ]
    }
   ],
   "source": [
    "X_test[\"profissao\"] = X_test[\"profissao\"].astype(\"category\")\n",
    "X_test[\"graduacao\"] = X_test[\"graduacao\"].astype(\"category\")\n",
    "X_test[\"organizacao\"] = X_test[\"organizacao\"].astype(\"category\")\n",
    "X_test[\"universidade\"] = X_test[\"universidade\"].astype(\"category\")\n",
    "X_test[\"como_conheceu_lit\"] = X_test[\"como_conheceu_lit\"].astype(\"category\")\n",
    "\n",
    "y_pred = dtc.predict(X_test)\n",
    "print(y_pred)"
   ]
  },
  {
   "cell_type": "markdown",
   "metadata": {},
   "source": [
    "### Analisando a qualidade do modelo através da matriz de confusão"
   ]
  },
  {
   "cell_type": "code",
   "execution_count": 73,
   "metadata": {},
   "outputs": [],
   "source": [
    "import matplotlib.pyplot as plt\n",
    "import numpy as np\n",
    "import itertools\n",
    "\n",
    "\n",
    "def plot_confusion_matrix(cm, target_names, title='Confusion matrix', cmap=None, normalize=True):\n",
    "    accuracy = np.trace(cm) / float(np.sum(cm))\n",
    "    misclass = 1 - accuracy\n",
    "    if cmap is None:\n",
    "        cmap = plt.get_cmap('Blues')\n",
    "    plt.figure(figsize=(8, 6))\n",
    "    plt.imshow(cm, interpolation='nearest', cmap=cmap)\n",
    "    plt.title(title)\n",
    "    plt.colorbar()\n",
    "    if target_names is not None:\n",
    "        tick_marks = np.arange(len(target_names))\n",
    "        plt.xticks(tick_marks, target_names, rotation=45)\n",
    "        plt.yticks(tick_marks, target_names)\n",
    "    if normalize:\n",
    "        cm = cm.astype('float') / cm.sum(axis=1)[:, np.newaxis]\n",
    "    thresh = cm.max() / 1.5 if normalize else cm.max() / 2\n",
    "    for i, j in itertools.product(range(cm.shape[0]), range(cm.shape[1])):\n",
    "        if normalize:\n",
    "            plt.text(j, i, \"{:0.4f}\".format(cm[i, j]),\n",
    "                     horizontalalignment=\"center\",\n",
    "                     color=\"white\" if cm[i, j] > thresh else \"black\")\n",
    "        else:\n",
    "            plt.text(j, i, \"{:,}\".format(cm[i, j]),\n",
    "                     horizontalalignment=\"center\",\n",
    "                     color=\"white\" if cm[i, j] > thresh else \"black\")\n",
    "    plt.tight_layout()\n",
    "    plt.ylabel('True label')\n",
    "    plt.xlabel('Predicted label\\naccuracy={:0.4f}; misclass={:0.4f}'.format(accuracy, misclass))\n",
    "    plt.show()"
   ]
  },
  {
   "cell_type": "code",
   "execution_count": 74,
   "metadata": {},
   "outputs": [
    {
     "data": {
      "image/png": "[encoded data removed]",
      "text/plain": [
       "<Figure size 576x432 with 2 Axes>"
      ]
     },
     "metadata": {
      "needs_background": "light"
     },
     "output_type": "display_data"
    }
   ],
   "source": [
    "from sklearn.metrics import confusion_matrix\n",
    "\n",
    "\n",
    "plot_confusion_matrix(confusion_matrix(y_test, y_pred), ['parfil1', 'perfil2', 'perfil3', 'perfil4', 'perfil5', 'perfil6'])"
   ]
  },
  {
   "cell_type": "markdown",
   "metadata": {},
   "source": [
    "<hr>"
   ]
  },
  {
   "cell_type": "markdown",
   "metadata": {},
   "source": [
    "## Scoring dos dados necessários para entregar a solução"
   ]
  },
  {
   "cell_type": "markdown",
   "metadata": {},
   "source": [
    "Como entrega da sua solução, esperamos os resultados classificados no seguinte dataset chamado \"to_be_scored.csv\":"
   ]
  },
  {
   "cell_type": "markdown",
   "metadata": {},
   "source": [
    "### Download da \"folha de respostas\""
   ]
  },
  {
   "cell_type": "code",
   "execution_count": 75,
   "metadata": {},
   "outputs": [
    {
     "data": {
      "text/html": [
       "<div>\n",
       "<style scoped>\n",
       "    .dataframe tbody tr th:only-of-type {\n",
       "        vertical-align: middle;\n",
       "    }\n",
       "\n",
       "    .dataframe tbody tr th {\n",
       "        vertical-align: top;\n",
       "    }\n",
       "\n",
       "    .dataframe thead th {\n",
       "        text-align: right;\n",
       "    }\n",
       "</style>\n",
       "<table border=\"1\" class=\"dataframe\">\n",
       "  <thead>\n",
       "    <tr style=\"text-align: right;\">\n",
       "      <th></th>\n",
       "      <th>id</th>\n",
       "      <th>graduacao</th>\n",
       "      <th>universidade</th>\n",
       "      <th>profissao</th>\n",
       "      <th>organizacao</th>\n",
       "      <th>pretende_fazer_cursos_lit</th>\n",
       "      <th>interesse_mba_lit</th>\n",
       "      <th>importante_ter_certificado</th>\n",
       "      <th>horas_semanais_estudo</th>\n",
       "      <th>como_conheceu_lit</th>\n",
       "      <th>total_modulos</th>\n",
       "      <th>modulos_iniciados</th>\n",
       "      <th>modulos_finalizados</th>\n",
       "      <th>certificados</th>\n",
       "    </tr>\n",
       "  </thead>\n",
       "  <tbody>\n",
       "    <tr>\n",
       "      <th>995</th>\n",
       "      <td>741745189</td>\n",
       "      <td>SEM FORMAÇÃO</td>\n",
       "      <td>UNIVERSIDADE NOVE DE JULHO</td>\n",
       "      <td>Coordenador</td>\n",
       "      <td>Borracha</td>\n",
       "      <td>0</td>\n",
       "      <td>0</td>\n",
       "      <td>1</td>\n",
       "      <td>2</td>\n",
       "      <td>YouTube</td>\n",
       "      <td>245</td>\n",
       "      <td>63</td>\n",
       "      <td>45</td>\n",
       "      <td>1</td>\n",
       "    </tr>\n",
       "    <tr>\n",
       "      <th>996</th>\n",
       "      <td>996387882</td>\n",
       "      <td>Bacharelado</td>\n",
       "      <td>UFRN</td>\n",
       "      <td>Assessor</td>\n",
       "      <td>Estado</td>\n",
       "      <td>1</td>\n",
       "      <td>1</td>\n",
       "      <td>1</td>\n",
       "      <td>8</td>\n",
       "      <td>Google</td>\n",
       "      <td>163</td>\n",
       "      <td>111</td>\n",
       "      <td>96</td>\n",
       "      <td>0</td>\n",
       "    </tr>\n",
       "    <tr>\n",
       "      <th>997</th>\n",
       "      <td>668869418</td>\n",
       "      <td>Bacharelado</td>\n",
       "      <td>UFSCar</td>\n",
       "      <td>Gerente</td>\n",
       "      <td>Siderurgica</td>\n",
       "      <td>1</td>\n",
       "      <td>1</td>\n",
       "      <td>1</td>\n",
       "      <td>9</td>\n",
       "      <td>Facebook</td>\n",
       "      <td>56</td>\n",
       "      <td>10</td>\n",
       "      <td>4</td>\n",
       "      <td>0</td>\n",
       "    </tr>\n",
       "    <tr>\n",
       "      <th>998</th>\n",
       "      <td>676531718</td>\n",
       "      <td>Tecnólogo</td>\n",
       "      <td>FATEC</td>\n",
       "      <td>Outros</td>\n",
       "      <td>servicos</td>\n",
       "      <td>1</td>\n",
       "      <td>1</td>\n",
       "      <td>1</td>\n",
       "      <td>9</td>\n",
       "      <td>Mídia (revista/jornal/web)</td>\n",
       "      <td>138</td>\n",
       "      <td>60</td>\n",
       "      <td>30</td>\n",
       "      <td>0</td>\n",
       "    </tr>\n",
       "    <tr>\n",
       "      <th>999</th>\n",
       "      <td>388402340</td>\n",
       "      <td>Especialização</td>\n",
       "      <td>UNIP</td>\n",
       "      <td>Advogado</td>\n",
       "      <td>Montadora</td>\n",
       "      <td>0</td>\n",
       "      <td>0</td>\n",
       "      <td>1</td>\n",
       "      <td>9</td>\n",
       "      <td>Mídia (revista/jornal/web)</td>\n",
       "      <td>22</td>\n",
       "      <td>20</td>\n",
       "      <td>19</td>\n",
       "      <td>0</td>\n",
       "    </tr>\n",
       "  </tbody>\n",
       "</table>\n",
       "</div>"
      ],
      "text/plain": [
       "            id       graduacao                universidade    profissao  \\\n",
       "995  741745189    SEM FORMAÇÃO  UNIVERSIDADE NOVE DE JULHO  Coordenador   \n",
       "996  996387882     Bacharelado                        UFRN     Assessor   \n",
       "997  668869418     Bacharelado                      UFSCar      Gerente   \n",
       "998  676531718       Tecnólogo                       FATEC       Outros   \n",
       "999  388402340  Especialização                        UNIP     Advogado   \n",
       "\n",
       "     organizacao  pretende_fazer_cursos_lit  interesse_mba_lit  \\\n",
       "995     Borracha                          0                  0   \n",
       "996       Estado                          1                  1   \n",
       "997  Siderurgica                          1                  1   \n",
       "998     servicos                          1                  1   \n",
       "999    Montadora                          0                  0   \n",
       "\n",
       "     importante_ter_certificado  horas_semanais_estudo  \\\n",
       "995                           1                      2   \n",
       "996                           1                      8   \n",
       "997                           1                      9   \n",
       "998                           1                      9   \n",
       "999                           1                      9   \n",
       "\n",
       "              como_conheceu_lit  total_modulos  modulos_iniciados  \\\n",
       "995                     YouTube            245                 63   \n",
       "996                      Google            163                111   \n",
       "997                    Facebook             56                 10   \n",
       "998  Mídia (revista/jornal/web)            138                 60   \n",
       "999  Mídia (revista/jornal/web)             22                 20   \n",
       "\n",
       "     modulos_finalizados  certificados  \n",
       "995                   45             1  \n",
       "996                   96             0  \n",
       "997                    4             0  \n",
       "998                   30             0  \n",
       "999                   19             0  "
      ]
     },
     "execution_count": 75,
     "metadata": {},
     "output_type": "execute_result"
    }
   ],
   "source": [
    "#!wget --no-check-certificate --content-disposition https://raw.githubusercontent.com/vanderlei-test/dataset-3/master/to_be_scored.csv\n",
    "df_to_be_scored = pd.read_csv(r'dataset/to_be_scored.csv')\n",
    "df_to_be_scored.tail()"
   ]
  },
  {
   "cell_type": "markdown",
   "metadata": {},
   "source": [
    "# Atenção!\n",
    "\n",
    "O dataframe ``to_be_scored`` é a sua \"folha de respostas\". Note que a coluna \"categoria\" não existe nessa amostra, que não pode ser então utilizada para treino de modelos de aprendizado supervisionado."
   ]
  },
  {
   "cell_type": "code",
   "execution_count": 76,
   "metadata": {
    "scrolled": true
   },
   "outputs": [
    {
     "name": "stdout",
     "output_type": "stream",
     "text": [
      "<class 'pandas.core.frame.DataFrame'>\n",
      "RangeIndex: 1000 entries, 0 to 999\n",
      "Data columns (total 14 columns):\n",
      " #   Column                      Non-Null Count  Dtype \n",
      "---  ------                      --------------  ----- \n",
      " 0   id                          1000 non-null   int64 \n",
      " 1   graduacao                   1000 non-null   object\n",
      " 2   universidade                1000 non-null   object\n",
      " 3   profissao                   1000 non-null   object\n",
      " 4   organizacao                 1000 non-null   object\n",
      " 5   pretende_fazer_cursos_lit   1000 non-null   int64 \n",
      " 6   interesse_mba_lit           1000 non-null   int64 \n",
      " 7   importante_ter_certificado  1000 non-null   int64 \n",
      " 8   horas_semanais_estudo       1000 non-null   int64 \n",
      " 9   como_conheceu_lit           1000 non-null   object\n",
      " 10  total_modulos               1000 non-null   int64 \n",
      " 11  modulos_iniciados           1000 non-null   int64 \n",
      " 12  modulos_finalizados         1000 non-null   int64 \n",
      " 13  certificados                1000 non-null   int64 \n",
      "dtypes: int64(9), object(5)\n",
      "memory usage: 109.5+ KB\n"
     ]
    }
   ],
   "source": [
    "df_to_be_scored.info()"
   ]
  },
  {
   "cell_type": "markdown",
   "metadata": {},
   "source": [
    "<hr>\n",
    "\n",
    "# Atenção!\n",
    "\n",
    "# Para poder aplicar seu modelo e classificar a folha de respostas, você precisa primeiro aplicar as mesmas transformações com colunas que você aplicou no dataset de treino.\n",
    "\n",
    "# Não remova ou adicione linhas na folha de respostas. \n",
    "\n",
    "# Não altere a ordem das linhas na folha de respostas.\n",
    "\n",
    "# Ao final, as 1000 entradas devem estar classificadas, com os valores previstos em uma coluna chamada \"target\"\n",
    "\n",
    "<hr>"
   ]
  },
  {
   "cell_type": "markdown",
   "metadata": {},
   "source": [
    "Na célula abaixo, repetimos rapidamente os mesmos passos de pré-processamento usados no exemplo dado com árvore de decisão"
   ]
  },
  {
   "cell_type": "code",
   "execution_count": 84,
   "metadata": {},
   "outputs": [
    {
     "data": {
      "text/html": [
       "<div>\n",
       "<style scoped>\n",
       "    .dataframe tbody tr th:only-of-type {\n",
       "        vertical-align: middle;\n",
       "    }\n",
       "\n",
       "    .dataframe tbody tr th {\n",
       "        vertical-align: top;\n",
       "    }\n",
       "\n",
       "    .dataframe thead th {\n",
       "        text-align: right;\n",
       "    }\n",
       "</style>\n",
       "<table border=\"1\" class=\"dataframe\">\n",
       "  <thead>\n",
       "    <tr style=\"text-align: right;\">\n",
       "      <th></th>\n",
       "      <th>graduacao</th>\n",
       "      <th>universidade</th>\n",
       "      <th>profissao</th>\n",
       "      <th>organizacao</th>\n",
       "      <th>pretende_fazer_cursos_lit</th>\n",
       "      <th>interesse_mba_lit</th>\n",
       "      <th>importante_ter_certificado</th>\n",
       "      <th>horas_semanais_estudo</th>\n",
       "      <th>como_conheceu_lit</th>\n",
       "      <th>total_modulos</th>\n",
       "      <th>modulos_iniciados</th>\n",
       "      <th>modulos_finalizados</th>\n",
       "      <th>certificados</th>\n",
       "    </tr>\n",
       "  </thead>\n",
       "  <tbody>\n",
       "    <tr>\n",
       "      <th>995</th>\n",
       "      <td>SEM FORMAÇÃO</td>\n",
       "      <td>UNIVERSIDADE NOVE DE JULHO</td>\n",
       "      <td>Coordenador</td>\n",
       "      <td>Borracha</td>\n",
       "      <td>0</td>\n",
       "      <td>0</td>\n",
       "      <td>1</td>\n",
       "      <td>2</td>\n",
       "      <td>YouTube</td>\n",
       "      <td>245</td>\n",
       "      <td>63</td>\n",
       "      <td>45</td>\n",
       "      <td>1</td>\n",
       "    </tr>\n",
       "    <tr>\n",
       "      <th>996</th>\n",
       "      <td>Bacharelado</td>\n",
       "      <td>UFRN</td>\n",
       "      <td>Assessor</td>\n",
       "      <td>Estado</td>\n",
       "      <td>1</td>\n",
       "      <td>1</td>\n",
       "      <td>1</td>\n",
       "      <td>8</td>\n",
       "      <td>Google</td>\n",
       "      <td>163</td>\n",
       "      <td>111</td>\n",
       "      <td>96</td>\n",
       "      <td>0</td>\n",
       "    </tr>\n",
       "    <tr>\n",
       "      <th>997</th>\n",
       "      <td>Bacharelado</td>\n",
       "      <td>UFSCar</td>\n",
       "      <td>Gerente</td>\n",
       "      <td>Siderurgica</td>\n",
       "      <td>1</td>\n",
       "      <td>1</td>\n",
       "      <td>1</td>\n",
       "      <td>9</td>\n",
       "      <td>Facebook</td>\n",
       "      <td>56</td>\n",
       "      <td>10</td>\n",
       "      <td>4</td>\n",
       "      <td>0</td>\n",
       "    </tr>\n",
       "    <tr>\n",
       "      <th>998</th>\n",
       "      <td>Tecnólogo</td>\n",
       "      <td>FATEC</td>\n",
       "      <td>Outros</td>\n",
       "      <td>servicos</td>\n",
       "      <td>1</td>\n",
       "      <td>1</td>\n",
       "      <td>1</td>\n",
       "      <td>9</td>\n",
       "      <td>Mídia (revista/jornal/web)</td>\n",
       "      <td>138</td>\n",
       "      <td>60</td>\n",
       "      <td>30</td>\n",
       "      <td>0</td>\n",
       "    </tr>\n",
       "    <tr>\n",
       "      <th>999</th>\n",
       "      <td>Especialização</td>\n",
       "      <td>UNIP</td>\n",
       "      <td>Advogado</td>\n",
       "      <td>Montadora</td>\n",
       "      <td>0</td>\n",
       "      <td>0</td>\n",
       "      <td>1</td>\n",
       "      <td>9</td>\n",
       "      <td>Mídia (revista/jornal/web)</td>\n",
       "      <td>22</td>\n",
       "      <td>20</td>\n",
       "      <td>19</td>\n",
       "      <td>0</td>\n",
       "    </tr>\n",
       "  </tbody>\n",
       "</table>\n",
       "</div>"
      ],
      "text/plain": [
       "          graduacao                universidade    profissao  organizacao  \\\n",
       "995    SEM FORMAÇÃO  UNIVERSIDADE NOVE DE JULHO  Coordenador     Borracha   \n",
       "996     Bacharelado                        UFRN     Assessor       Estado   \n",
       "997     Bacharelado                      UFSCar      Gerente  Siderurgica   \n",
       "998       Tecnólogo                       FATEC       Outros     servicos   \n",
       "999  Especialização                        UNIP     Advogado    Montadora   \n",
       "\n",
       "     pretende_fazer_cursos_lit  interesse_mba_lit  importante_ter_certificado  \\\n",
       "995                          0                  0                           1   \n",
       "996                          1                  1                           1   \n",
       "997                          1                  1                           1   \n",
       "998                          1                  1                           1   \n",
       "999                          0                  0                           1   \n",
       "\n",
       "     horas_semanais_estudo           como_conheceu_lit  total_modulos  \\\n",
       "995                      2                     YouTube            245   \n",
       "996                      8                      Google            163   \n",
       "997                      9                    Facebook             56   \n",
       "998                      9  Mídia (revista/jornal/web)            138   \n",
       "999                      9  Mídia (revista/jornal/web)             22   \n",
       "\n",
       "     modulos_iniciados  modulos_finalizados  certificados  \n",
       "995                 63                   45             1  \n",
       "996                111                   96             0  \n",
       "997                 10                    4             0  \n",
       "998                 60                   30             0  \n",
       "999                 20                   19             0  "
      ]
     },
     "execution_count": 84,
     "metadata": {},
     "output_type": "execute_result"
    }
   ],
   "source": [
    "# 1 - Removendo linhas com valores NaN em \"certificados\" e \"total_modulos\"\n",
    "df_to_be_scored_1 = df_to_be_scored.dropna(axis='index', how='any', subset=['certificados', 'total_modulos'])\n",
    "\n",
    "# 2 - Inputando zeros nos valores faltantes\n",
    "impute_zeros.fit(X=df_to_be_scored_1)\n",
    "df_to_be_scored_2 = pd.DataFrame.from_records(\n",
    "    data=impute_zeros.transform(\n",
    "        X=df_to_be_scored_1\n",
    "    ),\n",
    "    columns=df_to_be_scored_1.columns\n",
    ")\n",
    "\n",
    "# 3 - Remoção de colunas\n",
    "df_to_be_scored_3 = df_to_be_scored_2.drop(columns=['id'], inplace=False)\n",
    "\n",
    "# 4 - Encoding com \"dummy variables\"\n",
    "# df_to_be_scored_4 = pd.get_dummies(df_to_be_scored_3, columns=['profissao'])\n",
    "df_to_be_scored_4 = df_to_be_scored_3.copy()\n",
    "\n",
    "df_to_be_scored_4[\"graduacao\"] = np.where(df_to_be_scored_4[\"graduacao\"]==0, \"missing\",df_to_be_scored_4[\"graduacao\"])\n",
    "df_to_be_scored_4[\"profissao\"] = np.where(df_to_be_scored_4[\"profissao\"]==0, \"missing\",df_to_be_scored_4[\"profissao\"])\n",
    "df_to_be_scored_4[\"organizacao\"] = np.where(df_to_be_scored_4[\"organizacao\"]==0, \"missing\",df_to_be_scored_4[\"organizacao\"])\n",
    "df_to_be_scored_4[\"universidade\"] = np.where(df_to_be_scored_4[\"universidade\"]==0, \"missing\",df_to_be_scored_4[\"universidade\"])\n",
    "df_to_be_scored_4[\"como_conheceu_lit\"] = np.where(df_to_be_scored_4[\"como_conheceu_lit\"]==0, \"missing\",df_to_be_scored_4[\"como_conheceu_lit\"])\n",
    "\n",
    "df_to_be_scored_4[\"profissao\"] = df_to_be_scored_4[\"profissao\"].astype(\"category\")\n",
    "df_to_be_scored_4[\"graduacao\"] = df_to_be_scored_4[\"graduacao\"].astype(\"category\")\n",
    "df_to_be_scored_4[\"organizacao\"] = df_to_be_scored_4[\"organizacao\"].astype(\"category\")\n",
    "df_to_be_scored_4[\"universidade\"] = df_to_be_scored_4[\"universidade\"].astype(\"category\")\n",
    "df_to_be_scored_4[\"como_conheceu_lit\"] = df_to_be_scored_4[\"como_conheceu_lit\"].astype(\"category\")\n",
    "\n",
    "df_to_be_scored_4.tail()"
   ]
  },
  {
   "cell_type": "markdown",
   "metadata": {},
   "source": [
    "<hr>\n",
    "\n",
    "Pode ser verificado abaixo que as colunas da folha de resposta agora são idênticas às que foram usadas para treinar o modelo:"
   ]
  },
  {
   "cell_type": "code",
   "execution_count": 85,
   "metadata": {},
   "outputs": [
    {
     "data": {
      "text/plain": [
       "Index(['graduacao', 'universidade', 'profissao', 'organizacao',\n",
       "       'pretende_fazer_cursos_lit', 'interesse_mba_lit',\n",
       "       'importante_ter_certificado', 'horas_semanais_estudo',\n",
       "       'como_conheceu_lit', 'total_modulos', 'modulos_iniciados',\n",
       "       'modulos_finalizados', 'certificados'],\n",
       "      dtype='object')"
      ]
     },
     "execution_count": 85,
     "metadata": {},
     "output_type": "execute_result"
    }
   ],
   "source": [
    "df_training[\n",
    "    [\n",
    "        'graduacao', 'universidade', 'profissao', 'organizacao',\n",
    "       'pretende_fazer_cursos_lit', 'interesse_mba_lit',\n",
    "       'importante_ter_certificado', 'horas_semanais_estudo',\n",
    "       'como_conheceu_lit', 'total_modulos', 'modulos_iniciados',\n",
    "       'modulos_finalizados', 'certificados'\n",
    "    ]\n",
    "].columns"
   ]
  },
  {
   "cell_type": "code",
   "execution_count": 86,
   "metadata": {},
   "outputs": [
    {
     "data": {
      "text/plain": [
       "Index(['graduacao', 'universidade', 'profissao', 'organizacao',\n",
       "       'pretende_fazer_cursos_lit', 'interesse_mba_lit',\n",
       "       'importante_ter_certificado', 'horas_semanais_estudo',\n",
       "       'como_conheceu_lit', 'total_modulos', 'modulos_iniciados',\n",
       "       'modulos_finalizados', 'certificados'],\n",
       "      dtype='object')"
      ]
     },
     "execution_count": 86,
     "metadata": {},
     "output_type": "execute_result"
    }
   ],
   "source": [
    "df_to_be_scored_4.columns"
   ]
  },
  {
   "cell_type": "markdown",
   "metadata": {},
   "source": [
    "# Atenção\n",
    "\n",
    "Para todas colunas que não existirem no \"df_to_be_scored\", você pode usar a técnica abaixo para adicioná-las:"
   ]
  },
  {
   "cell_type": "code",
   "execution_count": null,
   "metadata": {},
   "outputs": [],
   "source": [
    "#df_to_be_scored_4['profissao_0'] = 0"
   ]
  },
  {
   "cell_type": "code",
   "execution_count": 87,
   "metadata": {},
   "outputs": [
    {
     "data": {
      "text/html": [
       "<div>\n",
       "<style scoped>\n",
       "    .dataframe tbody tr th:only-of-type {\n",
       "        vertical-align: middle;\n",
       "    }\n",
       "\n",
       "    .dataframe tbody tr th {\n",
       "        vertical-align: top;\n",
       "    }\n",
       "\n",
       "    .dataframe thead th {\n",
       "        text-align: right;\n",
       "    }\n",
       "</style>\n",
       "<table border=\"1\" class=\"dataframe\">\n",
       "  <thead>\n",
       "    <tr style=\"text-align: right;\">\n",
       "      <th></th>\n",
       "      <th>graduacao</th>\n",
       "      <th>universidade</th>\n",
       "      <th>profissao</th>\n",
       "      <th>organizacao</th>\n",
       "      <th>pretende_fazer_cursos_lit</th>\n",
       "      <th>interesse_mba_lit</th>\n",
       "      <th>importante_ter_certificado</th>\n",
       "      <th>horas_semanais_estudo</th>\n",
       "      <th>como_conheceu_lit</th>\n",
       "      <th>total_modulos</th>\n",
       "      <th>modulos_iniciados</th>\n",
       "      <th>modulos_finalizados</th>\n",
       "      <th>certificados</th>\n",
       "      <th>target</th>\n",
       "    </tr>\n",
       "  </thead>\n",
       "  <tbody>\n",
       "    <tr>\n",
       "      <th>995</th>\n",
       "      <td>SEM FORMAÇÃO</td>\n",
       "      <td>UNIVERSIDADE NOVE DE JULHO</td>\n",
       "      <td>Coordenador</td>\n",
       "      <td>Borracha</td>\n",
       "      <td>0</td>\n",
       "      <td>0</td>\n",
       "      <td>1</td>\n",
       "      <td>2</td>\n",
       "      <td>YouTube</td>\n",
       "      <td>245</td>\n",
       "      <td>63</td>\n",
       "      <td>45</td>\n",
       "      <td>1</td>\n",
       "      <td>perfil1</td>\n",
       "    </tr>\n",
       "    <tr>\n",
       "      <th>996</th>\n",
       "      <td>Bacharelado</td>\n",
       "      <td>UFRN</td>\n",
       "      <td>Assessor</td>\n",
       "      <td>Estado</td>\n",
       "      <td>1</td>\n",
       "      <td>1</td>\n",
       "      <td>1</td>\n",
       "      <td>8</td>\n",
       "      <td>Google</td>\n",
       "      <td>163</td>\n",
       "      <td>111</td>\n",
       "      <td>96</td>\n",
       "      <td>0</td>\n",
       "      <td>perfil2</td>\n",
       "    </tr>\n",
       "    <tr>\n",
       "      <th>997</th>\n",
       "      <td>Bacharelado</td>\n",
       "      <td>UFSCar</td>\n",
       "      <td>Gerente</td>\n",
       "      <td>Siderurgica</td>\n",
       "      <td>1</td>\n",
       "      <td>1</td>\n",
       "      <td>1</td>\n",
       "      <td>9</td>\n",
       "      <td>Facebook</td>\n",
       "      <td>56</td>\n",
       "      <td>10</td>\n",
       "      <td>4</td>\n",
       "      <td>0</td>\n",
       "      <td>perfil6</td>\n",
       "    </tr>\n",
       "    <tr>\n",
       "      <th>998</th>\n",
       "      <td>Tecnólogo</td>\n",
       "      <td>FATEC</td>\n",
       "      <td>Outros</td>\n",
       "      <td>servicos</td>\n",
       "      <td>1</td>\n",
       "      <td>1</td>\n",
       "      <td>1</td>\n",
       "      <td>9</td>\n",
       "      <td>Mídia (revista/jornal/web)</td>\n",
       "      <td>138</td>\n",
       "      <td>60</td>\n",
       "      <td>30</td>\n",
       "      <td>0</td>\n",
       "      <td>perfil2</td>\n",
       "    </tr>\n",
       "    <tr>\n",
       "      <th>999</th>\n",
       "      <td>Especialização</td>\n",
       "      <td>UNIP</td>\n",
       "      <td>Advogado</td>\n",
       "      <td>Montadora</td>\n",
       "      <td>0</td>\n",
       "      <td>0</td>\n",
       "      <td>1</td>\n",
       "      <td>9</td>\n",
       "      <td>Mídia (revista/jornal/web)</td>\n",
       "      <td>22</td>\n",
       "      <td>20</td>\n",
       "      <td>19</td>\n",
       "      <td>0</td>\n",
       "      <td>perfil3</td>\n",
       "    </tr>\n",
       "  </tbody>\n",
       "</table>\n",
       "</div>"
      ],
      "text/plain": [
       "          graduacao                universidade    profissao  organizacao  \\\n",
       "995    SEM FORMAÇÃO  UNIVERSIDADE NOVE DE JULHO  Coordenador     Borracha   \n",
       "996     Bacharelado                        UFRN     Assessor       Estado   \n",
       "997     Bacharelado                      UFSCar      Gerente  Siderurgica   \n",
       "998       Tecnólogo                       FATEC       Outros     servicos   \n",
       "999  Especialização                        UNIP     Advogado    Montadora   \n",
       "\n",
       "     pretende_fazer_cursos_lit  interesse_mba_lit  importante_ter_certificado  \\\n",
       "995                          0                  0                           1   \n",
       "996                          1                  1                           1   \n",
       "997                          1                  1                           1   \n",
       "998                          1                  1                           1   \n",
       "999                          0                  0                           1   \n",
       "\n",
       "     horas_semanais_estudo           como_conheceu_lit  total_modulos  \\\n",
       "995                      2                     YouTube            245   \n",
       "996                      8                      Google            163   \n",
       "997                      9                    Facebook             56   \n",
       "998                      9  Mídia (revista/jornal/web)            138   \n",
       "999                      9  Mídia (revista/jornal/web)             22   \n",
       "\n",
       "     modulos_iniciados  modulos_finalizados  certificados   target  \n",
       "995                 63                   45             1  perfil1  \n",
       "996                111                   96             0  perfil2  \n",
       "997                 10                    4             0  perfil6  \n",
       "998                 60                   30             0  perfil2  \n",
       "999                 20                   19             0  perfil3  "
      ]
     },
     "execution_count": 87,
     "metadata": {},
     "output_type": "execute_result"
    }
   ],
   "source": [
    "y_pred = dtc.predict(df_to_be_scored_4)\n",
    "df_to_be_scored_4['target'] = y_pred\n",
    "df_to_be_scored_4.tail()"
   ]
  },
  {
   "cell_type": "markdown",
   "metadata": {},
   "source": [
    "### Salvando a folha de respostas como um arquivo .csv para ser submetido"
   ]
  },
  {
   "cell_type": "code",
   "execution_count": 88,
   "metadata": {},
   "outputs": [],
   "source": [
    "#project.save_data(file_name=\"results.csv\", data=df_to_be_scored_4.to_csv(index=False))\n",
    "df_to_be_scored_4.to_csv(\"results.csv\", index=False)"
   ]
  },
  {
   "cell_type": "markdown",
   "metadata": {},
   "source": [
    "# Atenção\n",
    "\n",
    "# A execução da célula acima irá criar um novo \"data asset\" no seu projeto no Watson Studio. Você precisará realizar o download deste arquivo juntamente com este notebook e criar um arquivo zip com os arquivos **results.csv** e **notebook.ipynb** para submissão. (os arquivos devem estar nomeados desta forma)"
   ]
  },
  {
   "cell_type": "markdown",
   "metadata": {},
   "source": [
    "<hr>\n",
    "\n",
    "## Parabéns!\n",
    "\n",
    "Se você já está satisfeito com a sua solução, vá até a página abaixo e envie os arquivos necessários para submissão.\n",
    "\n",
    "# https://lit.maratona.dev\n"
   ]
  },
  {
   "cell_type": "code",
   "execution_count": null,
   "metadata": {},
   "outputs": [],
   "source": []
  }
 ],
 "metadata": {
  "kernelspec": {
   "display_name": "Python 3",
   "language": "python",
   "name": "python3"
  },
  "language_info": {
   "codemirror_mode": {
    "name": "ipython",
    "version": 3
   },
   "file_extension": ".py",
   "mimetype": "text/x-python",
   "name": "python",
   "nbconvert_exporter": "python",
   "pygments_lexer": "ipython3",
   "version": "3.7.5"
  }
 },
 "nbformat": 4,
 "nbformat_minor": 4
}
