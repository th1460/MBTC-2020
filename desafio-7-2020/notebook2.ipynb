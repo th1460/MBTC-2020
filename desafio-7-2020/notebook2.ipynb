{
 "cells": [
  {
   "cell_type": "code",
   "execution_count": null,
   "metadata": {},
   "outputs": [],
   "source": [
    "# Insira seu project token aqui"
   ]
  },
  {
   "cell_type": "markdown",
   "metadata": {},
   "source": [
    "# MARATONA BEHIND THE CODE 2020\n",
    "\n",
    "## DESAFIO 7 - TNT"
   ]
  },
  {
   "cell_type": "markdown",
   "metadata": {},
   "source": [
    "<hr>"
   ]
  },
  {
   "cell_type": "markdown",
   "metadata": {},
   "source": [
    "## Installing Libs"
   ]
  },
  {
   "cell_type": "code",
   "execution_count": null,
   "metadata": {},
   "outputs": [],
   "source": [
    "!pip install scikit-learn --upgrade"
   ]
  },
  {
   "cell_type": "code",
   "execution_count": null,
   "metadata": {},
   "outputs": [],
   "source": [
    "!pip install xgboost --upgrade"
   ]
  },
  {
   "cell_type": "code",
   "execution_count": null,
   "metadata": {},
   "outputs": [],
   "source": [
    "!pip install imblearn --upgrade"
   ]
  },
  {
   "cell_type": "code",
   "execution_count": null,
   "metadata": {},
   "outputs": [],
   "source": [
    "!pip3 install cloudant"
   ]
  },
  {
   "cell_type": "markdown",
   "metadata": {},
   "source": [
    "<hr>"
   ]
  },
  {
   "cell_type": "markdown",
   "metadata": {},
   "source": [
    "## Download dos conjuntos de dados em formato .csv"
   ]
  },
  {
   "cell_type": "code",
   "execution_count": 1,
   "metadata": {},
   "outputs": [],
   "source": [
    "import pandas as pd\n",
    "from cloudant import Cloudant"
   ]
  },
  {
   "cell_type": "code",
   "execution_count": 2,
   "metadata": {},
   "outputs": [],
   "source": [
    "u = \"d5aed30c-4651-48f7-96bd-bd6030237e2a-bluemix\"\n",
    "p = \"cfad465a453fad58b800c37b2393f2cd348e34b2451b0b5d217a7bf001b63fea\"\n",
    "a = \"d5aed30c-4651-48f7-96bd-bd6030237e2a-bluemix\"\n",
    "client = Cloudant(u, p, account=a, connect=True, auto_renew=True)"
   ]
  },
  {
   "cell_type": "code",
   "execution_count": 3,
   "metadata": {},
   "outputs": [],
   "source": [
    "db = client[ \"thop-iot\" ]"
   ]
  },
  {
   "cell_type": "code",
   "execution_count": 4,
   "metadata": {},
   "outputs": [
    {
     "data": {
      "text/plain": [
       "list"
      ]
     },
     "execution_count": 4,
     "metadata": {},
     "output_type": "execute_result"
    }
   ],
   "source": [
    "response = db.all_docs(include_docs=True)\n",
    "\n",
    "docs = []\n",
    "for r in response['rows']:\n",
    "    docs.append(r['doc'])\n",
    "type(docs)"
   ]
  },
  {
   "cell_type": "code",
   "execution_count": 5,
   "metadata": {},
   "outputs": [
    {
     "data": {
      "text/html": [
       "<div>\n",
       "<style scoped>\n",
       "    .dataframe tbody tr th:only-of-type {\n",
       "        vertical-align: middle;\n",
       "    }\n",
       "\n",
       "    .dataframe tbody tr th {\n",
       "        vertical-align: top;\n",
       "    }\n",
       "\n",
       "    .dataframe thead th {\n",
       "        text-align: right;\n",
       "    }\n",
       "</style>\n",
       "<table border=\"1\" class=\"dataframe\">\n",
       "  <thead>\n",
       "    <tr style=\"text-align: right;\">\n",
       "      <th></th>\n",
       "      <th>_id</th>\n",
       "      <th>_rev</th>\n",
       "      <th>Tempo</th>\n",
       "      <th>Estação</th>\n",
       "      <th>LAT</th>\n",
       "      <th>LONG</th>\n",
       "      <th>Movimentação</th>\n",
       "      <th>Original_473</th>\n",
       "      <th>Original_269</th>\n",
       "      <th>Zero</th>\n",
       "      <th>...</th>\n",
       "      <th>Tangerina</th>\n",
       "      <th>Citrus</th>\n",
       "      <th>Açaí-Guaraná</th>\n",
       "      <th>Pêssego</th>\n",
       "      <th>TARGET</th>\n",
       "      <th>row</th>\n",
       "      <th>topic</th>\n",
       "      <th>payload</th>\n",
       "      <th>qos</th>\n",
       "      <th>retain</th>\n",
       "    </tr>\n",
       "  </thead>\n",
       "  <tbody>\n",
       "    <tr>\n",
       "      <th>0</th>\n",
       "      <td>000ac62b7850525df9febd4a670e232e</td>\n",
       "      <td>1-6b1e474a57f306eee38b93d5acb6a3cb</td>\n",
       "      <td>2018-5-18</td>\n",
       "      <td>Trianon-Masp</td>\n",
       "      <td>-23.5634</td>\n",
       "      <td>-46.6544</td>\n",
       "      <td>45104</td>\n",
       "      <td>34</td>\n",
       "      <td>62</td>\n",
       "      <td>27</td>\n",
       "      <td>...</td>\n",
       "      <td>13</td>\n",
       "      <td>36</td>\n",
       "      <td>13</td>\n",
       "      <td>29</td>\n",
       "      <td>NORMAL</td>\n",
       "      <td>1578.0</td>\n",
       "      <td>NaN</td>\n",
       "      <td>NaN</td>\n",
       "      <td>NaN</td>\n",
       "      <td>NaN</td>\n",
       "    </tr>\n",
       "    <tr>\n",
       "      <th>1</th>\n",
       "      <td>000ac62b7850525df9febd4a6713dcd3</td>\n",
       "      <td>1-1b7cc2fea69a48354a3e488bf6207a97</td>\n",
       "      <td>2019-11-30</td>\n",
       "      <td>Tamanduateí</td>\n",
       "      <td>-23.5929</td>\n",
       "      <td>-46.5897</td>\n",
       "      <td>53360</td>\n",
       "      <td>74</td>\n",
       "      <td>49</td>\n",
       "      <td>65</td>\n",
       "      <td>...</td>\n",
       "      <td>37</td>\n",
       "      <td>3</td>\n",
       "      <td>28</td>\n",
       "      <td>16</td>\n",
       "      <td>NORMAL</td>\n",
       "      <td>3570.0</td>\n",
       "      <td>NaN</td>\n",
       "      <td>NaN</td>\n",
       "      <td>NaN</td>\n",
       "      <td>NaN</td>\n",
       "    </tr>\n",
       "    <tr>\n",
       "      <th>2</th>\n",
       "      <td>000ac62b7850525df9febd4a671540dc</td>\n",
       "      <td>1-240fe2514c177df92a1e8627a39fcdf5</td>\n",
       "      <td>2019-12-25</td>\n",
       "      <td>Tamanduateí</td>\n",
       "      <td>-23.5929</td>\n",
       "      <td>-46.5897</td>\n",
       "      <td>51358</td>\n",
       "      <td>3</td>\n",
       "      <td>37</td>\n",
       "      <td>30</td>\n",
       "      <td>...</td>\n",
       "      <td>15</td>\n",
       "      <td>43</td>\n",
       "      <td>6</td>\n",
       "      <td>4</td>\n",
       "      <td>REABASTECER</td>\n",
       "      <td>3595.0</td>\n",
       "      <td>NaN</td>\n",
       "      <td>NaN</td>\n",
       "      <td>NaN</td>\n",
       "      <td>NaN</td>\n",
       "    </tr>\n",
       "    <tr>\n",
       "      <th>3</th>\n",
       "      <td>000ac62b7850525df9febd4a671a2cd9</td>\n",
       "      <td>1-950bd3e3f0c02b57c0b82013515ac220</td>\n",
       "      <td>2018-3-8</td>\n",
       "      <td>Sé</td>\n",
       "      <td>-23.5500</td>\n",
       "      <td>-46.6333</td>\n",
       "      <td>193499</td>\n",
       "      <td>8</td>\n",
       "      <td>49</td>\n",
       "      <td>65</td>\n",
       "      <td>...</td>\n",
       "      <td>4</td>\n",
       "      <td>19</td>\n",
       "      <td>39</td>\n",
       "      <td>35</td>\n",
       "      <td>NORMAL</td>\n",
       "      <td>3668.0</td>\n",
       "      <td>NaN</td>\n",
       "      <td>NaN</td>\n",
       "      <td>NaN</td>\n",
       "      <td>NaN</td>\n",
       "    </tr>\n",
       "    <tr>\n",
       "      <th>4</th>\n",
       "      <td>000ac62b7850525df9febd4a671a76fa</td>\n",
       "      <td>1-fbc82cb0ec755b94613c520249702ceb</td>\n",
       "      <td>2018-11-2</td>\n",
       "      <td>Trianon-Masp</td>\n",
       "      <td>-23.5634</td>\n",
       "      <td>-46.6544</td>\n",
       "      <td>42740</td>\n",
       "      <td>70</td>\n",
       "      <td>18</td>\n",
       "      <td>8</td>\n",
       "      <td>...</td>\n",
       "      <td>31</td>\n",
       "      <td>43</td>\n",
       "      <td>26</td>\n",
       "      <td>3</td>\n",
       "      <td>NORMAL</td>\n",
       "      <td>1742.0</td>\n",
       "      <td>NaN</td>\n",
       "      <td>NaN</td>\n",
       "      <td>NaN</td>\n",
       "      <td>NaN</td>\n",
       "    </tr>\n",
       "  </tbody>\n",
       "</table>\n",
       "<p>5 rows × 21 columns</p>\n",
       "</div>"
      ],
      "text/plain": [
       "                                _id                                _rev  \\\n",
       "0  000ac62b7850525df9febd4a670e232e  1-6b1e474a57f306eee38b93d5acb6a3cb   \n",
       "1  000ac62b7850525df9febd4a6713dcd3  1-1b7cc2fea69a48354a3e488bf6207a97   \n",
       "2  000ac62b7850525df9febd4a671540dc  1-240fe2514c177df92a1e8627a39fcdf5   \n",
       "3  000ac62b7850525df9febd4a671a2cd9  1-950bd3e3f0c02b57c0b82013515ac220   \n",
       "4  000ac62b7850525df9febd4a671a76fa  1-fbc82cb0ec755b94613c520249702ceb   \n",
       "\n",
       "        Tempo       Estação      LAT     LONG Movimentação Original_473  \\\n",
       "0   2018-5-18  Trianon-Masp -23.5634 -46.6544        45104           34   \n",
       "1  2019-11-30   Tamanduateí -23.5929 -46.5897        53360           74   \n",
       "2  2019-12-25   Tamanduateí -23.5929 -46.5897        51358            3   \n",
       "3    2018-3-8            Sé -23.5500 -46.6333       193499            8   \n",
       "4   2018-11-2  Trianon-Masp -23.5634 -46.6544        42740           70   \n",
       "\n",
       "  Original_269 Zero  ... Tangerina Citrus Açaí-Guaraná Pêssego       TARGET  \\\n",
       "0           62   27  ...        13     36           13      29       NORMAL   \n",
       "1           49   65  ...        37      3           28      16       NORMAL   \n",
       "2           37   30  ...        15     43            6       4  REABASTECER   \n",
       "3           49   65  ...         4     19           39      35       NORMAL   \n",
       "4           18    8  ...        31     43           26       3       NORMAL   \n",
       "\n",
       "      row  topic payload qos  retain  \n",
       "0  1578.0    NaN     NaN NaN     NaN  \n",
       "1  3570.0    NaN     NaN NaN     NaN  \n",
       "2  3595.0    NaN     NaN NaN     NaN  \n",
       "3  3668.0    NaN     NaN NaN     NaN  \n",
       "4  1742.0    NaN     NaN NaN     NaN  \n",
       "\n",
       "[5 rows x 21 columns]"
      ]
     },
     "execution_count": 5,
     "metadata": {},
     "output_type": "execute_result"
    }
   ],
   "source": [
    "# Insira aqui o pandasDataFrame.\n",
    "df = pd.DataFrame(data=docs)\n",
    "\n",
    "df[\"LAT\"] = df[\"LAT\"].astype(float)\n",
    "df[\"LONG\"] = df[\"LONG\"].astype(float)\n",
    "\n",
    "df.head()"
   ]
  },
  {
   "cell_type": "code",
   "execution_count": 6,
   "metadata": {},
   "outputs": [
    {
     "data": {
      "text/plain": [
       "(122416, 21)"
      ]
     },
     "execution_count": 6,
     "metadata": {},
     "output_type": "execute_result"
    }
   ],
   "source": [
    "df.shape"
   ]
  },
  {
   "cell_type": "code",
   "execution_count": 7,
   "metadata": {},
   "outputs": [],
   "source": [
    "df_distinct = df.drop_duplicates(\"row\")"
   ]
  },
  {
   "cell_type": "code",
   "execution_count": 8,
   "metadata": {},
   "outputs": [
    {
     "data": {
      "text/plain": [
       "(17010, 21)"
      ]
     },
     "execution_count": 8,
     "metadata": {},
     "output_type": "execute_result"
    }
   ],
   "source": [
    "df_distinct.shape"
   ]
  },
  {
   "cell_type": "code",
   "execution_count": 9,
   "metadata": {},
   "outputs": [
    {
     "data": {
      "text/html": [
       "<div>\n",
       "<style scoped>\n",
       "    .dataframe tbody tr th:only-of-type {\n",
       "        vertical-align: middle;\n",
       "    }\n",
       "\n",
       "    .dataframe tbody tr th {\n",
       "        vertical-align: top;\n",
       "    }\n",
       "\n",
       "    .dataframe thead th {\n",
       "        text-align: right;\n",
       "    }\n",
       "</style>\n",
       "<table border=\"1\" class=\"dataframe\">\n",
       "  <thead>\n",
       "    <tr style=\"text-align: right;\">\n",
       "      <th></th>\n",
       "      <th>_id</th>\n",
       "      <th>_rev</th>\n",
       "      <th>Tempo</th>\n",
       "      <th>Estação</th>\n",
       "      <th>LAT</th>\n",
       "      <th>LONG</th>\n",
       "      <th>Movimentação</th>\n",
       "      <th>Original_473</th>\n",
       "      <th>Original_269</th>\n",
       "      <th>Zero</th>\n",
       "      <th>...</th>\n",
       "      <th>Tangerina</th>\n",
       "      <th>Citrus</th>\n",
       "      <th>Açaí-Guaraná</th>\n",
       "      <th>Pêssego</th>\n",
       "      <th>TARGET</th>\n",
       "      <th>row</th>\n",
       "      <th>topic</th>\n",
       "      <th>payload</th>\n",
       "      <th>qos</th>\n",
       "      <th>retain</th>\n",
       "    </tr>\n",
       "  </thead>\n",
       "  <tbody>\n",
       "    <tr>\n",
       "      <th>117007</th>\n",
       "      <td>f3ec24ca5f364afc4fc1a23e957cdd5e</td>\n",
       "      <td>1-676742f150d6de5250ef3ebd33235970</td>\n",
       "      <td>2018-12-6</td>\n",
       "      <td>Brigadeiro</td>\n",
       "      <td>-23.5683</td>\n",
       "      <td>-46.6482</td>\n",
       "      <td>47873</td>\n",
       "      <td>25</td>\n",
       "      <td>35</td>\n",
       "      <td>6</td>\n",
       "      <td>...</td>\n",
       "      <td>23</td>\n",
       "      <td>29</td>\n",
       "      <td>15</td>\n",
       "      <td>40</td>\n",
       "      <td>NORMAL</td>\n",
       "      <td>1056.0</td>\n",
       "      <td>NaN</td>\n",
       "      <td>NaN</td>\n",
       "      <td>NaN</td>\n",
       "      <td>NaN</td>\n",
       "    </tr>\n",
       "    <tr>\n",
       "      <th>118452</th>\n",
       "      <td>f7973bfbf1c9726a371bc988e40a8e1a</td>\n",
       "      <td>1-4a8023f084a4fd4453f5a50b85a74301</td>\n",
       "      <td>2019-2-19</td>\n",
       "      <td>Brooklin</td>\n",
       "      <td>-23.6263</td>\n",
       "      <td>-46.6878</td>\n",
       "      <td>26301</td>\n",
       "      <td>13</td>\n",
       "      <td>36</td>\n",
       "      <td>53</td>\n",
       "      <td>...</td>\n",
       "      <td>43</td>\n",
       "      <td>25</td>\n",
       "      <td>18</td>\n",
       "      <td>26</td>\n",
       "      <td>NORMAL</td>\n",
       "      <td>14809.0</td>\n",
       "      <td>NaN</td>\n",
       "      <td>NaN</td>\n",
       "      <td>NaN</td>\n",
       "      <td>NaN</td>\n",
       "    </tr>\n",
       "    <tr>\n",
       "      <th>118697</th>\n",
       "      <td>f801263354b775a77abdf22580ae5bce</td>\n",
       "      <td>1-6d055c70dc72fe22bb2f72d40b21f354</td>\n",
       "      <td>2018-11-11</td>\n",
       "      <td>Sé</td>\n",
       "      <td>-23.5500</td>\n",
       "      <td>-46.6333</td>\n",
       "      <td>193270</td>\n",
       "      <td>8</td>\n",
       "      <td>25</td>\n",
       "      <td>49</td>\n",
       "      <td>...</td>\n",
       "      <td>38</td>\n",
       "      <td>32</td>\n",
       "      <td>11</td>\n",
       "      <td>36</td>\n",
       "      <td>REABASTECER</td>\n",
       "      <td>3911.0</td>\n",
       "      <td>NaN</td>\n",
       "      <td>NaN</td>\n",
       "      <td>NaN</td>\n",
       "      <td>NaN</td>\n",
       "    </tr>\n",
       "    <tr>\n",
       "      <th>121563</th>\n",
       "      <td>fe8fe011ad1ca5c55c7d24831559b74c</td>\n",
       "      <td>1-32b6ed4439995bfc588751256a0bbdcd</td>\n",
       "      <td>2018-2-20</td>\n",
       "      <td>Eucaliptos</td>\n",
       "      <td>-23.6100</td>\n",
       "      <td>-46.6686</td>\n",
       "      <td>24502</td>\n",
       "      <td>44</td>\n",
       "      <td>17</td>\n",
       "      <td>0</td>\n",
       "      <td>...</td>\n",
       "      <td>17</td>\n",
       "      <td>22</td>\n",
       "      <td>10</td>\n",
       "      <td>17</td>\n",
       "      <td>REABASTECER</td>\n",
       "      <td>15890.0</td>\n",
       "      <td>NaN</td>\n",
       "      <td>NaN</td>\n",
       "      <td>NaN</td>\n",
       "      <td>NaN</td>\n",
       "    </tr>\n",
       "    <tr>\n",
       "      <th>122398</th>\n",
       "      <td>ffa585d17afd4af1f818b16265b2d654</td>\n",
       "      <td>1-ea08432ad049096c56281e0c22a61b9b</td>\n",
       "      <td>2019-8-6</td>\n",
       "      <td>Campo Belo</td>\n",
       "      <td>-23.6188</td>\n",
       "      <td>-46.6823</td>\n",
       "      <td>24573</td>\n",
       "      <td>28</td>\n",
       "      <td>55</td>\n",
       "      <td>65</td>\n",
       "      <td>...</td>\n",
       "      <td>31</td>\n",
       "      <td>28</td>\n",
       "      <td>39</td>\n",
       "      <td>15</td>\n",
       "      <td>NORMAL</td>\n",
       "      <td>15696.0</td>\n",
       "      <td>NaN</td>\n",
       "      <td>NaN</td>\n",
       "      <td>NaN</td>\n",
       "      <td>NaN</td>\n",
       "    </tr>\n",
       "  </tbody>\n",
       "</table>\n",
       "<p>5 rows × 21 columns</p>\n",
       "</div>"
      ],
      "text/plain": [
       "                                     _id                                _rev  \\\n",
       "117007  f3ec24ca5f364afc4fc1a23e957cdd5e  1-676742f150d6de5250ef3ebd33235970   \n",
       "118452  f7973bfbf1c9726a371bc988e40a8e1a  1-4a8023f084a4fd4453f5a50b85a74301   \n",
       "118697  f801263354b775a77abdf22580ae5bce  1-6d055c70dc72fe22bb2f72d40b21f354   \n",
       "121563  fe8fe011ad1ca5c55c7d24831559b74c  1-32b6ed4439995bfc588751256a0bbdcd   \n",
       "122398  ffa585d17afd4af1f818b16265b2d654  1-ea08432ad049096c56281e0c22a61b9b   \n",
       "\n",
       "             Tempo     Estação      LAT     LONG Movimentação Original_473  \\\n",
       "117007   2018-12-6  Brigadeiro -23.5683 -46.6482        47873           25   \n",
       "118452   2019-2-19    Brooklin -23.6263 -46.6878        26301           13   \n",
       "118697  2018-11-11          Sé -23.5500 -46.6333       193270            8   \n",
       "121563   2018-2-20  Eucaliptos -23.6100 -46.6686        24502           44   \n",
       "122398    2019-8-6  Campo Belo -23.6188 -46.6823        24573           28   \n",
       "\n",
       "       Original_269 Zero  ... Tangerina Citrus Açaí-Guaraná Pêssego  \\\n",
       "117007           35    6  ...        23     29           15      40   \n",
       "118452           36   53  ...        43     25           18      26   \n",
       "118697           25   49  ...        38     32           11      36   \n",
       "121563           17    0  ...        17     22           10      17   \n",
       "122398           55   65  ...        31     28           39      15   \n",
       "\n",
       "             TARGET      row  topic payload qos  retain  \n",
       "117007       NORMAL   1056.0    NaN     NaN NaN     NaN  \n",
       "118452       NORMAL  14809.0    NaN     NaN NaN     NaN  \n",
       "118697  REABASTECER   3911.0    NaN     NaN NaN     NaN  \n",
       "121563  REABASTECER  15890.0    NaN     NaN NaN     NaN  \n",
       "122398       NORMAL  15696.0    NaN     NaN NaN     NaN  \n",
       "\n",
       "[5 rows x 21 columns]"
      ]
     },
     "execution_count": 9,
     "metadata": {},
     "output_type": "execute_result"
    }
   ],
   "source": [
    "df_training_dataset = df_distinct\n",
    "df_training_dataset.tail()"
   ]
  },
  {
   "cell_type": "code",
   "execution_count": 10,
   "metadata": {},
   "outputs": [],
   "source": [
    "df_training_dataset.to_csv(\"dataset.csv\", index=False)"
   ]
  },
  {
   "cell_type": "markdown",
   "metadata": {},
   "source": [
    "Sobre o arquivo \"training_dataset.csv\", temos algumas informações gerais sobre os usuários do app do BanCoppel:\n",
    "\n",
    "**Tempo**\n",
    "\n",
    "**Estação**\n",
    "\n",
    "**LAT**\n",
    "\n",
    "**LONG**\n",
    "\n",
    "**Movimentação**\n",
    "\n",
    "**Original_473**\n",
    "\n",
    "**Original_269**\n",
    "\n",
    "**Zero**\n",
    "\n",
    "**Maçã-Verde**\n",
    "\n",
    "**Tangerina**\n",
    "\n",
    "**Citrus**\n",
    "\n",
    "**Açaí-Guaraná**\n",
    "\n",
    "**Pêssego**\n",
    "\n",
    "**TARGET**"
   ]
  },
  {
   "cell_type": "code",
   "execution_count": 11,
   "metadata": {},
   "outputs": [
    {
     "name": "stdout",
     "output_type": "stream",
     "text": [
      "<class 'pandas.core.frame.DataFrame'>\n",
      "Int64Index: 17010 entries, 34416 to 12723\n",
      "Data columns (total 14 columns):\n",
      " #   Column        Non-Null Count  Dtype  \n",
      "---  ------        --------------  -----  \n",
      " 0   Tempo         17009 non-null  object \n",
      " 1   Estação       17009 non-null  object \n",
      " 2   LAT           17009 non-null  float64\n",
      " 3   LONG          17009 non-null  float64\n",
      " 4   Movimentação  17009 non-null  object \n",
      " 5   Original_473  17009 non-null  object \n",
      " 6   Original_269  17009 non-null  object \n",
      " 7   Zero          17009 non-null  object \n",
      " 8   Maçã-Verde    17009 non-null  object \n",
      " 9   Tangerina     17009 non-null  object \n",
      " 10  Citrus        17009 non-null  object \n",
      " 11  Açaí-Guaraná  17009 non-null  object \n",
      " 12  Pêssego       17009 non-null  object \n",
      " 13  TARGET        17009 non-null  object \n",
      "dtypes: float64(2), object(12)\n",
      "memory usage: 1.9+ MB\n"
     ]
    }
   ],
   "source": [
    "df_training_dataset = df_training_dataset.sort_values(\"row\")\n",
    "df_training_dataset = df_training_dataset[[\"Tempo\", \"Estação\", \"LAT\", \"LONG\", \"Movimentação\", \"Original_473\",\n",
    "                                          \"Original_269\", \"Zero\", \"Maçã-Verde\", \"Tangerina\", \"Citrus\", \"Açaí-Guaraná\",\n",
    "                                          \"Pêssego\", \"TARGET\"]]\n",
    "df_training_dataset.info()"
   ]
  },
  {
   "cell_type": "code",
   "execution_count": 12,
   "metadata": {},
   "outputs": [
    {
     "data": {
      "text/plain": [
       "Tempo             720\n",
       "Estação            25\n",
       "LAT                25\n",
       "LONG               25\n",
       "Movimentação    14866\n",
       "Original_473       81\n",
       "Original_269       65\n",
       "Zero               63\n",
       "Maçã-Verde         43\n",
       "Tangerina          42\n",
       "Citrus             43\n",
       "Açaí-Guaraná       42\n",
       "Pêssego            42\n",
       "TARGET              2\n",
       "dtype: int64"
      ]
     },
     "execution_count": 12,
     "metadata": {},
     "output_type": "execute_result"
    }
   ],
   "source": [
    "df_training_dataset.nunique()"
   ]
  },
  {
   "cell_type": "markdown",
   "metadata": {},
   "source": [
    "<hr>\n",
    "\n",
    "## Detalhamento do desafio: classificação binária\n",
    "\n",
    "Este é um desafio cujo objetivo de negócio é a segmentação dos usuários de aplicativo de um banco. Para tal, podemos utilizar duas abordagens: aprendizado de máquina supervisionado (classificação) ou não-supervisionado (clustering). Neste desafio será aplicada a classificação, pois é disponível um dataset já com \"labels\", ou em outras palavras, já com exemplos de dados juntamente com a variável alvo.\n",
    "\n",
    "Na biblioteca scikit-learn temos diversos algoritmos para classificação. O participante é livre para utilizar o framework que desejar para completar esse desafio.\n",
    "\n",
    "Neste notebook será mostrado um exeplo de uso do algoritmo \"Decision Tree\" para classificar parte dos estudantes em seis diferentes perfís."
   ]
  },
  {
   "cell_type": "markdown",
   "metadata": {},
   "source": [
    "# Atenção!\n",
    "\n",
    "A coluna-alvo neste desafio é a coluna ``TARGET``"
   ]
  },
  {
   "cell_type": "markdown",
   "metadata": {},
   "source": [
    "<hr>"
   ]
  },
  {
   "cell_type": "code",
   "execution_count": null,
   "metadata": {},
   "outputs": [],
   "source": []
  },
  {
   "cell_type": "code",
   "execution_count": null,
   "metadata": {},
   "outputs": [],
   "source": []
  },
  {
   "cell_type": "code",
   "execution_count": null,
   "metadata": {},
   "outputs": [],
   "source": []
  },
  {
   "cell_type": "markdown",
   "metadata": {},
   "source": [
    "## Pre-processando o dataset antes do treinamento"
   ]
  },
  {
   "cell_type": "markdown",
   "metadata": {},
   "source": [
    "### Processando valores NaN com o SimpleImputer do sklearn\n",
    "\n",
    "Para os valores NaN, usaremos a substituição pela constante 0 como **exemplo**.\n",
    "\n",
    "Você pode escolher a estratégia que achar melhor para tratar os valores nulos :)\n",
    "\n",
    "Docs: https://scikit-learn.org/stable/modules/generated/sklearn.impute.SimpleImputer.html?highlight=simpleimputer#sklearn.impute.SimpleImputer"
   ]
  },
  {
   "cell_type": "code",
   "execution_count": 13,
   "metadata": {},
   "outputs": [],
   "source": [
    "from sklearn.impute import SimpleImputer\n",
    "import numpy as np\n",
    "\n",
    "\n",
    "impute_zeros = SimpleImputer(\n",
    "    missing_values=np.nan,\n",
    "    strategy='constant',\n",
    "    fill_value=0,\n",
    "    verbose=0,\n",
    "    copy=True\n",
    ")"
   ]
  },
  {
   "cell_type": "code",
   "execution_count": 14,
   "metadata": {},
   "outputs": [
    {
     "name": "stdout",
     "output_type": "stream",
     "text": [
      "Valores nulos no df_training_dataset antes da transformação SimpleImputer: \n",
      "\n",
      "Tempo           1\n",
      "Estação         1\n",
      "LAT             1\n",
      "LONG            1\n",
      "Movimentação    1\n",
      "Original_473    1\n",
      "Original_269    1\n",
      "Zero            1\n",
      "Maçã-Verde      1\n",
      "Tangerina       1\n",
      "Citrus          1\n",
      "Açaí-Guaraná    1\n",
      "Pêssego         1\n",
      "TARGET          1\n",
      "dtype: int64\n",
      "\n",
      "Valores nulos no df_training_dataset após a transformação SimpleImputer: \n",
      "\n",
      "Tempo           0\n",
      "Estação         0\n",
      "LAT             0\n",
      "LONG            0\n",
      "Movimentação    0\n",
      "Original_473    0\n",
      "Original_269    0\n",
      "Zero            0\n",
      "Maçã-Verde      0\n",
      "Tangerina       0\n",
      "Citrus          0\n",
      "Açaí-Guaraná    0\n",
      "Pêssego         0\n",
      "TARGET          0\n",
      "dtype: int64\n",
      "\n"
     ]
    }
   ],
   "source": [
    "# Exibindo os dados ausentes do conjunto de dados antes da primeira transformação (df)\n",
    "print(\"Valores nulos no df_training_dataset antes da transformação SimpleImputer: \\n\\n{}\\n\".format(df_training_dataset.isnull().sum(axis = 0)))\n",
    "\n",
    "# Aplicando a transformação ``SimpleImputer`` no conjunto de dados base\n",
    "impute_zeros.fit(X=df_training_dataset)\n",
    "\n",
    "# Reconstruindo um Pandas DataFrame com os resultados\n",
    "df_training_dataset_imputed = pd.DataFrame.from_records(\n",
    "    data=impute_zeros.transform(\n",
    "        X=df_training_dataset\n",
    "    ),\n",
    "    columns=df_training_dataset.columns\n",
    ")\n",
    "\n",
    "# Eliminar linha com zero\n",
    "df_training_dataset_imputed = df_training_dataset_imputed[(df_training_dataset_imputed[[\"Estação\", \"Tempo\"]] != 0).all(axis=1)]\n",
    "\n",
    "# Exibindo os dados ausentes do conjunto de dados após a primeira transformação (df)\n",
    "print(\"Valores nulos no df_training_dataset após a transformação SimpleImputer: \\n\\n{}\\n\".format(df_training_dataset_imputed.isnull().sum(axis = 0)))"
   ]
  },
  {
   "cell_type": "markdown",
   "metadata": {},
   "source": [
    "### Eliminando colunas indesejadas\n",
    "\n",
    "Vamos **demonstrar** abaixo como usar o método **DataFrame.drop()**.\n",
    "\n",
    "Docs: https://pandas.pydata.org/pandas-docs/stable/reference/api/pandas.DataFrame.drop.html"
   ]
  },
  {
   "cell_type": "code",
   "execution_count": 15,
   "metadata": {},
   "outputs": [
    {
     "data": {
      "text/html": [
       "<div>\n",
       "<style scoped>\n",
       "    .dataframe tbody tr th:only-of-type {\n",
       "        vertical-align: middle;\n",
       "    }\n",
       "\n",
       "    .dataframe tbody tr th {\n",
       "        vertical-align: top;\n",
       "    }\n",
       "\n",
       "    .dataframe thead th {\n",
       "        text-align: right;\n",
       "    }\n",
       "</style>\n",
       "<table border=\"1\" class=\"dataframe\">\n",
       "  <thead>\n",
       "    <tr style=\"text-align: right;\">\n",
       "      <th></th>\n",
       "      <th>Tempo</th>\n",
       "      <th>Estação</th>\n",
       "      <th>LAT</th>\n",
       "      <th>LONG</th>\n",
       "      <th>Movimentação</th>\n",
       "      <th>Original_473</th>\n",
       "      <th>Original_269</th>\n",
       "      <th>Zero</th>\n",
       "      <th>Maçã-Verde</th>\n",
       "      <th>Tangerina</th>\n",
       "      <th>Citrus</th>\n",
       "      <th>Açaí-Guaraná</th>\n",
       "      <th>Pêssego</th>\n",
       "      <th>TARGET</th>\n",
       "    </tr>\n",
       "  </thead>\n",
       "  <tbody>\n",
       "    <tr>\n",
       "      <th>17004</th>\n",
       "      <td>2019-12-26</td>\n",
       "      <td>Hospital São Paulo</td>\n",
       "      <td>-23.5984</td>\n",
       "      <td>-46.6455</td>\n",
       "      <td>25702</td>\n",
       "      <td>53</td>\n",
       "      <td>54</td>\n",
       "      <td>26</td>\n",
       "      <td>38</td>\n",
       "      <td>23</td>\n",
       "      <td>25</td>\n",
       "      <td>11</td>\n",
       "      <td>37</td>\n",
       "      <td>NORMAL</td>\n",
       "    </tr>\n",
       "    <tr>\n",
       "      <th>17005</th>\n",
       "      <td>2019-12-27</td>\n",
       "      <td>Hospital São Paulo</td>\n",
       "      <td>-23.5984</td>\n",
       "      <td>-46.6455</td>\n",
       "      <td>26236</td>\n",
       "      <td>43</td>\n",
       "      <td>52</td>\n",
       "      <td>17</td>\n",
       "      <td>33</td>\n",
       "      <td>18</td>\n",
       "      <td>21</td>\n",
       "      <td>5</td>\n",
       "      <td>35</td>\n",
       "      <td>REABASTECER</td>\n",
       "    </tr>\n",
       "    <tr>\n",
       "      <th>17006</th>\n",
       "      <td>2019-12-28</td>\n",
       "      <td>Hospital São Paulo</td>\n",
       "      <td>-23.5984</td>\n",
       "      <td>-46.6455</td>\n",
       "      <td>27174</td>\n",
       "      <td>34</td>\n",
       "      <td>50</td>\n",
       "      <td>9</td>\n",
       "      <td>28</td>\n",
       "      <td>15</td>\n",
       "      <td>16</td>\n",
       "      <td>43</td>\n",
       "      <td>32</td>\n",
       "      <td>NORMAL</td>\n",
       "    </tr>\n",
       "    <tr>\n",
       "      <th>17007</th>\n",
       "      <td>2019-12-29</td>\n",
       "      <td>Hospital São Paulo</td>\n",
       "      <td>-23.5984</td>\n",
       "      <td>-46.6455</td>\n",
       "      <td>26877</td>\n",
       "      <td>22</td>\n",
       "      <td>47</td>\n",
       "      <td>65</td>\n",
       "      <td>27</td>\n",
       "      <td>11</td>\n",
       "      <td>16</td>\n",
       "      <td>39</td>\n",
       "      <td>30</td>\n",
       "      <td>NORMAL</td>\n",
       "    </tr>\n",
       "    <tr>\n",
       "      <th>17008</th>\n",
       "      <td>2019-12-30</td>\n",
       "      <td>Hospital São Paulo</td>\n",
       "      <td>-23.5984</td>\n",
       "      <td>-46.6455</td>\n",
       "      <td>26759</td>\n",
       "      <td>9</td>\n",
       "      <td>42</td>\n",
       "      <td>56</td>\n",
       "      <td>22</td>\n",
       "      <td>8</td>\n",
       "      <td>10</td>\n",
       "      <td>35</td>\n",
       "      <td>26</td>\n",
       "      <td>NORMAL</td>\n",
       "    </tr>\n",
       "  </tbody>\n",
       "</table>\n",
       "</div>"
      ],
      "text/plain": [
       "            Tempo             Estação      LAT     LONG Movimentação  \\\n",
       "17004  2019-12-26  Hospital São Paulo -23.5984 -46.6455        25702   \n",
       "17005  2019-12-27  Hospital São Paulo -23.5984 -46.6455        26236   \n",
       "17006  2019-12-28  Hospital São Paulo -23.5984 -46.6455        27174   \n",
       "17007  2019-12-29  Hospital São Paulo -23.5984 -46.6455        26877   \n",
       "17008  2019-12-30  Hospital São Paulo -23.5984 -46.6455        26759   \n",
       "\n",
       "      Original_473 Original_269 Zero Maçã-Verde Tangerina Citrus Açaí-Guaraná  \\\n",
       "17004           53           54   26         38        23     25           11   \n",
       "17005           43           52   17         33        18     21            5   \n",
       "17006           34           50    9         28        15     16           43   \n",
       "17007           22           47   65         27        11     16           39   \n",
       "17008            9           42   56         22         8     10           35   \n",
       "\n",
       "      Pêssego       TARGET  \n",
       "17004      37       NORMAL  \n",
       "17005      35  REABASTECER  \n",
       "17006      32       NORMAL  \n",
       "17007      30       NORMAL  \n",
       "17008      26       NORMAL  "
      ]
     },
     "execution_count": 15,
     "metadata": {},
     "output_type": "execute_result"
    }
   ],
   "source": [
    "df_training_dataset_imputed.tail()"
   ]
  },
  {
   "cell_type": "code",
   "execution_count": 16,
   "metadata": {},
   "outputs": [],
   "source": [
    "df_training_dataset_rmcolumns = df_training_dataset_imputed.drop(columns=['LAT', 'LONG'], inplace=False)"
   ]
  },
  {
   "cell_type": "markdown",
   "metadata": {},
   "source": [
    "# Atenção!\n",
    "\n",
    "As colunas removidas acima são apenas para fim de exemplo, você pode usar as colunas que quiser e inclusive criar novas colunas com dados que achar importantes!\n"
   ]
  },
  {
   "cell_type": "markdown",
   "metadata": {},
   "source": [
    "### Tratamento de de variáveis categóricas\n",
    "\n",
    "Como mencionado antes, os computadores não são bons com variáveis \"categóricas\" (ou strings).\n",
    "\n",
    "Dado uma coluna com variável categórica, o que podemos realizar é a codificação dessa coluna em múltiplas colunas contendo variáveis binárias. Esse processo é chamado de \"one-hot-encoding\" ou \"dummy encoding\". Se você não é familiarizado com esses termos, você pode pesquisar mais sobre isso na internet :)"
   ]
  },
  {
   "cell_type": "code",
   "execution_count": 17,
   "metadata": {},
   "outputs": [],
   "source": [
    "# Tratando variáveis categóricas com o método Pandas ``get_dummies()''\n",
    "# df_training = pd.get_dummies(df_training_dataset_rmcolumns, columns=['Variável a ser aplicado método getDumies()'])\n",
    "# df_training = df_training_dataset_rmcolumns\n",
    "# df_training.tail()"
   ]
  },
  {
   "cell_type": "markdown",
   "metadata": {},
   "source": [
    "# Atenção!\n",
    "\n",
    "A coluna **TARGET** deve ser mantida como uma string. Você não precisa processar/codificar a variável-alvo."
   ]
  },
  {
   "cell_type": "markdown",
   "metadata": {},
   "source": [
    "<hr>"
   ]
  },
  {
   "cell_type": "markdown",
   "metadata": {},
   "source": [
    "## Treinando um classificador com base em uma árvore de decisão"
   ]
  },
  {
   "cell_type": "markdown",
   "metadata": {},
   "source": [
    "### Selecionando FEATURES e definindo a variável TARGET"
   ]
  },
  {
   "cell_type": "code",
   "execution_count": 18,
   "metadata": {},
   "outputs": [
    {
     "data": {
      "text/html": [
       "<div>\n",
       "<style scoped>\n",
       "    .dataframe tbody tr th:only-of-type {\n",
       "        vertical-align: middle;\n",
       "    }\n",
       "\n",
       "    .dataframe tbody tr th {\n",
       "        vertical-align: top;\n",
       "    }\n",
       "\n",
       "    .dataframe thead th {\n",
       "        text-align: right;\n",
       "    }\n",
       "</style>\n",
       "<table border=\"1\" class=\"dataframe\">\n",
       "  <thead>\n",
       "    <tr style=\"text-align: right;\">\n",
       "      <th></th>\n",
       "      <th>Tempo</th>\n",
       "      <th>Estação</th>\n",
       "      <th>Movimentação</th>\n",
       "      <th>Original_473</th>\n",
       "      <th>Original_269</th>\n",
       "      <th>Zero</th>\n",
       "      <th>Maçã-Verde</th>\n",
       "      <th>Tangerina</th>\n",
       "      <th>Citrus</th>\n",
       "      <th>Açaí-Guaraná</th>\n",
       "      <th>Pêssego</th>\n",
       "      <th>TARGET</th>\n",
       "    </tr>\n",
       "  </thead>\n",
       "  <tbody>\n",
       "    <tr>\n",
       "      <th>16989</th>\n",
       "      <td>2019-12-11</td>\n",
       "      <td>Hospital São Paulo</td>\n",
       "      <td>25311</td>\n",
       "      <td>30</td>\n",
       "      <td>14</td>\n",
       "      <td>58</td>\n",
       "      <td>37</td>\n",
       "      <td>38</td>\n",
       "      <td>33</td>\n",
       "      <td>26</td>\n",
       "      <td>13</td>\n",
       "      <td>NORMAL</td>\n",
       "    </tr>\n",
       "    <tr>\n",
       "      <th>16990</th>\n",
       "      <td>2019-12-12</td>\n",
       "      <td>Hospital São Paulo</td>\n",
       "      <td>25341</td>\n",
       "      <td>23</td>\n",
       "      <td>8</td>\n",
       "      <td>52</td>\n",
       "      <td>34</td>\n",
       "      <td>34</td>\n",
       "      <td>29</td>\n",
       "      <td>24</td>\n",
       "      <td>7</td>\n",
       "      <td>NORMAL</td>\n",
       "    </tr>\n",
       "    <tr>\n",
       "      <th>16991</th>\n",
       "      <td>2019-12-13</td>\n",
       "      <td>Hospital São Paulo</td>\n",
       "      <td>27771</td>\n",
       "      <td>16</td>\n",
       "      <td>65</td>\n",
       "      <td>47</td>\n",
       "      <td>34</td>\n",
       "      <td>30</td>\n",
       "      <td>26</td>\n",
       "      <td>21</td>\n",
       "      <td>2</td>\n",
       "      <td>NORMAL</td>\n",
       "    </tr>\n",
       "    <tr>\n",
       "      <th>16992</th>\n",
       "      <td>2019-12-14</td>\n",
       "      <td>Hospital São Paulo</td>\n",
       "      <td>27743</td>\n",
       "      <td>6</td>\n",
       "      <td>57</td>\n",
       "      <td>42</td>\n",
       "      <td>34</td>\n",
       "      <td>25</td>\n",
       "      <td>22</td>\n",
       "      <td>16</td>\n",
       "      <td>43</td>\n",
       "      <td>NORMAL</td>\n",
       "    </tr>\n",
       "    <tr>\n",
       "      <th>16993</th>\n",
       "      <td>2019-12-15</td>\n",
       "      <td>Hospital São Paulo</td>\n",
       "      <td>24357</td>\n",
       "      <td>86</td>\n",
       "      <td>49</td>\n",
       "      <td>36</td>\n",
       "      <td>28</td>\n",
       "      <td>22</td>\n",
       "      <td>20</td>\n",
       "      <td>11</td>\n",
       "      <td>41</td>\n",
       "      <td>NORMAL</td>\n",
       "    </tr>\n",
       "    <tr>\n",
       "      <th>16994</th>\n",
       "      <td>2019-12-16</td>\n",
       "      <td>Hospital São Paulo</td>\n",
       "      <td>27837</td>\n",
       "      <td>79</td>\n",
       "      <td>46</td>\n",
       "      <td>26</td>\n",
       "      <td>24</td>\n",
       "      <td>20</td>\n",
       "      <td>17</td>\n",
       "      <td>7</td>\n",
       "      <td>36</td>\n",
       "      <td>NORMAL</td>\n",
       "    </tr>\n",
       "    <tr>\n",
       "      <th>16995</th>\n",
       "      <td>2019-12-17</td>\n",
       "      <td>Hospital São Paulo</td>\n",
       "      <td>26853</td>\n",
       "      <td>69</td>\n",
       "      <td>38</td>\n",
       "      <td>22</td>\n",
       "      <td>22</td>\n",
       "      <td>18</td>\n",
       "      <td>13</td>\n",
       "      <td>2</td>\n",
       "      <td>31</td>\n",
       "      <td>NORMAL</td>\n",
       "    </tr>\n",
       "    <tr>\n",
       "      <th>16996</th>\n",
       "      <td>2019-12-18</td>\n",
       "      <td>Hospital São Paulo</td>\n",
       "      <td>26636</td>\n",
       "      <td>59</td>\n",
       "      <td>34</td>\n",
       "      <td>12</td>\n",
       "      <td>22</td>\n",
       "      <td>16</td>\n",
       "      <td>11</td>\n",
       "      <td>43</td>\n",
       "      <td>25</td>\n",
       "      <td>NORMAL</td>\n",
       "    </tr>\n",
       "    <tr>\n",
       "      <th>16997</th>\n",
       "      <td>2019-12-19</td>\n",
       "      <td>Hospital São Paulo</td>\n",
       "      <td>27365</td>\n",
       "      <td>47</td>\n",
       "      <td>30</td>\n",
       "      <td>5</td>\n",
       "      <td>19</td>\n",
       "      <td>11</td>\n",
       "      <td>7</td>\n",
       "      <td>38</td>\n",
       "      <td>22</td>\n",
       "      <td>REABASTECER</td>\n",
       "    </tr>\n",
       "    <tr>\n",
       "      <th>16998</th>\n",
       "      <td>2019-12-20</td>\n",
       "      <td>Hospital São Paulo</td>\n",
       "      <td>26406</td>\n",
       "      <td>34</td>\n",
       "      <td>26</td>\n",
       "      <td>65</td>\n",
       "      <td>13</td>\n",
       "      <td>8</td>\n",
       "      <td>2</td>\n",
       "      <td>35</td>\n",
       "      <td>19</td>\n",
       "      <td>NORMAL</td>\n",
       "    </tr>\n",
       "    <tr>\n",
       "      <th>16999</th>\n",
       "      <td>2019-12-21</td>\n",
       "      <td>Hospital São Paulo</td>\n",
       "      <td>26720</td>\n",
       "      <td>21</td>\n",
       "      <td>21</td>\n",
       "      <td>59</td>\n",
       "      <td>13</td>\n",
       "      <td>3</td>\n",
       "      <td>43</td>\n",
       "      <td>29</td>\n",
       "      <td>13</td>\n",
       "      <td>REABASTECER</td>\n",
       "    </tr>\n",
       "    <tr>\n",
       "      <th>17000</th>\n",
       "      <td>2019-12-22</td>\n",
       "      <td>Hospital São Paulo</td>\n",
       "      <td>27367</td>\n",
       "      <td>11</td>\n",
       "      <td>16</td>\n",
       "      <td>53</td>\n",
       "      <td>9</td>\n",
       "      <td>43</td>\n",
       "      <td>37</td>\n",
       "      <td>27</td>\n",
       "      <td>11</td>\n",
       "      <td>REABASTECER</td>\n",
       "    </tr>\n",
       "    <tr>\n",
       "      <th>17001</th>\n",
       "      <td>2019-12-23</td>\n",
       "      <td>Hospital São Paulo</td>\n",
       "      <td>26645</td>\n",
       "      <td>86</td>\n",
       "      <td>8</td>\n",
       "      <td>46</td>\n",
       "      <td>9</td>\n",
       "      <td>38</td>\n",
       "      <td>34</td>\n",
       "      <td>23</td>\n",
       "      <td>7</td>\n",
       "      <td>REABASTECER</td>\n",
       "    </tr>\n",
       "    <tr>\n",
       "      <th>17002</th>\n",
       "      <td>2019-12-24</td>\n",
       "      <td>Hospital São Paulo</td>\n",
       "      <td>26367</td>\n",
       "      <td>77</td>\n",
       "      <td>65</td>\n",
       "      <td>42</td>\n",
       "      <td>5</td>\n",
       "      <td>34</td>\n",
       "      <td>34</td>\n",
       "      <td>21</td>\n",
       "      <td>3</td>\n",
       "      <td>NORMAL</td>\n",
       "    </tr>\n",
       "    <tr>\n",
       "      <th>17003</th>\n",
       "      <td>2019-12-25</td>\n",
       "      <td>Hospital São Paulo</td>\n",
       "      <td>25250</td>\n",
       "      <td>66</td>\n",
       "      <td>63</td>\n",
       "      <td>34</td>\n",
       "      <td>43</td>\n",
       "      <td>29</td>\n",
       "      <td>31</td>\n",
       "      <td>17</td>\n",
       "      <td>43</td>\n",
       "      <td>NORMAL</td>\n",
       "    </tr>\n",
       "    <tr>\n",
       "      <th>17004</th>\n",
       "      <td>2019-12-26</td>\n",
       "      <td>Hospital São Paulo</td>\n",
       "      <td>25702</td>\n",
       "      <td>53</td>\n",
       "      <td>54</td>\n",
       "      <td>26</td>\n",
       "      <td>38</td>\n",
       "      <td>23</td>\n",
       "      <td>25</td>\n",
       "      <td>11</td>\n",
       "      <td>37</td>\n",
       "      <td>NORMAL</td>\n",
       "    </tr>\n",
       "    <tr>\n",
       "      <th>17005</th>\n",
       "      <td>2019-12-27</td>\n",
       "      <td>Hospital São Paulo</td>\n",
       "      <td>26236</td>\n",
       "      <td>43</td>\n",
       "      <td>52</td>\n",
       "      <td>17</td>\n",
       "      <td>33</td>\n",
       "      <td>18</td>\n",
       "      <td>21</td>\n",
       "      <td>5</td>\n",
       "      <td>35</td>\n",
       "      <td>REABASTECER</td>\n",
       "    </tr>\n",
       "    <tr>\n",
       "      <th>17006</th>\n",
       "      <td>2019-12-28</td>\n",
       "      <td>Hospital São Paulo</td>\n",
       "      <td>27174</td>\n",
       "      <td>34</td>\n",
       "      <td>50</td>\n",
       "      <td>9</td>\n",
       "      <td>28</td>\n",
       "      <td>15</td>\n",
       "      <td>16</td>\n",
       "      <td>43</td>\n",
       "      <td>32</td>\n",
       "      <td>NORMAL</td>\n",
       "    </tr>\n",
       "    <tr>\n",
       "      <th>17007</th>\n",
       "      <td>2019-12-29</td>\n",
       "      <td>Hospital São Paulo</td>\n",
       "      <td>26877</td>\n",
       "      <td>22</td>\n",
       "      <td>47</td>\n",
       "      <td>65</td>\n",
       "      <td>27</td>\n",
       "      <td>11</td>\n",
       "      <td>16</td>\n",
       "      <td>39</td>\n",
       "      <td>30</td>\n",
       "      <td>NORMAL</td>\n",
       "    </tr>\n",
       "    <tr>\n",
       "      <th>17008</th>\n",
       "      <td>2019-12-30</td>\n",
       "      <td>Hospital São Paulo</td>\n",
       "      <td>26759</td>\n",
       "      <td>9</td>\n",
       "      <td>42</td>\n",
       "      <td>56</td>\n",
       "      <td>22</td>\n",
       "      <td>8</td>\n",
       "      <td>10</td>\n",
       "      <td>35</td>\n",
       "      <td>26</td>\n",
       "      <td>NORMAL</td>\n",
       "    </tr>\n",
       "  </tbody>\n",
       "</table>\n",
       "</div>"
      ],
      "text/plain": [
       "            Tempo             Estação Movimentação Original_473 Original_269  \\\n",
       "16989  2019-12-11  Hospital São Paulo        25311           30           14   \n",
       "16990  2019-12-12  Hospital São Paulo        25341           23            8   \n",
       "16991  2019-12-13  Hospital São Paulo        27771           16           65   \n",
       "16992  2019-12-14  Hospital São Paulo        27743            6           57   \n",
       "16993  2019-12-15  Hospital São Paulo        24357           86           49   \n",
       "16994  2019-12-16  Hospital São Paulo        27837           79           46   \n",
       "16995  2019-12-17  Hospital São Paulo        26853           69           38   \n",
       "16996  2019-12-18  Hospital São Paulo        26636           59           34   \n",
       "16997  2019-12-19  Hospital São Paulo        27365           47           30   \n",
       "16998  2019-12-20  Hospital São Paulo        26406           34           26   \n",
       "16999  2019-12-21  Hospital São Paulo        26720           21           21   \n",
       "17000  2019-12-22  Hospital São Paulo        27367           11           16   \n",
       "17001  2019-12-23  Hospital São Paulo        26645           86            8   \n",
       "17002  2019-12-24  Hospital São Paulo        26367           77           65   \n",
       "17003  2019-12-25  Hospital São Paulo        25250           66           63   \n",
       "17004  2019-12-26  Hospital São Paulo        25702           53           54   \n",
       "17005  2019-12-27  Hospital São Paulo        26236           43           52   \n",
       "17006  2019-12-28  Hospital São Paulo        27174           34           50   \n",
       "17007  2019-12-29  Hospital São Paulo        26877           22           47   \n",
       "17008  2019-12-30  Hospital São Paulo        26759            9           42   \n",
       "\n",
       "      Zero Maçã-Verde Tangerina Citrus Açaí-Guaraná Pêssego       TARGET  \n",
       "16989   58         37        38     33           26      13       NORMAL  \n",
       "16990   52         34        34     29           24       7       NORMAL  \n",
       "16991   47         34        30     26           21       2       NORMAL  \n",
       "16992   42         34        25     22           16      43       NORMAL  \n",
       "16993   36         28        22     20           11      41       NORMAL  \n",
       "16994   26         24        20     17            7      36       NORMAL  \n",
       "16995   22         22        18     13            2      31       NORMAL  \n",
       "16996   12         22        16     11           43      25       NORMAL  \n",
       "16997    5         19        11      7           38      22  REABASTECER  \n",
       "16998   65         13         8      2           35      19       NORMAL  \n",
       "16999   59         13         3     43           29      13  REABASTECER  \n",
       "17000   53          9        43     37           27      11  REABASTECER  \n",
       "17001   46          9        38     34           23       7  REABASTECER  \n",
       "17002   42          5        34     34           21       3       NORMAL  \n",
       "17003   34         43        29     31           17      43       NORMAL  \n",
       "17004   26         38        23     25           11      37       NORMAL  \n",
       "17005   17         33        18     21            5      35  REABASTECER  \n",
       "17006    9         28        15     16           43      32       NORMAL  \n",
       "17007   65         27        11     16           39      30       NORMAL  \n",
       "17008   56         22         8     10           35      26       NORMAL  "
      ]
     },
     "execution_count": 18,
     "metadata": {},
     "output_type": "execute_result"
    }
   ],
   "source": [
    "df_training_dataset_rmcolumns.tail(20)"
   ]
  },
  {
   "cell_type": "code",
   "execution_count": 19,
   "metadata": {},
   "outputs": [],
   "source": [
    "df_training_dataset_rmcolumns[\"Tempo\"] = pd.to_datetime(df_training_dataset_rmcolumns[\"Tempo\"], format='%Y-%m-%d', errors='coerce')"
   ]
  },
  {
   "cell_type": "code",
   "execution_count": 20,
   "metadata": {},
   "outputs": [
    {
     "data": {
      "text/html": [
       "<div>\n",
       "<style scoped>\n",
       "    .dataframe tbody tr th:only-of-type {\n",
       "        vertical-align: middle;\n",
       "    }\n",
       "\n",
       "    .dataframe tbody tr th {\n",
       "        vertical-align: top;\n",
       "    }\n",
       "\n",
       "    .dataframe thead th {\n",
       "        text-align: right;\n",
       "    }\n",
       "</style>\n",
       "<table border=\"1\" class=\"dataframe\">\n",
       "  <thead>\n",
       "    <tr style=\"text-align: right;\">\n",
       "      <th></th>\n",
       "      <th>Tempo</th>\n",
       "      <th>Estação</th>\n",
       "      <th>Movimentação</th>\n",
       "      <th>Original_473</th>\n",
       "      <th>Original_269</th>\n",
       "      <th>Zero</th>\n",
       "      <th>Maçã-Verde</th>\n",
       "      <th>Tangerina</th>\n",
       "      <th>Citrus</th>\n",
       "      <th>Açaí-Guaraná</th>\n",
       "      <th>Pêssego</th>\n",
       "      <th>TARGET</th>\n",
       "    </tr>\n",
       "  </thead>\n",
       "  <tbody>\n",
       "    <tr>\n",
       "      <th>0</th>\n",
       "      <td>2018-01-01</td>\n",
       "      <td>Paraíso</td>\n",
       "      <td>70277</td>\n",
       "      <td>86</td>\n",
       "      <td>65</td>\n",
       "      <td>65</td>\n",
       "      <td>43</td>\n",
       "      <td>43</td>\n",
       "      <td>43</td>\n",
       "      <td>43</td>\n",
       "      <td>43</td>\n",
       "      <td>NORMAL</td>\n",
       "    </tr>\n",
       "    <tr>\n",
       "      <th>1</th>\n",
       "      <td>2018-01-02</td>\n",
       "      <td>Paraíso</td>\n",
       "      <td>73302</td>\n",
       "      <td>73</td>\n",
       "      <td>58</td>\n",
       "      <td>58</td>\n",
       "      <td>38</td>\n",
       "      <td>37</td>\n",
       "      <td>42</td>\n",
       "      <td>41</td>\n",
       "      <td>39</td>\n",
       "      <td>NORMAL</td>\n",
       "    </tr>\n",
       "    <tr>\n",
       "      <th>2</th>\n",
       "      <td>2018-01-03</td>\n",
       "      <td>Paraíso</td>\n",
       "      <td>71711</td>\n",
       "      <td>64</td>\n",
       "      <td>50</td>\n",
       "      <td>50</td>\n",
       "      <td>33</td>\n",
       "      <td>34</td>\n",
       "      <td>42</td>\n",
       "      <td>39</td>\n",
       "      <td>35</td>\n",
       "      <td>NORMAL</td>\n",
       "    </tr>\n",
       "    <tr>\n",
       "      <th>3</th>\n",
       "      <td>2018-01-04</td>\n",
       "      <td>Paraíso</td>\n",
       "      <td>71740</td>\n",
       "      <td>52</td>\n",
       "      <td>48</td>\n",
       "      <td>42</td>\n",
       "      <td>27</td>\n",
       "      <td>29</td>\n",
       "      <td>36</td>\n",
       "      <td>37</td>\n",
       "      <td>32</td>\n",
       "      <td>NORMAL</td>\n",
       "    </tr>\n",
       "    <tr>\n",
       "      <th>4</th>\n",
       "      <td>2018-01-05</td>\n",
       "      <td>Paraíso</td>\n",
       "      <td>71035</td>\n",
       "      <td>41</td>\n",
       "      <td>40</td>\n",
       "      <td>32</td>\n",
       "      <td>21</td>\n",
       "      <td>23</td>\n",
       "      <td>36</td>\n",
       "      <td>34</td>\n",
       "      <td>26</td>\n",
       "      <td>NORMAL</td>\n",
       "    </tr>\n",
       "  </tbody>\n",
       "</table>\n",
       "</div>"
      ],
      "text/plain": [
       "       Tempo  Estação Movimentação Original_473 Original_269 Zero Maçã-Verde  \\\n",
       "0 2018-01-01  Paraíso        70277           86           65   65         43   \n",
       "1 2018-01-02  Paraíso        73302           73           58   58         38   \n",
       "2 2018-01-03  Paraíso        71711           64           50   50         33   \n",
       "3 2018-01-04  Paraíso        71740           52           48   42         27   \n",
       "4 2018-01-05  Paraíso        71035           41           40   32         21   \n",
       "\n",
       "  Tangerina Citrus Açaí-Guaraná Pêssego  TARGET  \n",
       "0        43     43           43      43  NORMAL  \n",
       "1        37     42           41      39  NORMAL  \n",
       "2        34     42           39      35  NORMAL  \n",
       "3        29     36           37      32  NORMAL  \n",
       "4        23     36           34      26  NORMAL  "
      ]
     },
     "execution_count": 20,
     "metadata": {},
     "output_type": "execute_result"
    }
   ],
   "source": [
    "df_training_dataset_rmcolumns.head()"
   ]
  },
  {
   "cell_type": "code",
   "execution_count": 21,
   "metadata": {},
   "outputs": [
    {
     "data": {
      "text/html": [
       "<div>\n",
       "<style scoped>\n",
       "    .dataframe tbody tr th:only-of-type {\n",
       "        vertical-align: middle;\n",
       "    }\n",
       "\n",
       "    .dataframe tbody tr th {\n",
       "        vertical-align: top;\n",
       "    }\n",
       "\n",
       "    .dataframe thead th {\n",
       "        text-align: right;\n",
       "    }\n",
       "</style>\n",
       "<table border=\"1\" class=\"dataframe\">\n",
       "  <thead>\n",
       "    <tr style=\"text-align: right;\">\n",
       "      <th></th>\n",
       "      <th>Tempo</th>\n",
       "      <th>Estação</th>\n",
       "      <th>Movimentação</th>\n",
       "      <th>Original_473</th>\n",
       "      <th>Original_269</th>\n",
       "      <th>Zero</th>\n",
       "      <th>Maçã-Verde</th>\n",
       "      <th>Tangerina</th>\n",
       "      <th>Citrus</th>\n",
       "      <th>Açaí-Guaraná</th>\n",
       "      <th>Pêssego</th>\n",
       "      <th>TARGET</th>\n",
       "      <th>LAST_MOV</th>\n",
       "      <th>DIFF_LAST_MOV</th>\n",
       "      <th>MIN_PROD</th>\n",
       "      <th>DIFF_MIN_PROD</th>\n",
       "    </tr>\n",
       "  </thead>\n",
       "  <tbody>\n",
       "    <tr>\n",
       "      <th>17004</th>\n",
       "      <td>2019-12-26</td>\n",
       "      <td>Hospital São Paulo</td>\n",
       "      <td>25702</td>\n",
       "      <td>53</td>\n",
       "      <td>54</td>\n",
       "      <td>26</td>\n",
       "      <td>38</td>\n",
       "      <td>23</td>\n",
       "      <td>25</td>\n",
       "      <td>11</td>\n",
       "      <td>37</td>\n",
       "      <td>NORMAL</td>\n",
       "      <td>25250.0</td>\n",
       "      <td>-1117.0</td>\n",
       "      <td>11.0</td>\n",
       "      <td>-2.0</td>\n",
       "    </tr>\n",
       "    <tr>\n",
       "      <th>17005</th>\n",
       "      <td>2019-12-27</td>\n",
       "      <td>Hospital São Paulo</td>\n",
       "      <td>26236</td>\n",
       "      <td>43</td>\n",
       "      <td>52</td>\n",
       "      <td>17</td>\n",
       "      <td>33</td>\n",
       "      <td>18</td>\n",
       "      <td>21</td>\n",
       "      <td>5</td>\n",
       "      <td>35</td>\n",
       "      <td>REABASTECER</td>\n",
       "      <td>25702.0</td>\n",
       "      <td>452.0</td>\n",
       "      <td>17.0</td>\n",
       "      <td>12.0</td>\n",
       "    </tr>\n",
       "    <tr>\n",
       "      <th>17006</th>\n",
       "      <td>2019-12-28</td>\n",
       "      <td>Hospital São Paulo</td>\n",
       "      <td>27174</td>\n",
       "      <td>34</td>\n",
       "      <td>50</td>\n",
       "      <td>9</td>\n",
       "      <td>28</td>\n",
       "      <td>15</td>\n",
       "      <td>16</td>\n",
       "      <td>43</td>\n",
       "      <td>32</td>\n",
       "      <td>NORMAL</td>\n",
       "      <td>26236.0</td>\n",
       "      <td>534.0</td>\n",
       "      <td>15.0</td>\n",
       "      <td>-8.0</td>\n",
       "    </tr>\n",
       "    <tr>\n",
       "      <th>17007</th>\n",
       "      <td>2019-12-29</td>\n",
       "      <td>Hospital São Paulo</td>\n",
       "      <td>26877</td>\n",
       "      <td>22</td>\n",
       "      <td>47</td>\n",
       "      <td>65</td>\n",
       "      <td>27</td>\n",
       "      <td>11</td>\n",
       "      <td>16</td>\n",
       "      <td>39</td>\n",
       "      <td>30</td>\n",
       "      <td>NORMAL</td>\n",
       "      <td>27174.0</td>\n",
       "      <td>938.0</td>\n",
       "      <td>11.0</td>\n",
       "      <td>-2.0</td>\n",
       "    </tr>\n",
       "    <tr>\n",
       "      <th>17008</th>\n",
       "      <td>2019-12-30</td>\n",
       "      <td>Hospital São Paulo</td>\n",
       "      <td>26759</td>\n",
       "      <td>9</td>\n",
       "      <td>42</td>\n",
       "      <td>56</td>\n",
       "      <td>22</td>\n",
       "      <td>8</td>\n",
       "      <td>10</td>\n",
       "      <td>35</td>\n",
       "      <td>26</td>\n",
       "      <td>NORMAL</td>\n",
       "      <td>26877.0</td>\n",
       "      <td>-297.0</td>\n",
       "      <td>10.0</td>\n",
       "      <td>3.0</td>\n",
       "    </tr>\n",
       "  </tbody>\n",
       "</table>\n",
       "</div>"
      ],
      "text/plain": [
       "           Tempo             Estação  Movimentação Original_473 Original_269  \\\n",
       "17004 2019-12-26  Hospital São Paulo         25702           53           54   \n",
       "17005 2019-12-27  Hospital São Paulo         26236           43           52   \n",
       "17006 2019-12-28  Hospital São Paulo         27174           34           50   \n",
       "17007 2019-12-29  Hospital São Paulo         26877           22           47   \n",
       "17008 2019-12-30  Hospital São Paulo         26759            9           42   \n",
       "\n",
       "      Zero Maçã-Verde Tangerina Citrus Açaí-Guaraná Pêssego       TARGET  \\\n",
       "17004   26         38        23     25           11      37       NORMAL   \n",
       "17005   17         33        18     21            5      35  REABASTECER   \n",
       "17006    9         28        15     16           43      32       NORMAL   \n",
       "17007   65         27        11     16           39      30       NORMAL   \n",
       "17008   56         22         8     10           35      26       NORMAL   \n",
       "\n",
       "       LAST_MOV  DIFF_LAST_MOV  MIN_PROD  DIFF_MIN_PROD  \n",
       "17004   25250.0        -1117.0      11.0           -2.0  \n",
       "17005   25702.0          452.0      17.0           12.0  \n",
       "17006   26236.0          534.0      15.0           -8.0  \n",
       "17007   27174.0          938.0      11.0           -2.0  \n",
       "17008   26877.0         -297.0      10.0            3.0  "
      ]
     },
     "execution_count": 21,
     "metadata": {},
     "output_type": "execute_result"
    }
   ],
   "source": [
    "df_training_dataset_rmcolumns[\"Movimentação\"] = df_training_dataset_rmcolumns[\"Movimentação\"].astype(int)\n",
    "\n",
    "df_training_dataset_rmcolumns[\"LAST_MOV\"] = df_training_dataset_rmcolumns.groupby(['Estação'])['Movimentação'].shift()\n",
    "df_training_dataset_rmcolumns[\"DIFF_LAST_MOV\"] = df_training_dataset_rmcolumns.groupby(['Estação'])[\"LAST_MOV\"].diff()\n",
    "\n",
    "df_training_dataset_rmcolumns[\"MIN_PROD\"] = df_training_dataset_rmcolumns[[\"Original_473\", \"Original_269\", \"Zero\", \"Maçã-Verde\", \"Tangerina\", \"Citrus\", \"Açaí-Guaraná\", \"Pêssego\"]].min(axis = 1, skipna = True) \n",
    "df_training_dataset_rmcolumns[\"DIFF_MIN_PROD\"] = df_training_dataset_rmcolumns[[\"MIN_PROD\"]].diff().diff()\n",
    "\n",
    "df_training_dataset_rmcolumns.tail()"
   ]
  },
  {
   "cell_type": "code",
   "execution_count": 22,
   "metadata": {},
   "outputs": [],
   "source": [
    "df_training_dataset_rmcolumns[\"Original_473\"] = df_training_dataset_rmcolumns[\"Original_473\"].astype(int)\n",
    "df_training_dataset_rmcolumns[\"Original_269\"] = df_training_dataset_rmcolumns[\"Original_269\"].astype(int)\n",
    "df_training_dataset_rmcolumns[\"Zero\"] = df_training_dataset_rmcolumns[\"Zero\"].astype(int)\n",
    "df_training_dataset_rmcolumns[\"Maçã-Verde\"] = df_training_dataset_rmcolumns[\"Maçã-Verde\"].astype(int)\n",
    "df_training_dataset_rmcolumns[\"Tangerina\"] = df_training_dataset_rmcolumns[\"Tangerina\"].astype(int)\n",
    "df_training_dataset_rmcolumns[\"Citrus\"] = df_training_dataset_rmcolumns[\"Citrus\"].astype(int)\n",
    "df_training_dataset_rmcolumns[\"Açaí-Guaraná\"] = df_training_dataset_rmcolumns[\"Açaí-Guaraná\"].astype(int)\n",
    "df_training_dataset_rmcolumns[\"Pêssego\"] = df_training_dataset_rmcolumns[\"Pêssego\"].astype(int)\n",
    "\n",
    "df_training_dataset_rmcolumns[\"Estação\"] = df_training_dataset_rmcolumns[\"Estação\"].astype(\"category\")"
   ]
  },
  {
   "cell_type": "code",
   "execution_count": 23,
   "metadata": {},
   "outputs": [
    {
     "data": {
      "text/plain": [
       "Index(['Tempo', 'Estação', 'Movimentação', 'Original_473', 'Original_269',\n",
       "       'Zero', 'Maçã-Verde', 'Tangerina', 'Citrus', 'Açaí-Guaraná', 'Pêssego',\n",
       "       'TARGET', 'LAST_MOV', 'DIFF_LAST_MOV', 'MIN_PROD', 'DIFF_MIN_PROD'],\n",
       "      dtype='object')"
      ]
     },
     "execution_count": 23,
     "metadata": {},
     "output_type": "execute_result"
    }
   ],
   "source": [
    "df_training = df_training_dataset_rmcolumns.copy()\n",
    "df_training.columns"
   ]
  },
  {
   "cell_type": "code",
   "execution_count": 24,
   "metadata": {},
   "outputs": [],
   "source": [
    "df_training.dropna(inplace=True)"
   ]
  },
  {
   "cell_type": "code",
   "execution_count": 25,
   "metadata": {},
   "outputs": [],
   "source": [
    "features = df_training[\n",
    "    [\n",
    "        'Estação', 'Original_473', 'Original_269', 'Zero', 'Maçã-Verde', 'Tangerina',\n",
    "       'Citrus', 'Açaí-Guaraná', 'Pêssego', 'DIFF_LAST_MOV', 'DIFF_MIN_PROD'\n",
    "    ]\n",
    "]\n",
    "target = df_training['TARGET']  ## NÃO TROQUE O NOME DA VARIÁVEL TARGET."
   ]
  },
  {
   "cell_type": "code",
   "execution_count": 26,
   "metadata": {},
   "outputs": [
    {
     "data": {
      "text/plain": [
       "Estação          category\n",
       "Original_473        int64\n",
       "Original_269        int64\n",
       "Zero                int64\n",
       "Maçã-Verde          int64\n",
       "Tangerina           int64\n",
       "Citrus              int64\n",
       "Açaí-Guaraná        int64\n",
       "Pêssego             int64\n",
       "DIFF_LAST_MOV     float64\n",
       "DIFF_MIN_PROD     float64\n",
       "dtype: object"
      ]
     },
     "execution_count": 26,
     "metadata": {},
     "output_type": "execute_result"
    }
   ],
   "source": [
    "features.dtypes"
   ]
  },
  {
   "cell_type": "markdown",
   "metadata": {},
   "source": [
    "### Dividindo nosso conjunto de dados em conjuntos de treinamento e teste"
   ]
  },
  {
   "cell_type": "code",
   "execution_count": 27,
   "metadata": {},
   "outputs": [
    {
     "data": {
      "text/plain": [
       "Index(['Original_473', 'Original_269', 'Zero', 'Maçã-Verde', 'Tangerina',\n",
       "       'Citrus', 'Açaí-Guaraná', 'Pêssego', 'DIFF_LAST_MOV', 'DIFF_MIN_PROD'],\n",
       "      dtype='object')"
      ]
     },
     "execution_count": 27,
     "metadata": {},
     "output_type": "execute_result"
    }
   ],
   "source": [
    "from sklearn import preprocessing\n",
    "\n",
    "num_d = features.select_dtypes(exclude=['category'])\n",
    "\n",
    "sc = preprocessing.RobustScaler().fit(num_d)\n",
    "num_d.columns"
   ]
  },
  {
   "cell_type": "code",
   "execution_count": 28,
   "metadata": {},
   "outputs": [
    {
     "name": "stderr",
     "output_type": "stream",
     "text": [
      "/usr/local/lib/python3.7/site-packages/ipykernel_launcher.py:1: SettingWithCopyWarning: \n",
      "A value is trying to be set on a copy of a slice from a DataFrame.\n",
      "Try using .loc[row_indexer,col_indexer] = value instead\n",
      "\n",
      "See the caveats in the documentation: https://pandas.pydata.org/pandas-docs/stable/user_guide/indexing.html#returning-a-view-versus-a-copy\n",
      "  \"\"\"Entry point for launching an IPython kernel.\n",
      "/usr/local/lib/python3.7/site-packages/pandas/core/indexing.py:1736: SettingWithCopyWarning: \n",
      "A value is trying to be set on a copy of a slice from a DataFrame.\n",
      "Try using .loc[row_indexer,col_indexer] = value instead\n",
      "\n",
      "See the caveats in the documentation: https://pandas.pydata.org/pandas-docs/stable/user_guide/indexing.html#returning-a-view-versus-a-copy\n",
      "  isetter(loc, value[:, i].tolist())\n"
     ]
    }
   ],
   "source": [
    "features[num_d.columns] = sc.transform(num_d)"
   ]
  },
  {
   "cell_type": "code",
   "execution_count": 29,
   "metadata": {},
   "outputs": [
    {
     "data": {
      "text/html": [
       "<div>\n",
       "<style scoped>\n",
       "    .dataframe tbody tr th:only-of-type {\n",
       "        vertical-align: middle;\n",
       "    }\n",
       "\n",
       "    .dataframe tbody tr th {\n",
       "        vertical-align: top;\n",
       "    }\n",
       "\n",
       "    .dataframe thead th {\n",
       "        text-align: right;\n",
       "    }\n",
       "</style>\n",
       "<table border=\"1\" class=\"dataframe\">\n",
       "  <thead>\n",
       "    <tr style=\"text-align: right;\">\n",
       "      <th></th>\n",
       "      <th>Estação</th>\n",
       "      <th>Original_473</th>\n",
       "      <th>Original_269</th>\n",
       "      <th>Zero</th>\n",
       "      <th>Maçã-Verde</th>\n",
       "      <th>Tangerina</th>\n",
       "      <th>Citrus</th>\n",
       "      <th>Açaí-Guaraná</th>\n",
       "      <th>Pêssego</th>\n",
       "      <th>DIFF_LAST_MOV</th>\n",
       "      <th>DIFF_MIN_PROD</th>\n",
       "    </tr>\n",
       "  </thead>\n",
       "  <tbody>\n",
       "    <tr>\n",
       "      <th>2</th>\n",
       "      <td>Paraíso</td>\n",
       "      <td>0.395349</td>\n",
       "      <td>0.43750</td>\n",
       "      <td>0.424242</td>\n",
       "      <td>0.428571</td>\n",
       "      <td>0.454545</td>\n",
       "      <td>0.809524</td>\n",
       "      <td>0.681818</td>\n",
       "      <td>0.523810</td>\n",
       "      <td>1.301411</td>\n",
       "      <td>0.166667</td>\n",
       "    </tr>\n",
       "    <tr>\n",
       "      <th>3</th>\n",
       "      <td>Paraíso</td>\n",
       "      <td>0.116279</td>\n",
       "      <td>0.37500</td>\n",
       "      <td>0.181818</td>\n",
       "      <td>0.142857</td>\n",
       "      <td>0.227273</td>\n",
       "      <td>0.523810</td>\n",
       "      <td>0.590909</td>\n",
       "      <td>0.380952</td>\n",
       "      <td>-0.672082</td>\n",
       "      <td>-0.166667</td>\n",
       "    </tr>\n",
       "    <tr>\n",
       "      <th>4</th>\n",
       "      <td>Paraíso</td>\n",
       "      <td>-0.139535</td>\n",
       "      <td>0.12500</td>\n",
       "      <td>-0.121212</td>\n",
       "      <td>-0.142857</td>\n",
       "      <td>-0.045455</td>\n",
       "      <td>0.523810</td>\n",
       "      <td>0.454545</td>\n",
       "      <td>0.095238</td>\n",
       "      <td>0.020522</td>\n",
       "      <td>0.000000</td>\n",
       "    </tr>\n",
       "    <tr>\n",
       "      <th>5</th>\n",
       "      <td>Paraíso</td>\n",
       "      <td>-0.372093</td>\n",
       "      <td>-0.03125</td>\n",
       "      <td>-0.303030</td>\n",
       "      <td>-0.190476</td>\n",
       "      <td>-0.272727</td>\n",
       "      <td>0.476190</td>\n",
       "      <td>0.272727</td>\n",
       "      <td>-0.047619</td>\n",
       "      <td>-0.293288</td>\n",
       "      <td>0.250000</td>\n",
       "    </tr>\n",
       "    <tr>\n",
       "      <th>6</th>\n",
       "      <td>Paraíso</td>\n",
       "      <td>-0.534884</td>\n",
       "      <td>-0.21875</td>\n",
       "      <td>-0.515152</td>\n",
       "      <td>-0.476190</td>\n",
       "      <td>-0.363636</td>\n",
       "      <td>0.238095</td>\n",
       "      <td>0.090909</td>\n",
       "      <td>-0.190476</td>\n",
       "      <td>0.874733</td>\n",
       "      <td>-0.083333</td>\n",
       "    </tr>\n",
       "  </tbody>\n",
       "</table>\n",
       "</div>"
      ],
      "text/plain": [
       "   Estação  Original_473  Original_269      Zero  Maçã-Verde  Tangerina  \\\n",
       "2  Paraíso      0.395349       0.43750  0.424242    0.428571   0.454545   \n",
       "3  Paraíso      0.116279       0.37500  0.181818    0.142857   0.227273   \n",
       "4  Paraíso     -0.139535       0.12500 -0.121212   -0.142857  -0.045455   \n",
       "5  Paraíso     -0.372093      -0.03125 -0.303030   -0.190476  -0.272727   \n",
       "6  Paraíso     -0.534884      -0.21875 -0.515152   -0.476190  -0.363636   \n",
       "\n",
       "     Citrus  Açaí-Guaraná   Pêssego  DIFF_LAST_MOV  DIFF_MIN_PROD  \n",
       "2  0.809524      0.681818  0.523810       1.301411       0.166667  \n",
       "3  0.523810      0.590909  0.380952      -0.672082      -0.166667  \n",
       "4  0.523810      0.454545  0.095238       0.020522       0.000000  \n",
       "5  0.476190      0.272727 -0.047619      -0.293288       0.250000  \n",
       "6  0.238095      0.090909 -0.190476       0.874733      -0.083333  "
      ]
     },
     "execution_count": 29,
     "metadata": {},
     "output_type": "execute_result"
    }
   ],
   "source": [
    "features.head()"
   ]
  },
  {
   "cell_type": "code",
   "execution_count": 30,
   "metadata": {},
   "outputs": [],
   "source": [
    "from sklearn.model_selection import train_test_split\n",
    "from imblearn.over_sampling import SMOTENC\n",
    "# from imblearn.over_sampling import SMOTE\n",
    "\n",
    "X_train, X_test, y_train, y_test = train_test_split(features, target, test_size=0.3, random_state=1008)\n",
    "\n",
    "smc = SMOTENC(categorical_features=[0], random_state=1006)\n",
    "# smc = SMOTE(random_state=1006)\n",
    "\n",
    "X_train, y_train = smc.fit_resample(X_train, y_train)"
   ]
  },
  {
   "cell_type": "markdown",
   "metadata": {},
   "source": [
    "### Treinando uma árvore de decisão"
   ]
  },
  {
   "cell_type": "code",
   "execution_count": 31,
   "metadata": {},
   "outputs": [
    {
     "name": "stderr",
     "output_type": "stream",
     "text": [
      "/usr/local/lib/python3.7/site-packages/lightgbm/basic.py:1551: UserWarning: Using categorical_feature in Dataset.\n",
      "  warnings.warn('Using categorical_feature in Dataset.')\n"
     ]
    },
    {
     "data": {
      "text/plain": [
       "LGBMClassifier(learning_rate=0.001, n_estimators=10000)"
      ]
     },
     "execution_count": 31,
     "metadata": {},
     "output_type": "execute_result"
    }
   ],
   "source": [
    "# Método para criar um árvore de decisão\n",
    "from lightgbm import LGBMClassifier\n",
    "\n",
    "dtc = LGBMClassifier(learning_rate=0.001, n_estimators=10000)\n",
    "dtc.fit(X_train, y_train, categorical_feature=[\"Estação\"])\n",
    "#dtc.fit(X_train, y_train)"
   ]
  },
  {
   "cell_type": "markdown",
   "metadata": {},
   "source": [
    "### Fazendo previsões na amostra de teste"
   ]
  },
  {
   "cell_type": "code",
   "execution_count": 32,
   "metadata": {},
   "outputs": [
    {
     "name": "stdout",
     "output_type": "stream",
     "text": [
      "['REABASTECER' 'REABASTECER' 'REABASTECER' ... 'NORMAL' 'REABASTECER'\n",
      " 'NORMAL']\n"
     ]
    }
   ],
   "source": [
    "y_pred = dtc.predict(X_test)\n",
    "print(y_pred)"
   ]
  },
  {
   "cell_type": "code",
   "execution_count": 33,
   "metadata": {},
   "outputs": [
    {
     "data": {
      "text/plain": [
       "array([22894, 28325, 28996, 28567, 25444, 25264, 28969, 30772, 36701,\n",
       "       16505, 27563], dtype=int32)"
      ]
     },
     "execution_count": 33,
     "metadata": {},
     "output_type": "execute_result"
    }
   ],
   "source": [
    "dtc.feature_importances_"
   ]
  },
  {
   "cell_type": "markdown",
   "metadata": {},
   "source": [
    "### Analisando a qualidade do modelo através da matriz de confusão"
   ]
  },
  {
   "cell_type": "code",
   "execution_count": 34,
   "metadata": {},
   "outputs": [],
   "source": [
    "import matplotlib.pyplot as plt\n",
    "import numpy as np\n",
    "import itertools\n",
    "\n",
    "\n",
    "def plot_confusion_matrix(cm, target_names, title='Confusion matrix', cmap=None, normalize=True):\n",
    "    accuracy = np.trace(cm) / float(np.sum(cm))\n",
    "    misclass = 1 - accuracy\n",
    "    if cmap is None:\n",
    "        cmap = plt.get_cmap('Blues')\n",
    "    plt.figure(figsize=(9, 9))\n",
    "    plt.imshow(cm, interpolation='nearest', cmap=cmap)\n",
    "    plt.title(title)\n",
    "    plt.colorbar()\n",
    "    if target_names is not None:\n",
    "        tick_marks = np.arange(len(target_names))\n",
    "        plt.xticks(tick_marks, target_names, rotation=45)\n",
    "        plt.yticks(tick_marks, target_names)\n",
    "    if normalize:\n",
    "        cm = cm.astype('float') / cm.sum(axis=1)[:, np.newaxis]\n",
    "    thresh = cm.max() / 1.5 if normalize else cm.max() / 2\n",
    "    for i, j in itertools.product(range(cm.shape[0]), range(cm.shape[1])):\n",
    "        if normalize:\n",
    "            plt.text(j, i, \"{:0.2f}\".format(cm[i, j]),\n",
    "                     horizontalalignment=\"center\",\n",
    "                     color=\"white\" if cm[i, j] > thresh else \"black\")\n",
    "        else:\n",
    "            plt.text(j, i, \"{:,}\".format(cm[i, j]),\n",
    "                     horizontalalignment=\"center\",\n",
    "                     color=\"white\" if cm[i, j] > thresh else \"black\")\n",
    "    plt.tight_layout()\n",
    "    plt.ylabel('True label')\n",
    "    plt.xlabel('Predicted label\\naccuracy={:0.4f}; misclass={:0.4f}'.format(accuracy, misclass))\n",
    "    plt.show()"
   ]
  },
  {
   "cell_type": "code",
   "execution_count": 35,
   "metadata": {},
   "outputs": [
    {
     "data": {
      "image/png": "[encoded data removed]",
      "text/plain": [
       "<Figure size 648x648 with 2 Axes>"
      ]
     },
     "metadata": {
      "needs_background": "light"
     },
     "output_type": "display_data"
    }
   ],
   "source": [
    "from sklearn.metrics import confusion_matrix\n",
    "\n",
    "\n",
    "plot_confusion_matrix(confusion_matrix(y_test, y_pred), ['NORMAL', 'REABASTECER'])"
   ]
  },
  {
   "cell_type": "code",
   "execution_count": 36,
   "metadata": {},
   "outputs": [
    {
     "name": "stdout",
     "output_type": "stream",
     "text": [
      "              precision    recall  f1-score   support\n",
      "\n",
      "      NORMAL       0.95      0.72      0.82      3414\n",
      " REABASTECER       0.61      0.91      0.73      1646\n",
      "\n",
      "    accuracy                           0.78      5060\n",
      "   macro avg       0.78      0.82      0.78      5060\n",
      "weighted avg       0.84      0.78      0.79      5060\n",
      "\n"
     ]
    }
   ],
   "source": [
    "from sklearn.metrics import classification_report\n",
    "\n",
    "print(classification_report(y_test, y_pred))"
   ]
  },
  {
   "cell_type": "markdown",
   "metadata": {},
   "source": [
    "<hr>"
   ]
  },
  {
   "cell_type": "markdown",
   "metadata": {},
   "source": [
    "## Scoring dos dados necessários para entregar a solução"
   ]
  },
  {
   "cell_type": "markdown",
   "metadata": {},
   "source": [
    "Como entrega da sua solução, esperamos os resultados classificados no seguinte dataset chamado \"to_be_scored.csv\":"
   ]
  },
  {
   "cell_type": "markdown",
   "metadata": {},
   "source": [
    "### Download da \"folha de respostas\""
   ]
  },
  {
   "cell_type": "code",
   "execution_count": null,
   "metadata": {},
   "outputs": [],
   "source": [
    "!wget --no-check-certificate --content-disposition https://gitlab.com/JoaoPedroPP/datasets/-/raw/master/ntn/to_be_scored.csv\n",
    "df_to_be_scored = pd.read_csv(r'to_be_scored.csv')\n",
    "df_to_be_scored.tail()"
   ]
  },
  {
   "cell_type": "code",
   "execution_count": null,
   "metadata": {},
   "outputs": [],
   "source": [
    "#df_to_be_scored = pd.read_csv('to_be_scored.csv')\n",
    "#df_to_be_scored.tail()"
   ]
  },
  {
   "cell_type": "markdown",
   "metadata": {},
   "source": [
    "# Atenção!\n",
    "\n",
    "O dataframe ``to_be_scored`` é a sua \"folha de respostas\". Note que a coluna \"TARGET\" não existe nessa amostra, que não pode ser então utilizada para treino de modelos de aprendizado supervisionado."
   ]
  },
  {
   "cell_type": "code",
   "execution_count": null,
   "metadata": {
    "scrolled": true
   },
   "outputs": [],
   "source": [
    "df_to_be_scored.info()"
   ]
  },
  {
   "cell_type": "markdown",
   "metadata": {},
   "source": [
    "<hr>\n",
    "\n",
    "# Atenção!\n",
    "\n",
    "# Para poder aplicar seu modelo e classificar a folha de respostas, você precisa primeiro aplicar as mesmas transformações com colunas que você aplicou no dataset de treino.\n",
    "\n",
    "# Não remova ou adicione linhas na folha de respostas. \n",
    "\n",
    "# Não altere a ordem das linhas na folha de respostas.\n",
    "\n",
    "# Ao final, as 1000 entradas devem estar classificadas, com os valores previstos em uma coluna chamada \"target\"\n",
    "\n",
    "<hr>"
   ]
  },
  {
   "cell_type": "markdown",
   "metadata": {},
   "source": [
    "Na célula abaixo, repetimos rapidamente os mesmos passos de pré-processamento usados no exemplo dado com árvore de decisão"
   ]
  },
  {
   "cell_type": "code",
   "execution_count": null,
   "metadata": {},
   "outputs": [],
   "source": [
    "# 1 - Removendo linhas com valores NaN\n",
    "df_to_be_scored_1 = df_to_be_scored.dropna(axis='index', how='any', subset=['Tempo', 'Estação', 'LAT', 'LONG', 'Movimentação', 'Original_473', 'Original_269', 'Zero', 'Maçã-Verde', 'Tangerina', 'Citrus', 'Açaí-Guaraná', 'Pêssego'])\n",
    "\n",
    "# 2 - Inputando zeros nos valores faltantes\n",
    "impute_zeros.fit(X=df_to_be_scored_1)\n",
    "df_to_be_scored_2 = pd.DataFrame.from_records(\n",
    "    data=impute_zeros.transform(\n",
    "        X=df_to_be_scored_1\n",
    "    ),\n",
    "    columns=df_to_be_scored_1.columns\n",
    ")\n",
    "\n",
    "# 3 - Remoção de colunas\n",
    "df_to_be_scored_3 = df_to_be_scored_2.drop(columns=['LAT', 'LONG'], inplace=False)\n",
    "\n",
    "# 4 - Encoding com \"dummy variables\" (se necessário)\n",
    "# df_to_be_scored_4 = pd.get_dummies(df_to_be_scored_3, columns=['Váriavel com dummy'])\n",
    "# df_to_be_scored_4 = df_to_be_scored_3\n",
    "\n",
    "df_to_be_scored_4 = df_to_be_scored_3.copy()\n",
    "\n",
    "df_to_be_scored_4[\"Tempo\"] = pd.to_datetime(df_to_be_scored_4[\"Tempo\"], format='%Y-%m-%d', errors='coerce')\n",
    "df_to_be_scored_4[\"Workdays\"] = np.where(df_to_be_scored_4[\"Tempo\"].dt.dayofweek < 5, \"Workday\", \"Weekend\")\n",
    "df_to_be_scored_4[\"Estação\"] = df_to_be_scored_4[\"Estação\"].astype(\"category\")\n",
    "df_to_be_scored_4[\"Workdays\"] = df_to_be_scored_4[\"Workdays\"].astype(\"category\")\n",
    "df_to_be_scored_4[\"Movimentação\"] = df_to_be_scored_4[\"Movimentação\"].astype(int)\n",
    "df_to_be_scored_4[\"LAST_MOV\"] = df_to_be_scored_4.groupby(['Estação'])['Movimentação'].shift()\n",
    "df_to_be_scored_4[\"DIFF_LAST_MOV\"] = df_to_be_scored_4.groupby(['Estação'])[\"LAST_MOV\"].diff()\n",
    "df_to_be_scored_4['LAST_MOV'] = df_to_be_scored_4['LAST_MOV'].fillna(0)\n",
    "df_to_be_scored_4['DIFF_LAST_MOV'] = df_to_be_scored_4['DIFF_LAST_MOV'].fillna(0)\n",
    "df_to_be_scored_4.drop(['Tempo', 'Movimentação'], axis='columns', inplace=True)\n",
    "\n",
    "num_d = df_to_be_scored_4.select_dtypes(exclude=['category'])\n",
    "sc = preprocessing.StandardScaler().fit(num_d)\n",
    "df_to_be_scored_4[num_d.columns] = sc.transform(num_d)"
   ]
  },
  {
   "cell_type": "code",
   "execution_count": null,
   "metadata": {},
   "outputs": [],
   "source": [
    "df_to_be_scored_4.tail()"
   ]
  },
  {
   "cell_type": "code",
   "execution_count": null,
   "metadata": {},
   "outputs": [],
   "source": [
    "df_to_be_scored_4.dtypes"
   ]
  },
  {
   "cell_type": "markdown",
   "metadata": {},
   "source": [
    "<hr>\n",
    "\n",
    "Pode ser verificado abaixo que as colunas da folha de resposta agora são idênticas às que foram usadas para treinar o modelo:"
   ]
  },
  {
   "cell_type": "code",
   "execution_count": null,
   "metadata": {},
   "outputs": [],
   "source": [
    "df_training[\n",
    "    [\n",
    "          'Estação', 'Workdays', 'Original_473', 'Original_269', 'Zero', 'Maçã-Verde', 'Tangerina',\n",
    "       'Citrus', 'Açaí-Guaraná', 'Pêssego', 'LAST_MOV', 'DIFF_LAST_MOV'\n",
    "    ]\n",
    "].columns"
   ]
  },
  {
   "cell_type": "code",
   "execution_count": null,
   "metadata": {},
   "outputs": [],
   "source": [
    "df_to_be_scored_4.columns"
   ]
  },
  {
   "cell_type": "markdown",
   "metadata": {},
   "source": [
    "# Atenção\n",
    "\n",
    "Para todas colunas que não existirem no \"df_to_be_scored\", você pode usar a técnica abaixo para adicioná-las:"
   ]
  },
  {
   "cell_type": "code",
   "execution_count": null,
   "metadata": {},
   "outputs": [],
   "source": [
    "y_pred = dtc.predict(df_to_be_scored_4)\n",
    "df_to_be_scored_4['TARGET'] = y_pred\n",
    "df_to_be_scored_4.tail()"
   ]
  },
  {
   "cell_type": "markdown",
   "metadata": {},
   "source": [
    "### Salvando a folha de respostas como um arquivo .csv para ser submetido"
   ]
  },
  {
   "cell_type": "code",
   "execution_count": null,
   "metadata": {},
   "outputs": [],
   "source": [
    "df_to_be_scored_4.to_csv(\"results.csv\", index=False)"
   ]
  },
  {
   "cell_type": "markdown",
   "metadata": {},
   "source": [
    "# Atenção\n",
    "\n",
    "# A execução da célula acima irá criar um novo \"data asset\" no seu projeto no Watson Studio. Você precisará realizar o download deste arquivo juntamente com este notebook e criar um arquivo zip com os arquivos **results.csv** e **notebook.ipynb** para submissão. (os arquivos devem estar nomeados desta forma)"
   ]
  },
  {
   "cell_type": "markdown",
   "metadata": {},
   "source": [
    "<hr>\n",
    "\n",
    "## Parabéns!\n",
    "\n",
    "Se você já está satisfeito com a sua solução, vá até a página abaixo e envie os arquivos necessários para submissão.\n",
    "\n",
    "# https://tnt.maratona.dev\n"
   ]
  },
  {
   "cell_type": "code",
   "execution_count": null,
   "metadata": {},
   "outputs": [],
   "source": []
  }
 ],
 "metadata": {
  "kernelspec": {
   "display_name": "Python 3",
   "language": "python",
   "name": "python3"
  },
  "language_info": {
   "codemirror_mode": {
    "name": "ipython",
    "version": 3
   },
   "file_extension": ".py",
   "mimetype": "text/x-python",
   "name": "python",
   "nbconvert_exporter": "python",
   "pygments_lexer": "ipython3",
   "version": "3.7.5"
  }
 },
 "nbformat": 4,
 "nbformat_minor": 4
}
