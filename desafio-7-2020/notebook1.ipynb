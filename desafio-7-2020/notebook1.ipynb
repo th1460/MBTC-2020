{
 "cells": [
  {
   "cell_type": "code",
   "execution_count": null,
   "metadata": {},
   "outputs": [],
   "source": [
    "# Insira seu project token aqui"
   ]
  },
  {
   "cell_type": "markdown",
   "metadata": {},
   "source": [
    "# MARATONA BEHIND THE CODE 2020\n",
    "\n",
    "## DESAFIO 7 - TNT"
   ]
  },
  {
   "cell_type": "markdown",
   "metadata": {},
   "source": [
    "<hr>"
   ]
  },
  {
   "cell_type": "markdown",
   "metadata": {},
   "source": [
    "## Installing Libs"
   ]
  },
  {
   "cell_type": "code",
   "execution_count": null,
   "metadata": {},
   "outputs": [],
   "source": [
    "!pip install scikit-learn --upgrade"
   ]
  },
  {
   "cell_type": "code",
   "execution_count": null,
   "metadata": {},
   "outputs": [],
   "source": [
    "!pip install xgboost --upgrade"
   ]
  },
  {
   "cell_type": "code",
   "execution_count": null,
   "metadata": {},
   "outputs": [],
   "source": [
    "!pip install imblearn --upgrade"
   ]
  },
  {
   "cell_type": "code",
   "execution_count": null,
   "metadata": {},
   "outputs": [],
   "source": [
    "!pip3 install cloudant"
   ]
  },
  {
   "cell_type": "markdown",
   "metadata": {},
   "source": [
    "<hr>"
   ]
  },
  {
   "cell_type": "markdown",
   "metadata": {},
   "source": [
    "## Download dos conjuntos de dados em formato .csv"
   ]
  },
  {
   "cell_type": "code",
   "execution_count": 1,
   "metadata": {},
   "outputs": [],
   "source": [
    "import pandas as pd\n",
    "from cloudant import Cloudant"
   ]
  },
  {
   "cell_type": "code",
   "execution_count": 2,
   "metadata": {},
   "outputs": [],
   "source": [
    "u = \"d5aed30c-4651-48f7-96bd-bd6030237e2a-bluemix\"\n",
    "p = \"cfad465a453fad58b800c37b2393f2cd348e34b2451b0b5d217a7bf001b63fea\"\n",
    "a = \"d5aed30c-4651-48f7-96bd-bd6030237e2a-bluemix\"\n",
    "client = Cloudant(u, p, account=a, connect=True, auto_renew=True)"
   ]
  },
  {
   "cell_type": "code",
   "execution_count": 3,
   "metadata": {},
   "outputs": [],
   "source": [
    "db = client[ \"thop-iot\" ]"
   ]
  },
  {
   "cell_type": "code",
   "execution_count": 4,
   "metadata": {},
   "outputs": [
    {
     "data": {
      "text/plain": [
       "list"
      ]
     },
     "execution_count": 4,
     "metadata": {},
     "output_type": "execute_result"
    }
   ],
   "source": [
    "response = db.all_docs(include_docs=True)\n",
    "\n",
    "docs = []\n",
    "for r in response['rows']:\n",
    "    docs.append(r['doc'])\n",
    "type(docs)"
   ]
  },
  {
   "cell_type": "code",
   "execution_count": 5,
   "metadata": {},
   "outputs": [
    {
     "data": {
      "text/html": [
       "<div>\n",
       "<style scoped>\n",
       "    .dataframe tbody tr th:only-of-type {\n",
       "        vertical-align: middle;\n",
       "    }\n",
       "\n",
       "    .dataframe tbody tr th {\n",
       "        vertical-align: top;\n",
       "    }\n",
       "\n",
       "    .dataframe thead th {\n",
       "        text-align: right;\n",
       "    }\n",
       "</style>\n",
       "<table border=\"1\" class=\"dataframe\">\n",
       "  <thead>\n",
       "    <tr style=\"text-align: right;\">\n",
       "      <th></th>\n",
       "      <th>_id</th>\n",
       "      <th>_rev</th>\n",
       "      <th>Tempo</th>\n",
       "      <th>Estação</th>\n",
       "      <th>LAT</th>\n",
       "      <th>LONG</th>\n",
       "      <th>Movimentação</th>\n",
       "      <th>Original_473</th>\n",
       "      <th>Original_269</th>\n",
       "      <th>Zero</th>\n",
       "      <th>...</th>\n",
       "      <th>Tangerina</th>\n",
       "      <th>Citrus</th>\n",
       "      <th>Açaí-Guaraná</th>\n",
       "      <th>Pêssego</th>\n",
       "      <th>TARGET</th>\n",
       "      <th>row</th>\n",
       "      <th>topic</th>\n",
       "      <th>payload</th>\n",
       "      <th>qos</th>\n",
       "      <th>retain</th>\n",
       "    </tr>\n",
       "  </thead>\n",
       "  <tbody>\n",
       "    <tr>\n",
       "      <th>0</th>\n",
       "      <td>000ac62b7850525df9febd4a670e232e</td>\n",
       "      <td>1-6b1e474a57f306eee38b93d5acb6a3cb</td>\n",
       "      <td>2018-5-18</td>\n",
       "      <td>Trianon-Masp</td>\n",
       "      <td>-23.5634</td>\n",
       "      <td>-46.6544</td>\n",
       "      <td>45104</td>\n",
       "      <td>34</td>\n",
       "      <td>62</td>\n",
       "      <td>27</td>\n",
       "      <td>...</td>\n",
       "      <td>13</td>\n",
       "      <td>36</td>\n",
       "      <td>13</td>\n",
       "      <td>29</td>\n",
       "      <td>NORMAL</td>\n",
       "      <td>1578.0</td>\n",
       "      <td>NaN</td>\n",
       "      <td>NaN</td>\n",
       "      <td>NaN</td>\n",
       "      <td>NaN</td>\n",
       "    </tr>\n",
       "    <tr>\n",
       "      <th>1</th>\n",
       "      <td>000ac62b7850525df9febd4a6713dcd3</td>\n",
       "      <td>1-1b7cc2fea69a48354a3e488bf6207a97</td>\n",
       "      <td>2019-11-30</td>\n",
       "      <td>Tamanduateí</td>\n",
       "      <td>-23.5929</td>\n",
       "      <td>-46.5897</td>\n",
       "      <td>53360</td>\n",
       "      <td>74</td>\n",
       "      <td>49</td>\n",
       "      <td>65</td>\n",
       "      <td>...</td>\n",
       "      <td>37</td>\n",
       "      <td>3</td>\n",
       "      <td>28</td>\n",
       "      <td>16</td>\n",
       "      <td>NORMAL</td>\n",
       "      <td>3570.0</td>\n",
       "      <td>NaN</td>\n",
       "      <td>NaN</td>\n",
       "      <td>NaN</td>\n",
       "      <td>NaN</td>\n",
       "    </tr>\n",
       "    <tr>\n",
       "      <th>2</th>\n",
       "      <td>000ac62b7850525df9febd4a671540dc</td>\n",
       "      <td>1-240fe2514c177df92a1e8627a39fcdf5</td>\n",
       "      <td>2019-12-25</td>\n",
       "      <td>Tamanduateí</td>\n",
       "      <td>-23.5929</td>\n",
       "      <td>-46.5897</td>\n",
       "      <td>51358</td>\n",
       "      <td>3</td>\n",
       "      <td>37</td>\n",
       "      <td>30</td>\n",
       "      <td>...</td>\n",
       "      <td>15</td>\n",
       "      <td>43</td>\n",
       "      <td>6</td>\n",
       "      <td>4</td>\n",
       "      <td>REABASTECER</td>\n",
       "      <td>3595.0</td>\n",
       "      <td>NaN</td>\n",
       "      <td>NaN</td>\n",
       "      <td>NaN</td>\n",
       "      <td>NaN</td>\n",
       "    </tr>\n",
       "    <tr>\n",
       "      <th>3</th>\n",
       "      <td>000ac62b7850525df9febd4a671a2cd9</td>\n",
       "      <td>1-950bd3e3f0c02b57c0b82013515ac220</td>\n",
       "      <td>2018-3-8</td>\n",
       "      <td>Sé</td>\n",
       "      <td>-23.5500</td>\n",
       "      <td>-46.6333</td>\n",
       "      <td>193499</td>\n",
       "      <td>8</td>\n",
       "      <td>49</td>\n",
       "      <td>65</td>\n",
       "      <td>...</td>\n",
       "      <td>4</td>\n",
       "      <td>19</td>\n",
       "      <td>39</td>\n",
       "      <td>35</td>\n",
       "      <td>NORMAL</td>\n",
       "      <td>3668.0</td>\n",
       "      <td>NaN</td>\n",
       "      <td>NaN</td>\n",
       "      <td>NaN</td>\n",
       "      <td>NaN</td>\n",
       "    </tr>\n",
       "    <tr>\n",
       "      <th>4</th>\n",
       "      <td>000ac62b7850525df9febd4a671a76fa</td>\n",
       "      <td>1-fbc82cb0ec755b94613c520249702ceb</td>\n",
       "      <td>2018-11-2</td>\n",
       "      <td>Trianon-Masp</td>\n",
       "      <td>-23.5634</td>\n",
       "      <td>-46.6544</td>\n",
       "      <td>42740</td>\n",
       "      <td>70</td>\n",
       "      <td>18</td>\n",
       "      <td>8</td>\n",
       "      <td>...</td>\n",
       "      <td>31</td>\n",
       "      <td>43</td>\n",
       "      <td>26</td>\n",
       "      <td>3</td>\n",
       "      <td>NORMAL</td>\n",
       "      <td>1742.0</td>\n",
       "      <td>NaN</td>\n",
       "      <td>NaN</td>\n",
       "      <td>NaN</td>\n",
       "      <td>NaN</td>\n",
       "    </tr>\n",
       "  </tbody>\n",
       "</table>\n",
       "<p>5 rows × 21 columns</p>\n",
       "</div>"
      ],
      "text/plain": [
       "                                _id                                _rev  \\\n",
       "0  000ac62b7850525df9febd4a670e232e  1-6b1e474a57f306eee38b93d5acb6a3cb   \n",
       "1  000ac62b7850525df9febd4a6713dcd3  1-1b7cc2fea69a48354a3e488bf6207a97   \n",
       "2  000ac62b7850525df9febd4a671540dc  1-240fe2514c177df92a1e8627a39fcdf5   \n",
       "3  000ac62b7850525df9febd4a671a2cd9  1-950bd3e3f0c02b57c0b82013515ac220   \n",
       "4  000ac62b7850525df9febd4a671a76fa  1-fbc82cb0ec755b94613c520249702ceb   \n",
       "\n",
       "        Tempo       Estação      LAT     LONG Movimentação Original_473  \\\n",
       "0   2018-5-18  Trianon-Masp -23.5634 -46.6544        45104           34   \n",
       "1  2019-11-30   Tamanduateí -23.5929 -46.5897        53360           74   \n",
       "2  2019-12-25   Tamanduateí -23.5929 -46.5897        51358            3   \n",
       "3    2018-3-8            Sé -23.5500 -46.6333       193499            8   \n",
       "4   2018-11-2  Trianon-Masp -23.5634 -46.6544        42740           70   \n",
       "\n",
       "  Original_269 Zero  ... Tangerina Citrus Açaí-Guaraná Pêssego       TARGET  \\\n",
       "0           62   27  ...        13     36           13      29       NORMAL   \n",
       "1           49   65  ...        37      3           28      16       NORMAL   \n",
       "2           37   30  ...        15     43            6       4  REABASTECER   \n",
       "3           49   65  ...         4     19           39      35       NORMAL   \n",
       "4           18    8  ...        31     43           26       3       NORMAL   \n",
       "\n",
       "      row  topic payload qos  retain  \n",
       "0  1578.0    NaN     NaN NaN     NaN  \n",
       "1  3570.0    NaN     NaN NaN     NaN  \n",
       "2  3595.0    NaN     NaN NaN     NaN  \n",
       "3  3668.0    NaN     NaN NaN     NaN  \n",
       "4  1742.0    NaN     NaN NaN     NaN  \n",
       "\n",
       "[5 rows x 21 columns]"
      ]
     },
     "execution_count": 5,
     "metadata": {},
     "output_type": "execute_result"
    }
   ],
   "source": [
    "# Insira aqui o pandasDataFrame.\n",
    "df = pd.DataFrame(data=docs)\n",
    "\n",
    "df[\"LAT\"] = df[\"LAT\"].astype(float)\n",
    "df[\"LONG\"] = df[\"LONG\"].astype(float)\n",
    "\n",
    "df.head()"
   ]
  },
  {
   "cell_type": "code",
   "execution_count": 6,
   "metadata": {},
   "outputs": [
    {
     "data": {
      "text/plain": [
       "(97307, 21)"
      ]
     },
     "execution_count": 6,
     "metadata": {},
     "output_type": "execute_result"
    }
   ],
   "source": [
    "df.shape"
   ]
  },
  {
   "cell_type": "code",
   "execution_count": 7,
   "metadata": {},
   "outputs": [],
   "source": [
    "df_distinct = df.drop_duplicates(\"row\")"
   ]
  },
  {
   "cell_type": "code",
   "execution_count": 8,
   "metadata": {},
   "outputs": [
    {
     "data": {
      "text/plain": [
       "(16971, 21)"
      ]
     },
     "execution_count": 8,
     "metadata": {},
     "output_type": "execute_result"
    }
   ],
   "source": [
    "df_distinct.shape"
   ]
  },
  {
   "cell_type": "code",
   "execution_count": 9,
   "metadata": {},
   "outputs": [
    {
     "data": {
      "text/html": [
       "<div>\n",
       "<style scoped>\n",
       "    .dataframe tbody tr th:only-of-type {\n",
       "        vertical-align: middle;\n",
       "    }\n",
       "\n",
       "    .dataframe tbody tr th {\n",
       "        vertical-align: top;\n",
       "    }\n",
       "\n",
       "    .dataframe thead th {\n",
       "        text-align: right;\n",
       "    }\n",
       "</style>\n",
       "<table border=\"1\" class=\"dataframe\">\n",
       "  <thead>\n",
       "    <tr style=\"text-align: right;\">\n",
       "      <th></th>\n",
       "      <th>_id</th>\n",
       "      <th>_rev</th>\n",
       "      <th>Tempo</th>\n",
       "      <th>Estação</th>\n",
       "      <th>LAT</th>\n",
       "      <th>LONG</th>\n",
       "      <th>Movimentação</th>\n",
       "      <th>Original_473</th>\n",
       "      <th>Original_269</th>\n",
       "      <th>Zero</th>\n",
       "      <th>...</th>\n",
       "      <th>Tangerina</th>\n",
       "      <th>Citrus</th>\n",
       "      <th>Açaí-Guaraná</th>\n",
       "      <th>Pêssego</th>\n",
       "      <th>TARGET</th>\n",
       "      <th>row</th>\n",
       "      <th>topic</th>\n",
       "      <th>payload</th>\n",
       "      <th>qos</th>\n",
       "      <th>retain</th>\n",
       "    </tr>\n",
       "  </thead>\n",
       "  <tbody>\n",
       "    <tr>\n",
       "      <th>96523</th>\n",
       "      <td>fe8dd76a254af59c21cff4b282338152</td>\n",
       "      <td>1-ddce07dc9d5b99c74c882f6eaac1bb85</td>\n",
       "      <td>2019-11-26</td>\n",
       "      <td>Eucaliptos</td>\n",
       "      <td>-23.6100</td>\n",
       "      <td>-46.6686</td>\n",
       "      <td>22948</td>\n",
       "      <td>14</td>\n",
       "      <td>37</td>\n",
       "      <td>17</td>\n",
       "      <td>...</td>\n",
       "      <td>20</td>\n",
       "      <td>39</td>\n",
       "      <td>38</td>\n",
       "      <td>35</td>\n",
       "      <td>NORMAL</td>\n",
       "      <td>16526.0</td>\n",
       "      <td>NaN</td>\n",
       "      <td>NaN</td>\n",
       "      <td>NaN</td>\n",
       "      <td>NaN</td>\n",
       "    </tr>\n",
       "    <tr>\n",
       "      <th>96864</th>\n",
       "      <td>ff1ac8ddb6089b3b0f807cac5afeb3df</td>\n",
       "      <td>1-286f834bd54bf1d2e65e050a0c482656</td>\n",
       "      <td>2018-11-15</td>\n",
       "      <td>Brooklin</td>\n",
       "      <td>-23.6263</td>\n",
       "      <td>-46.6878</td>\n",
       "      <td>26358</td>\n",
       "      <td>77</td>\n",
       "      <td>65</td>\n",
       "      <td>40</td>\n",
       "      <td>...</td>\n",
       "      <td>37</td>\n",
       "      <td>5</td>\n",
       "      <td>22</td>\n",
       "      <td>15</td>\n",
       "      <td>REABASTECER</td>\n",
       "      <td>14715.0</td>\n",
       "      <td>NaN</td>\n",
       "      <td>NaN</td>\n",
       "      <td>NaN</td>\n",
       "      <td>NaN</td>\n",
       "    </tr>\n",
       "    <tr>\n",
       "      <th>96995</th>\n",
       "      <td>ff735fe43dcbfa6883e5e248a26703e8</td>\n",
       "      <td>1-f17e0826e82d579d1757f46e7439abf1</td>\n",
       "      <td>2019-10-2</td>\n",
       "      <td>Vila Mariana</td>\n",
       "      <td>-23.5895</td>\n",
       "      <td>-46.6346</td>\n",
       "      <td>24381</td>\n",
       "      <td>11</td>\n",
       "      <td>2</td>\n",
       "      <td>45</td>\n",
       "      <td>...</td>\n",
       "      <td>5</td>\n",
       "      <td>10</td>\n",
       "      <td>1</td>\n",
       "      <td>35</td>\n",
       "      <td>REABASTECER</td>\n",
       "      <td>14312.0</td>\n",
       "      <td>NaN</td>\n",
       "      <td>NaN</td>\n",
       "      <td>NaN</td>\n",
       "      <td>NaN</td>\n",
       "    </tr>\n",
       "    <tr>\n",
       "      <th>97035</th>\n",
       "      <td>ff7793fd597fe16312c68ab016238fb7</td>\n",
       "      <td>1-a524509adb3d47b461a9e9d17c84641d</td>\n",
       "      <td>2018-12-29</td>\n",
       "      <td>Tatuapé</td>\n",
       "      <td>-23.5402</td>\n",
       "      <td>-46.5765</td>\n",
       "      <td>68232</td>\n",
       "      <td>66</td>\n",
       "      <td>42</td>\n",
       "      <td>19</td>\n",
       "      <td>...</td>\n",
       "      <td>35</td>\n",
       "      <td>14</td>\n",
       "      <td>38</td>\n",
       "      <td>43</td>\n",
       "      <td>NORMAL</td>\n",
       "      <td>6119.0</td>\n",
       "      <td>NaN</td>\n",
       "      <td>NaN</td>\n",
       "      <td>NaN</td>\n",
       "      <td>NaN</td>\n",
       "    </tr>\n",
       "    <tr>\n",
       "      <th>97289</th>\n",
       "      <td>ffa585d17afd4af1f818b16265b2d654</td>\n",
       "      <td>1-ea08432ad049096c56281e0c22a61b9b</td>\n",
       "      <td>2019-8-6</td>\n",
       "      <td>Campo Belo</td>\n",
       "      <td>-23.6188</td>\n",
       "      <td>-46.6823</td>\n",
       "      <td>24573</td>\n",
       "      <td>28</td>\n",
       "      <td>55</td>\n",
       "      <td>65</td>\n",
       "      <td>...</td>\n",
       "      <td>31</td>\n",
       "      <td>28</td>\n",
       "      <td>39</td>\n",
       "      <td>15</td>\n",
       "      <td>NORMAL</td>\n",
       "      <td>15696.0</td>\n",
       "      <td>NaN</td>\n",
       "      <td>NaN</td>\n",
       "      <td>NaN</td>\n",
       "      <td>NaN</td>\n",
       "    </tr>\n",
       "  </tbody>\n",
       "</table>\n",
       "<p>5 rows × 21 columns</p>\n",
       "</div>"
      ],
      "text/plain": [
       "                                    _id                                _rev  \\\n",
       "96523  fe8dd76a254af59c21cff4b282338152  1-ddce07dc9d5b99c74c882f6eaac1bb85   \n",
       "96864  ff1ac8ddb6089b3b0f807cac5afeb3df  1-286f834bd54bf1d2e65e050a0c482656   \n",
       "96995  ff735fe43dcbfa6883e5e248a26703e8  1-f17e0826e82d579d1757f46e7439abf1   \n",
       "97035  ff7793fd597fe16312c68ab016238fb7  1-a524509adb3d47b461a9e9d17c84641d   \n",
       "97289  ffa585d17afd4af1f818b16265b2d654  1-ea08432ad049096c56281e0c22a61b9b   \n",
       "\n",
       "            Tempo       Estação      LAT     LONG Movimentação Original_473  \\\n",
       "96523  2019-11-26    Eucaliptos -23.6100 -46.6686        22948           14   \n",
       "96864  2018-11-15      Brooklin -23.6263 -46.6878        26358           77   \n",
       "96995   2019-10-2  Vila Mariana -23.5895 -46.6346        24381           11   \n",
       "97035  2018-12-29       Tatuapé -23.5402 -46.5765        68232           66   \n",
       "97289    2019-8-6    Campo Belo -23.6188 -46.6823        24573           28   \n",
       "\n",
       "      Original_269 Zero  ... Tangerina Citrus Açaí-Guaraná Pêssego  \\\n",
       "96523           37   17  ...        20     39           38      35   \n",
       "96864           65   40  ...        37      5           22      15   \n",
       "96995            2   45  ...         5     10            1      35   \n",
       "97035           42   19  ...        35     14           38      43   \n",
       "97289           55   65  ...        31     28           39      15   \n",
       "\n",
       "            TARGET      row  topic payload qos  retain  \n",
       "96523       NORMAL  16526.0    NaN     NaN NaN     NaN  \n",
       "96864  REABASTECER  14715.0    NaN     NaN NaN     NaN  \n",
       "96995  REABASTECER  14312.0    NaN     NaN NaN     NaN  \n",
       "97035       NORMAL   6119.0    NaN     NaN NaN     NaN  \n",
       "97289       NORMAL  15696.0    NaN     NaN NaN     NaN  \n",
       "\n",
       "[5 rows x 21 columns]"
      ]
     },
     "execution_count": 9,
     "metadata": {},
     "output_type": "execute_result"
    }
   ],
   "source": [
    "df_training_dataset = df_distinct\n",
    "df_training_dataset.tail()"
   ]
  },
  {
   "cell_type": "code",
   "execution_count": 10,
   "metadata": {},
   "outputs": [],
   "source": [
    "df_training_dataset.to_csv(\"dataset.csv\", index=False)"
   ]
  },
  {
   "cell_type": "markdown",
   "metadata": {},
   "source": [
    "Sobre o arquivo \"training_dataset.csv\", temos algumas informações gerais sobre os usuários do app do BanCoppel:\n",
    "\n",
    "**Tempo**\n",
    "\n",
    "**Estação**\n",
    "\n",
    "**LAT**\n",
    "\n",
    "**LONG**\n",
    "\n",
    "**Movimentação**\n",
    "\n",
    "**Original_473**\n",
    "\n",
    "**Original_269**\n",
    "\n",
    "**Zero**\n",
    "\n",
    "**Maçã-Verde**\n",
    "\n",
    "**Tangerina**\n",
    "\n",
    "**Citrus**\n",
    "\n",
    "**Açaí-Guaraná**\n",
    "\n",
    "**Pêssego**\n",
    "\n",
    "**TARGET**"
   ]
  },
  {
   "cell_type": "code",
   "execution_count": 11,
   "metadata": {},
   "outputs": [
    {
     "name": "stdout",
     "output_type": "stream",
     "text": [
      "<class 'pandas.core.frame.DataFrame'>\n",
      "Int64Index: 16971 entries, 27763 to 10344\n",
      "Data columns (total 14 columns):\n",
      " #   Column        Non-Null Count  Dtype  \n",
      "---  ------        --------------  -----  \n",
      " 0   Tempo         16970 non-null  object \n",
      " 1   Estação       16970 non-null  object \n",
      " 2   LAT           16970 non-null  float64\n",
      " 3   LONG          16970 non-null  float64\n",
      " 4   Movimentação  16970 non-null  object \n",
      " 5   Original_473  16970 non-null  object \n",
      " 6   Original_269  16970 non-null  object \n",
      " 7   Zero          16970 non-null  object \n",
      " 8   Maçã-Verde    16970 non-null  object \n",
      " 9   Tangerina     16970 non-null  object \n",
      " 10  Citrus        16970 non-null  object \n",
      " 11  Açaí-Guaraná  16970 non-null  object \n",
      " 12  Pêssego       16970 non-null  object \n",
      " 13  TARGET        16970 non-null  object \n",
      "dtypes: float64(2), object(12)\n",
      "memory usage: 1.9+ MB\n"
     ]
    }
   ],
   "source": [
    "df_training_dataset = df_training_dataset.sort_values(\"row\")\n",
    "df_training_dataset = df_training_dataset[[\"Tempo\", \"Estação\", \"LAT\", \"LONG\", \"Movimentação\", \"Original_473\",\n",
    "                                          \"Original_269\", \"Zero\", \"Maçã-Verde\", \"Tangerina\", \"Citrus\", \"Açaí-Guaraná\",\n",
    "                                          \"Pêssego\", \"TARGET\"]]\n",
    "df_training_dataset.info()"
   ]
  },
  {
   "cell_type": "code",
   "execution_count": 12,
   "metadata": {},
   "outputs": [
    {
     "data": {
      "text/plain": [
       "Tempo             720\n",
       "Estação            25\n",
       "LAT                25\n",
       "LONG               25\n",
       "Movimentação    14834\n",
       "Original_473       81\n",
       "Original_269       65\n",
       "Zero               63\n",
       "Maçã-Verde         43\n",
       "Tangerina          42\n",
       "Citrus             43\n",
       "Açaí-Guaraná       42\n",
       "Pêssego            42\n",
       "TARGET              2\n",
       "dtype: int64"
      ]
     },
     "execution_count": 12,
     "metadata": {},
     "output_type": "execute_result"
    }
   ],
   "source": [
    "df_training_dataset.nunique()"
   ]
  },
  {
   "cell_type": "markdown",
   "metadata": {},
   "source": [
    "<hr>\n",
    "\n",
    "## Detalhamento do desafio: classificação binária\n",
    "\n",
    "Este é um desafio cujo objetivo de negócio é a segmentação dos usuários de aplicativo de um banco. Para tal, podemos utilizar duas abordagens: aprendizado de máquina supervisionado (classificação) ou não-supervisionado (clustering). Neste desafio será aplicada a classificação, pois é disponível um dataset já com \"labels\", ou em outras palavras, já com exemplos de dados juntamente com a variável alvo.\n",
    "\n",
    "Na biblioteca scikit-learn temos diversos algoritmos para classificação. O participante é livre para utilizar o framework que desejar para completar esse desafio.\n",
    "\n",
    "Neste notebook será mostrado um exeplo de uso do algoritmo \"Decision Tree\" para classificar parte dos estudantes em seis diferentes perfís."
   ]
  },
  {
   "cell_type": "markdown",
   "metadata": {},
   "source": [
    "# Atenção!\n",
    "\n",
    "A coluna-alvo neste desafio é a coluna ``TARGET``"
   ]
  },
  {
   "cell_type": "markdown",
   "metadata": {},
   "source": [
    "<hr>"
   ]
  },
  {
   "cell_type": "code",
   "execution_count": null,
   "metadata": {},
   "outputs": [],
   "source": []
  },
  {
   "cell_type": "code",
   "execution_count": null,
   "metadata": {},
   "outputs": [],
   "source": []
  },
  {
   "cell_type": "code",
   "execution_count": null,
   "metadata": {},
   "outputs": [],
   "source": []
  },
  {
   "cell_type": "markdown",
   "metadata": {},
   "source": [
    "## Pre-processando o dataset antes do treinamento"
   ]
  },
  {
   "cell_type": "markdown",
   "metadata": {},
   "source": [
    "### Processando valores NaN com o SimpleImputer do sklearn\n",
    "\n",
    "Para os valores NaN, usaremos a substituição pela constante 0 como **exemplo**.\n",
    "\n",
    "Você pode escolher a estratégia que achar melhor para tratar os valores nulos :)\n",
    "\n",
    "Docs: https://scikit-learn.org/stable/modules/generated/sklearn.impute.SimpleImputer.html?highlight=simpleimputer#sklearn.impute.SimpleImputer"
   ]
  },
  {
   "cell_type": "code",
   "execution_count": 13,
   "metadata": {},
   "outputs": [],
   "source": [
    "from sklearn.impute import SimpleImputer\n",
    "import numpy as np\n",
    "\n",
    "\n",
    "impute_zeros = SimpleImputer(\n",
    "    missing_values=np.nan,\n",
    "    strategy='constant',\n",
    "    fill_value=0,\n",
    "    verbose=0,\n",
    "    copy=True\n",
    ")"
   ]
  },
  {
   "cell_type": "code",
   "execution_count": 14,
   "metadata": {},
   "outputs": [
    {
     "name": "stdout",
     "output_type": "stream",
     "text": [
      "Valores nulos no df_training_dataset antes da transformação SimpleImputer: \n",
      "\n",
      "Tempo           1\n",
      "Estação         1\n",
      "LAT             1\n",
      "LONG            1\n",
      "Movimentação    1\n",
      "Original_473    1\n",
      "Original_269    1\n",
      "Zero            1\n",
      "Maçã-Verde      1\n",
      "Tangerina       1\n",
      "Citrus          1\n",
      "Açaí-Guaraná    1\n",
      "Pêssego         1\n",
      "TARGET          1\n",
      "dtype: int64\n",
      "\n",
      "Valores nulos no df_training_dataset após a transformação SimpleImputer: \n",
      "\n",
      "Tempo           0\n",
      "Estação         0\n",
      "LAT             0\n",
      "LONG            0\n",
      "Movimentação    0\n",
      "Original_473    0\n",
      "Original_269    0\n",
      "Zero            0\n",
      "Maçã-Verde      0\n",
      "Tangerina       0\n",
      "Citrus          0\n",
      "Açaí-Guaraná    0\n",
      "Pêssego         0\n",
      "TARGET          0\n",
      "dtype: int64\n",
      "\n"
     ]
    }
   ],
   "source": [
    "# Exibindo os dados ausentes do conjunto de dados antes da primeira transformação (df)\n",
    "print(\"Valores nulos no df_training_dataset antes da transformação SimpleImputer: \\n\\n{}\\n\".format(df_training_dataset.isnull().sum(axis = 0)))\n",
    "\n",
    "# Aplicando a transformação ``SimpleImputer`` no conjunto de dados base\n",
    "impute_zeros.fit(X=df_training_dataset)\n",
    "\n",
    "# Reconstruindo um Pandas DataFrame com os resultados\n",
    "df_training_dataset_imputed = pd.DataFrame.from_records(\n",
    "    data=impute_zeros.transform(\n",
    "        X=df_training_dataset\n",
    "    ),\n",
    "    columns=df_training_dataset.columns\n",
    ")\n",
    "\n",
    "# Eliminar linha com zero\n",
    "df_training_dataset_imputed = df_training_dataset_imputed[(df_training_dataset_imputed[[\"Estação\", \"Tempo\"]] != 0).all(axis=1)]\n",
    "\n",
    "# Exibindo os dados ausentes do conjunto de dados após a primeira transformação (df)\n",
    "print(\"Valores nulos no df_training_dataset após a transformação SimpleImputer: \\n\\n{}\\n\".format(df_training_dataset_imputed.isnull().sum(axis = 0)))"
   ]
  },
  {
   "cell_type": "markdown",
   "metadata": {},
   "source": [
    "### Eliminando colunas indesejadas\n",
    "\n",
    "Vamos **demonstrar** abaixo como usar o método **DataFrame.drop()**.\n",
    "\n",
    "Docs: https://pandas.pydata.org/pandas-docs/stable/reference/api/pandas.DataFrame.drop.html"
   ]
  },
  {
   "cell_type": "code",
   "execution_count": 15,
   "metadata": {},
   "outputs": [
    {
     "data": {
      "text/html": [
       "<div>\n",
       "<style scoped>\n",
       "    .dataframe tbody tr th:only-of-type {\n",
       "        vertical-align: middle;\n",
       "    }\n",
       "\n",
       "    .dataframe tbody tr th {\n",
       "        vertical-align: top;\n",
       "    }\n",
       "\n",
       "    .dataframe thead th {\n",
       "        text-align: right;\n",
       "    }\n",
       "</style>\n",
       "<table border=\"1\" class=\"dataframe\">\n",
       "  <thead>\n",
       "    <tr style=\"text-align: right;\">\n",
       "      <th></th>\n",
       "      <th>Tempo</th>\n",
       "      <th>Estação</th>\n",
       "      <th>LAT</th>\n",
       "      <th>LONG</th>\n",
       "      <th>Movimentação</th>\n",
       "      <th>Original_473</th>\n",
       "      <th>Original_269</th>\n",
       "      <th>Zero</th>\n",
       "      <th>Maçã-Verde</th>\n",
       "      <th>Tangerina</th>\n",
       "      <th>Citrus</th>\n",
       "      <th>Açaí-Guaraná</th>\n",
       "      <th>Pêssego</th>\n",
       "      <th>TARGET</th>\n",
       "    </tr>\n",
       "  </thead>\n",
       "  <tbody>\n",
       "    <tr>\n",
       "      <th>16965</th>\n",
       "      <td>2019-12-26</td>\n",
       "      <td>Hospital São Paulo</td>\n",
       "      <td>-23.5984</td>\n",
       "      <td>-46.6455</td>\n",
       "      <td>25702</td>\n",
       "      <td>53</td>\n",
       "      <td>54</td>\n",
       "      <td>26</td>\n",
       "      <td>38</td>\n",
       "      <td>23</td>\n",
       "      <td>25</td>\n",
       "      <td>11</td>\n",
       "      <td>37</td>\n",
       "      <td>NORMAL</td>\n",
       "    </tr>\n",
       "    <tr>\n",
       "      <th>16966</th>\n",
       "      <td>2019-12-27</td>\n",
       "      <td>Hospital São Paulo</td>\n",
       "      <td>-23.5984</td>\n",
       "      <td>-46.6455</td>\n",
       "      <td>26236</td>\n",
       "      <td>43</td>\n",
       "      <td>52</td>\n",
       "      <td>17</td>\n",
       "      <td>33</td>\n",
       "      <td>18</td>\n",
       "      <td>21</td>\n",
       "      <td>5</td>\n",
       "      <td>35</td>\n",
       "      <td>REABASTECER</td>\n",
       "    </tr>\n",
       "    <tr>\n",
       "      <th>16967</th>\n",
       "      <td>2019-12-28</td>\n",
       "      <td>Hospital São Paulo</td>\n",
       "      <td>-23.5984</td>\n",
       "      <td>-46.6455</td>\n",
       "      <td>27174</td>\n",
       "      <td>34</td>\n",
       "      <td>50</td>\n",
       "      <td>9</td>\n",
       "      <td>28</td>\n",
       "      <td>15</td>\n",
       "      <td>16</td>\n",
       "      <td>43</td>\n",
       "      <td>32</td>\n",
       "      <td>NORMAL</td>\n",
       "    </tr>\n",
       "    <tr>\n",
       "      <th>16968</th>\n",
       "      <td>2019-12-29</td>\n",
       "      <td>Hospital São Paulo</td>\n",
       "      <td>-23.5984</td>\n",
       "      <td>-46.6455</td>\n",
       "      <td>26877</td>\n",
       "      <td>22</td>\n",
       "      <td>47</td>\n",
       "      <td>65</td>\n",
       "      <td>27</td>\n",
       "      <td>11</td>\n",
       "      <td>16</td>\n",
       "      <td>39</td>\n",
       "      <td>30</td>\n",
       "      <td>NORMAL</td>\n",
       "    </tr>\n",
       "    <tr>\n",
       "      <th>16969</th>\n",
       "      <td>2019-12-30</td>\n",
       "      <td>Hospital São Paulo</td>\n",
       "      <td>-23.5984</td>\n",
       "      <td>-46.6455</td>\n",
       "      <td>26759</td>\n",
       "      <td>9</td>\n",
       "      <td>42</td>\n",
       "      <td>56</td>\n",
       "      <td>22</td>\n",
       "      <td>8</td>\n",
       "      <td>10</td>\n",
       "      <td>35</td>\n",
       "      <td>26</td>\n",
       "      <td>NORMAL</td>\n",
       "    </tr>\n",
       "  </tbody>\n",
       "</table>\n",
       "</div>"
      ],
      "text/plain": [
       "            Tempo             Estação      LAT     LONG Movimentação  \\\n",
       "16965  2019-12-26  Hospital São Paulo -23.5984 -46.6455        25702   \n",
       "16966  2019-12-27  Hospital São Paulo -23.5984 -46.6455        26236   \n",
       "16967  2019-12-28  Hospital São Paulo -23.5984 -46.6455        27174   \n",
       "16968  2019-12-29  Hospital São Paulo -23.5984 -46.6455        26877   \n",
       "16969  2019-12-30  Hospital São Paulo -23.5984 -46.6455        26759   \n",
       "\n",
       "      Original_473 Original_269 Zero Maçã-Verde Tangerina Citrus Açaí-Guaraná  \\\n",
       "16965           53           54   26         38        23     25           11   \n",
       "16966           43           52   17         33        18     21            5   \n",
       "16967           34           50    9         28        15     16           43   \n",
       "16968           22           47   65         27        11     16           39   \n",
       "16969            9           42   56         22         8     10           35   \n",
       "\n",
       "      Pêssego       TARGET  \n",
       "16965      37       NORMAL  \n",
       "16966      35  REABASTECER  \n",
       "16967      32       NORMAL  \n",
       "16968      30       NORMAL  \n",
       "16969      26       NORMAL  "
      ]
     },
     "execution_count": 15,
     "metadata": {},
     "output_type": "execute_result"
    }
   ],
   "source": [
    "df_training_dataset_imputed.tail()"
   ]
  },
  {
   "cell_type": "code",
   "execution_count": 16,
   "metadata": {},
   "outputs": [],
   "source": [
    "df_training_dataset_rmcolumns = df_training_dataset_imputed.drop(columns=['LAT', 'LONG'], inplace=False)"
   ]
  },
  {
   "cell_type": "markdown",
   "metadata": {},
   "source": [
    "# Atenção!\n",
    "\n",
    "As colunas removidas acima são apenas para fim de exemplo, você pode usar as colunas que quiser e inclusive criar novas colunas com dados que achar importantes!\n"
   ]
  },
  {
   "cell_type": "markdown",
   "metadata": {},
   "source": [
    "### Tratamento de de variáveis categóricas\n",
    "\n",
    "Como mencionado antes, os computadores não são bons com variáveis \"categóricas\" (ou strings).\n",
    "\n",
    "Dado uma coluna com variável categórica, o que podemos realizar é a codificação dessa coluna em múltiplas colunas contendo variáveis binárias. Esse processo é chamado de \"one-hot-encoding\" ou \"dummy encoding\". Se você não é familiarizado com esses termos, você pode pesquisar mais sobre isso na internet :)"
   ]
  },
  {
   "cell_type": "code",
   "execution_count": 17,
   "metadata": {},
   "outputs": [],
   "source": [
    "# Tratando variáveis categóricas com o método Pandas ``get_dummies()''\n",
    "# df_training = pd.get_dummies(df_training_dataset_rmcolumns, columns=['Variável a ser aplicado método getDumies()'])\n",
    "# df_training = df_training_dataset_rmcolumns\n",
    "# df_training.tail()"
   ]
  },
  {
   "cell_type": "markdown",
   "metadata": {},
   "source": [
    "# Atenção!\n",
    "\n",
    "A coluna **TARGET** deve ser mantida como uma string. Você não precisa processar/codificar a variável-alvo."
   ]
  },
  {
   "cell_type": "markdown",
   "metadata": {},
   "source": [
    "<hr>"
   ]
  },
  {
   "cell_type": "markdown",
   "metadata": {},
   "source": [
    "## Treinando um classificador com base em uma árvore de decisão"
   ]
  },
  {
   "cell_type": "markdown",
   "metadata": {},
   "source": [
    "### Selecionando FEATURES e definindo a variável TARGET"
   ]
  },
  {
   "cell_type": "code",
   "execution_count": 18,
   "metadata": {},
   "outputs": [
    {
     "data": {
      "text/html": [
       "<div>\n",
       "<style scoped>\n",
       "    .dataframe tbody tr th:only-of-type {\n",
       "        vertical-align: middle;\n",
       "    }\n",
       "\n",
       "    .dataframe tbody tr th {\n",
       "        vertical-align: top;\n",
       "    }\n",
       "\n",
       "    .dataframe thead th {\n",
       "        text-align: right;\n",
       "    }\n",
       "</style>\n",
       "<table border=\"1\" class=\"dataframe\">\n",
       "  <thead>\n",
       "    <tr style=\"text-align: right;\">\n",
       "      <th></th>\n",
       "      <th>Tempo</th>\n",
       "      <th>Estação</th>\n",
       "      <th>Movimentação</th>\n",
       "      <th>Original_473</th>\n",
       "      <th>Original_269</th>\n",
       "      <th>Zero</th>\n",
       "      <th>Maçã-Verde</th>\n",
       "      <th>Tangerina</th>\n",
       "      <th>Citrus</th>\n",
       "      <th>Açaí-Guaraná</th>\n",
       "      <th>Pêssego</th>\n",
       "      <th>TARGET</th>\n",
       "    </tr>\n",
       "  </thead>\n",
       "  <tbody>\n",
       "    <tr>\n",
       "      <th>16950</th>\n",
       "      <td>2019-12-11</td>\n",
       "      <td>Hospital São Paulo</td>\n",
       "      <td>25311</td>\n",
       "      <td>30</td>\n",
       "      <td>14</td>\n",
       "      <td>58</td>\n",
       "      <td>37</td>\n",
       "      <td>38</td>\n",
       "      <td>33</td>\n",
       "      <td>26</td>\n",
       "      <td>13</td>\n",
       "      <td>NORMAL</td>\n",
       "    </tr>\n",
       "    <tr>\n",
       "      <th>16951</th>\n",
       "      <td>2019-12-12</td>\n",
       "      <td>Hospital São Paulo</td>\n",
       "      <td>25341</td>\n",
       "      <td>23</td>\n",
       "      <td>8</td>\n",
       "      <td>52</td>\n",
       "      <td>34</td>\n",
       "      <td>34</td>\n",
       "      <td>29</td>\n",
       "      <td>24</td>\n",
       "      <td>7</td>\n",
       "      <td>NORMAL</td>\n",
       "    </tr>\n",
       "    <tr>\n",
       "      <th>16952</th>\n",
       "      <td>2019-12-13</td>\n",
       "      <td>Hospital São Paulo</td>\n",
       "      <td>27771</td>\n",
       "      <td>16</td>\n",
       "      <td>65</td>\n",
       "      <td>47</td>\n",
       "      <td>34</td>\n",
       "      <td>30</td>\n",
       "      <td>26</td>\n",
       "      <td>21</td>\n",
       "      <td>2</td>\n",
       "      <td>NORMAL</td>\n",
       "    </tr>\n",
       "    <tr>\n",
       "      <th>16953</th>\n",
       "      <td>2019-12-14</td>\n",
       "      <td>Hospital São Paulo</td>\n",
       "      <td>27743</td>\n",
       "      <td>6</td>\n",
       "      <td>57</td>\n",
       "      <td>42</td>\n",
       "      <td>34</td>\n",
       "      <td>25</td>\n",
       "      <td>22</td>\n",
       "      <td>16</td>\n",
       "      <td>43</td>\n",
       "      <td>NORMAL</td>\n",
       "    </tr>\n",
       "    <tr>\n",
       "      <th>16954</th>\n",
       "      <td>2019-12-15</td>\n",
       "      <td>Hospital São Paulo</td>\n",
       "      <td>24357</td>\n",
       "      <td>86</td>\n",
       "      <td>49</td>\n",
       "      <td>36</td>\n",
       "      <td>28</td>\n",
       "      <td>22</td>\n",
       "      <td>20</td>\n",
       "      <td>11</td>\n",
       "      <td>41</td>\n",
       "      <td>NORMAL</td>\n",
       "    </tr>\n",
       "    <tr>\n",
       "      <th>16955</th>\n",
       "      <td>2019-12-16</td>\n",
       "      <td>Hospital São Paulo</td>\n",
       "      <td>27837</td>\n",
       "      <td>79</td>\n",
       "      <td>46</td>\n",
       "      <td>26</td>\n",
       "      <td>24</td>\n",
       "      <td>20</td>\n",
       "      <td>17</td>\n",
       "      <td>7</td>\n",
       "      <td>36</td>\n",
       "      <td>NORMAL</td>\n",
       "    </tr>\n",
       "    <tr>\n",
       "      <th>16956</th>\n",
       "      <td>2019-12-17</td>\n",
       "      <td>Hospital São Paulo</td>\n",
       "      <td>26853</td>\n",
       "      <td>69</td>\n",
       "      <td>38</td>\n",
       "      <td>22</td>\n",
       "      <td>22</td>\n",
       "      <td>18</td>\n",
       "      <td>13</td>\n",
       "      <td>2</td>\n",
       "      <td>31</td>\n",
       "      <td>NORMAL</td>\n",
       "    </tr>\n",
       "    <tr>\n",
       "      <th>16957</th>\n",
       "      <td>2019-12-18</td>\n",
       "      <td>Hospital São Paulo</td>\n",
       "      <td>26636</td>\n",
       "      <td>59</td>\n",
       "      <td>34</td>\n",
       "      <td>12</td>\n",
       "      <td>22</td>\n",
       "      <td>16</td>\n",
       "      <td>11</td>\n",
       "      <td>43</td>\n",
       "      <td>25</td>\n",
       "      <td>NORMAL</td>\n",
       "    </tr>\n",
       "    <tr>\n",
       "      <th>16958</th>\n",
       "      <td>2019-12-19</td>\n",
       "      <td>Hospital São Paulo</td>\n",
       "      <td>27365</td>\n",
       "      <td>47</td>\n",
       "      <td>30</td>\n",
       "      <td>5</td>\n",
       "      <td>19</td>\n",
       "      <td>11</td>\n",
       "      <td>7</td>\n",
       "      <td>38</td>\n",
       "      <td>22</td>\n",
       "      <td>REABASTECER</td>\n",
       "    </tr>\n",
       "    <tr>\n",
       "      <th>16959</th>\n",
       "      <td>2019-12-20</td>\n",
       "      <td>Hospital São Paulo</td>\n",
       "      <td>26406</td>\n",
       "      <td>34</td>\n",
       "      <td>26</td>\n",
       "      <td>65</td>\n",
       "      <td>13</td>\n",
       "      <td>8</td>\n",
       "      <td>2</td>\n",
       "      <td>35</td>\n",
       "      <td>19</td>\n",
       "      <td>NORMAL</td>\n",
       "    </tr>\n",
       "    <tr>\n",
       "      <th>16960</th>\n",
       "      <td>2019-12-21</td>\n",
       "      <td>Hospital São Paulo</td>\n",
       "      <td>26720</td>\n",
       "      <td>21</td>\n",
       "      <td>21</td>\n",
       "      <td>59</td>\n",
       "      <td>13</td>\n",
       "      <td>3</td>\n",
       "      <td>43</td>\n",
       "      <td>29</td>\n",
       "      <td>13</td>\n",
       "      <td>REABASTECER</td>\n",
       "    </tr>\n",
       "    <tr>\n",
       "      <th>16961</th>\n",
       "      <td>2019-12-22</td>\n",
       "      <td>Hospital São Paulo</td>\n",
       "      <td>27367</td>\n",
       "      <td>11</td>\n",
       "      <td>16</td>\n",
       "      <td>53</td>\n",
       "      <td>9</td>\n",
       "      <td>43</td>\n",
       "      <td>37</td>\n",
       "      <td>27</td>\n",
       "      <td>11</td>\n",
       "      <td>REABASTECER</td>\n",
       "    </tr>\n",
       "    <tr>\n",
       "      <th>16962</th>\n",
       "      <td>2019-12-23</td>\n",
       "      <td>Hospital São Paulo</td>\n",
       "      <td>26645</td>\n",
       "      <td>86</td>\n",
       "      <td>8</td>\n",
       "      <td>46</td>\n",
       "      <td>9</td>\n",
       "      <td>38</td>\n",
       "      <td>34</td>\n",
       "      <td>23</td>\n",
       "      <td>7</td>\n",
       "      <td>REABASTECER</td>\n",
       "    </tr>\n",
       "    <tr>\n",
       "      <th>16963</th>\n",
       "      <td>2019-12-24</td>\n",
       "      <td>Hospital São Paulo</td>\n",
       "      <td>26367</td>\n",
       "      <td>77</td>\n",
       "      <td>65</td>\n",
       "      <td>42</td>\n",
       "      <td>5</td>\n",
       "      <td>34</td>\n",
       "      <td>34</td>\n",
       "      <td>21</td>\n",
       "      <td>3</td>\n",
       "      <td>NORMAL</td>\n",
       "    </tr>\n",
       "    <tr>\n",
       "      <th>16964</th>\n",
       "      <td>2019-12-25</td>\n",
       "      <td>Hospital São Paulo</td>\n",
       "      <td>25250</td>\n",
       "      <td>66</td>\n",
       "      <td>63</td>\n",
       "      <td>34</td>\n",
       "      <td>43</td>\n",
       "      <td>29</td>\n",
       "      <td>31</td>\n",
       "      <td>17</td>\n",
       "      <td>43</td>\n",
       "      <td>NORMAL</td>\n",
       "    </tr>\n",
       "    <tr>\n",
       "      <th>16965</th>\n",
       "      <td>2019-12-26</td>\n",
       "      <td>Hospital São Paulo</td>\n",
       "      <td>25702</td>\n",
       "      <td>53</td>\n",
       "      <td>54</td>\n",
       "      <td>26</td>\n",
       "      <td>38</td>\n",
       "      <td>23</td>\n",
       "      <td>25</td>\n",
       "      <td>11</td>\n",
       "      <td>37</td>\n",
       "      <td>NORMAL</td>\n",
       "    </tr>\n",
       "    <tr>\n",
       "      <th>16966</th>\n",
       "      <td>2019-12-27</td>\n",
       "      <td>Hospital São Paulo</td>\n",
       "      <td>26236</td>\n",
       "      <td>43</td>\n",
       "      <td>52</td>\n",
       "      <td>17</td>\n",
       "      <td>33</td>\n",
       "      <td>18</td>\n",
       "      <td>21</td>\n",
       "      <td>5</td>\n",
       "      <td>35</td>\n",
       "      <td>REABASTECER</td>\n",
       "    </tr>\n",
       "    <tr>\n",
       "      <th>16967</th>\n",
       "      <td>2019-12-28</td>\n",
       "      <td>Hospital São Paulo</td>\n",
       "      <td>27174</td>\n",
       "      <td>34</td>\n",
       "      <td>50</td>\n",
       "      <td>9</td>\n",
       "      <td>28</td>\n",
       "      <td>15</td>\n",
       "      <td>16</td>\n",
       "      <td>43</td>\n",
       "      <td>32</td>\n",
       "      <td>NORMAL</td>\n",
       "    </tr>\n",
       "    <tr>\n",
       "      <th>16968</th>\n",
       "      <td>2019-12-29</td>\n",
       "      <td>Hospital São Paulo</td>\n",
       "      <td>26877</td>\n",
       "      <td>22</td>\n",
       "      <td>47</td>\n",
       "      <td>65</td>\n",
       "      <td>27</td>\n",
       "      <td>11</td>\n",
       "      <td>16</td>\n",
       "      <td>39</td>\n",
       "      <td>30</td>\n",
       "      <td>NORMAL</td>\n",
       "    </tr>\n",
       "    <tr>\n",
       "      <th>16969</th>\n",
       "      <td>2019-12-30</td>\n",
       "      <td>Hospital São Paulo</td>\n",
       "      <td>26759</td>\n",
       "      <td>9</td>\n",
       "      <td>42</td>\n",
       "      <td>56</td>\n",
       "      <td>22</td>\n",
       "      <td>8</td>\n",
       "      <td>10</td>\n",
       "      <td>35</td>\n",
       "      <td>26</td>\n",
       "      <td>NORMAL</td>\n",
       "    </tr>\n",
       "  </tbody>\n",
       "</table>\n",
       "</div>"
      ],
      "text/plain": [
       "            Tempo             Estação Movimentação Original_473 Original_269  \\\n",
       "16950  2019-12-11  Hospital São Paulo        25311           30           14   \n",
       "16951  2019-12-12  Hospital São Paulo        25341           23            8   \n",
       "16952  2019-12-13  Hospital São Paulo        27771           16           65   \n",
       "16953  2019-12-14  Hospital São Paulo        27743            6           57   \n",
       "16954  2019-12-15  Hospital São Paulo        24357           86           49   \n",
       "16955  2019-12-16  Hospital São Paulo        27837           79           46   \n",
       "16956  2019-12-17  Hospital São Paulo        26853           69           38   \n",
       "16957  2019-12-18  Hospital São Paulo        26636           59           34   \n",
       "16958  2019-12-19  Hospital São Paulo        27365           47           30   \n",
       "16959  2019-12-20  Hospital São Paulo        26406           34           26   \n",
       "16960  2019-12-21  Hospital São Paulo        26720           21           21   \n",
       "16961  2019-12-22  Hospital São Paulo        27367           11           16   \n",
       "16962  2019-12-23  Hospital São Paulo        26645           86            8   \n",
       "16963  2019-12-24  Hospital São Paulo        26367           77           65   \n",
       "16964  2019-12-25  Hospital São Paulo        25250           66           63   \n",
       "16965  2019-12-26  Hospital São Paulo        25702           53           54   \n",
       "16966  2019-12-27  Hospital São Paulo        26236           43           52   \n",
       "16967  2019-12-28  Hospital São Paulo        27174           34           50   \n",
       "16968  2019-12-29  Hospital São Paulo        26877           22           47   \n",
       "16969  2019-12-30  Hospital São Paulo        26759            9           42   \n",
       "\n",
       "      Zero Maçã-Verde Tangerina Citrus Açaí-Guaraná Pêssego       TARGET  \n",
       "16950   58         37        38     33           26      13       NORMAL  \n",
       "16951   52         34        34     29           24       7       NORMAL  \n",
       "16952   47         34        30     26           21       2       NORMAL  \n",
       "16953   42         34        25     22           16      43       NORMAL  \n",
       "16954   36         28        22     20           11      41       NORMAL  \n",
       "16955   26         24        20     17            7      36       NORMAL  \n",
       "16956   22         22        18     13            2      31       NORMAL  \n",
       "16957   12         22        16     11           43      25       NORMAL  \n",
       "16958    5         19        11      7           38      22  REABASTECER  \n",
       "16959   65         13         8      2           35      19       NORMAL  \n",
       "16960   59         13         3     43           29      13  REABASTECER  \n",
       "16961   53          9        43     37           27      11  REABASTECER  \n",
       "16962   46          9        38     34           23       7  REABASTECER  \n",
       "16963   42          5        34     34           21       3       NORMAL  \n",
       "16964   34         43        29     31           17      43       NORMAL  \n",
       "16965   26         38        23     25           11      37       NORMAL  \n",
       "16966   17         33        18     21            5      35  REABASTECER  \n",
       "16967    9         28        15     16           43      32       NORMAL  \n",
       "16968   65         27        11     16           39      30       NORMAL  \n",
       "16969   56         22         8     10           35      26       NORMAL  "
      ]
     },
     "execution_count": 18,
     "metadata": {},
     "output_type": "execute_result"
    }
   ],
   "source": [
    "df_training_dataset_rmcolumns.tail(20)"
   ]
  },
  {
   "cell_type": "code",
   "execution_count": 19,
   "metadata": {},
   "outputs": [],
   "source": [
    "df_training_dataset_rmcolumns[\"Tempo\"] = pd.to_datetime(df_training_dataset_rmcolumns[\"Tempo\"], format='%Y-%m-%d', errors='coerce')\n",
    "df_training_dataset_rmcolumns[\"Workdays\"] = np.where(df_training_dataset_rmcolumns[\"Tempo\"].dt.dayofweek < 5, \"Workday\", \"Weekend\")"
   ]
  },
  {
   "cell_type": "code",
   "execution_count": 20,
   "metadata": {},
   "outputs": [
    {
     "data": {
      "text/html": [
       "<div>\n",
       "<style scoped>\n",
       "    .dataframe tbody tr th:only-of-type {\n",
       "        vertical-align: middle;\n",
       "    }\n",
       "\n",
       "    .dataframe tbody tr th {\n",
       "        vertical-align: top;\n",
       "    }\n",
       "\n",
       "    .dataframe thead th {\n",
       "        text-align: right;\n",
       "    }\n",
       "</style>\n",
       "<table border=\"1\" class=\"dataframe\">\n",
       "  <thead>\n",
       "    <tr style=\"text-align: right;\">\n",
       "      <th></th>\n",
       "      <th>Tempo</th>\n",
       "      <th>Estação</th>\n",
       "      <th>Movimentação</th>\n",
       "      <th>Original_473</th>\n",
       "      <th>Original_269</th>\n",
       "      <th>Zero</th>\n",
       "      <th>Maçã-Verde</th>\n",
       "      <th>Tangerina</th>\n",
       "      <th>Citrus</th>\n",
       "      <th>Açaí-Guaraná</th>\n",
       "      <th>Pêssego</th>\n",
       "      <th>TARGET</th>\n",
       "      <th>Workdays</th>\n",
       "    </tr>\n",
       "  </thead>\n",
       "  <tbody>\n",
       "    <tr>\n",
       "      <th>0</th>\n",
       "      <td>2018-01-01</td>\n",
       "      <td>Paraíso</td>\n",
       "      <td>70277</td>\n",
       "      <td>86</td>\n",
       "      <td>65</td>\n",
       "      <td>65</td>\n",
       "      <td>43</td>\n",
       "      <td>43</td>\n",
       "      <td>43</td>\n",
       "      <td>43</td>\n",
       "      <td>43</td>\n",
       "      <td>NORMAL</td>\n",
       "      <td>Workday</td>\n",
       "    </tr>\n",
       "    <tr>\n",
       "      <th>1</th>\n",
       "      <td>2018-01-02</td>\n",
       "      <td>Paraíso</td>\n",
       "      <td>73302</td>\n",
       "      <td>73</td>\n",
       "      <td>58</td>\n",
       "      <td>58</td>\n",
       "      <td>38</td>\n",
       "      <td>37</td>\n",
       "      <td>42</td>\n",
       "      <td>41</td>\n",
       "      <td>39</td>\n",
       "      <td>NORMAL</td>\n",
       "      <td>Workday</td>\n",
       "    </tr>\n",
       "    <tr>\n",
       "      <th>2</th>\n",
       "      <td>2018-01-03</td>\n",
       "      <td>Paraíso</td>\n",
       "      <td>71711</td>\n",
       "      <td>64</td>\n",
       "      <td>50</td>\n",
       "      <td>50</td>\n",
       "      <td>33</td>\n",
       "      <td>34</td>\n",
       "      <td>42</td>\n",
       "      <td>39</td>\n",
       "      <td>35</td>\n",
       "      <td>NORMAL</td>\n",
       "      <td>Workday</td>\n",
       "    </tr>\n",
       "    <tr>\n",
       "      <th>3</th>\n",
       "      <td>2018-01-04</td>\n",
       "      <td>Paraíso</td>\n",
       "      <td>71740</td>\n",
       "      <td>52</td>\n",
       "      <td>48</td>\n",
       "      <td>42</td>\n",
       "      <td>27</td>\n",
       "      <td>29</td>\n",
       "      <td>36</td>\n",
       "      <td>37</td>\n",
       "      <td>32</td>\n",
       "      <td>NORMAL</td>\n",
       "      <td>Workday</td>\n",
       "    </tr>\n",
       "    <tr>\n",
       "      <th>4</th>\n",
       "      <td>2018-01-05</td>\n",
       "      <td>Paraíso</td>\n",
       "      <td>71035</td>\n",
       "      <td>41</td>\n",
       "      <td>40</td>\n",
       "      <td>32</td>\n",
       "      <td>21</td>\n",
       "      <td>23</td>\n",
       "      <td>36</td>\n",
       "      <td>34</td>\n",
       "      <td>26</td>\n",
       "      <td>NORMAL</td>\n",
       "      <td>Workday</td>\n",
       "    </tr>\n",
       "  </tbody>\n",
       "</table>\n",
       "</div>"
      ],
      "text/plain": [
       "       Tempo  Estação Movimentação Original_473 Original_269 Zero Maçã-Verde  \\\n",
       "0 2018-01-01  Paraíso        70277           86           65   65         43   \n",
       "1 2018-01-02  Paraíso        73302           73           58   58         38   \n",
       "2 2018-01-03  Paraíso        71711           64           50   50         33   \n",
       "3 2018-01-04  Paraíso        71740           52           48   42         27   \n",
       "4 2018-01-05  Paraíso        71035           41           40   32         21   \n",
       "\n",
       "  Tangerina Citrus Açaí-Guaraná Pêssego  TARGET Workdays  \n",
       "0        43     43           43      43  NORMAL  Workday  \n",
       "1        37     42           41      39  NORMAL  Workday  \n",
       "2        34     42           39      35  NORMAL  Workday  \n",
       "3        29     36           37      32  NORMAL  Workday  \n",
       "4        23     36           34      26  NORMAL  Workday  "
      ]
     },
     "execution_count": 20,
     "metadata": {},
     "output_type": "execute_result"
    }
   ],
   "source": [
    "df_training_dataset_rmcolumns.head()"
   ]
  },
  {
   "cell_type": "code",
   "execution_count": 43,
   "metadata": {},
   "outputs": [
    {
     "data": {
      "text/html": [
       "<div>\n",
       "<style scoped>\n",
       "    .dataframe tbody tr th:only-of-type {\n",
       "        vertical-align: middle;\n",
       "    }\n",
       "\n",
       "    .dataframe tbody tr th {\n",
       "        vertical-align: top;\n",
       "    }\n",
       "\n",
       "    .dataframe thead th {\n",
       "        text-align: right;\n",
       "    }\n",
       "</style>\n",
       "<table border=\"1\" class=\"dataframe\">\n",
       "  <thead>\n",
       "    <tr style=\"text-align: right;\">\n",
       "      <th></th>\n",
       "      <th>Tempo</th>\n",
       "      <th>Estação</th>\n",
       "      <th>Movimentação</th>\n",
       "      <th>Original_473</th>\n",
       "      <th>Original_269</th>\n",
       "      <th>Zero</th>\n",
       "      <th>Maçã-Verde</th>\n",
       "      <th>Tangerina</th>\n",
       "      <th>Citrus</th>\n",
       "      <th>Açaí-Guaraná</th>\n",
       "      <th>...</th>\n",
       "      <th>LAST_Maçã-Verde</th>\n",
       "      <th>DIFF_Maçã-Verde</th>\n",
       "      <th>LAST_Tangerina</th>\n",
       "      <th>DIFF_Tangerina</th>\n",
       "      <th>LAST_Citrus</th>\n",
       "      <th>DIFF_Citrus</th>\n",
       "      <th>LAST_Açaí-Guaraná</th>\n",
       "      <th>DIFF_Açaí-Guaraná</th>\n",
       "      <th>LAST_Pêssego</th>\n",
       "      <th>DIFF_Pêssego</th>\n",
       "    </tr>\n",
       "  </thead>\n",
       "  <tbody>\n",
       "    <tr>\n",
       "      <th>16965</th>\n",
       "      <td>2019-12-26</td>\n",
       "      <td>Hospital São Paulo</td>\n",
       "      <td>25702</td>\n",
       "      <td>53</td>\n",
       "      <td>54</td>\n",
       "      <td>26</td>\n",
       "      <td>38</td>\n",
       "      <td>23</td>\n",
       "      <td>25</td>\n",
       "      <td>11</td>\n",
       "      <td>...</td>\n",
       "      <td>43.0</td>\n",
       "      <td>7.600000</td>\n",
       "      <td>29.0</td>\n",
       "      <td>-0.147059</td>\n",
       "      <td>31.0</td>\n",
       "      <td>-0.088235</td>\n",
       "      <td>17.0</td>\n",
       "      <td>-0.190476</td>\n",
       "      <td>43.0</td>\n",
       "      <td>13.333333</td>\n",
       "    </tr>\n",
       "    <tr>\n",
       "      <th>16966</th>\n",
       "      <td>2019-12-27</td>\n",
       "      <td>Hospital São Paulo</td>\n",
       "      <td>26236</td>\n",
       "      <td>43</td>\n",
       "      <td>52</td>\n",
       "      <td>17</td>\n",
       "      <td>33</td>\n",
       "      <td>18</td>\n",
       "      <td>21</td>\n",
       "      <td>5</td>\n",
       "      <td>...</td>\n",
       "      <td>38.0</td>\n",
       "      <td>-0.116279</td>\n",
       "      <td>23.0</td>\n",
       "      <td>-0.206897</td>\n",
       "      <td>25.0</td>\n",
       "      <td>-0.193548</td>\n",
       "      <td>11.0</td>\n",
       "      <td>-0.352941</td>\n",
       "      <td>37.0</td>\n",
       "      <td>-0.139535</td>\n",
       "    </tr>\n",
       "    <tr>\n",
       "      <th>16967</th>\n",
       "      <td>2019-12-28</td>\n",
       "      <td>Hospital São Paulo</td>\n",
       "      <td>27174</td>\n",
       "      <td>34</td>\n",
       "      <td>50</td>\n",
       "      <td>9</td>\n",
       "      <td>28</td>\n",
       "      <td>15</td>\n",
       "      <td>16</td>\n",
       "      <td>43</td>\n",
       "      <td>...</td>\n",
       "      <td>33.0</td>\n",
       "      <td>-0.131579</td>\n",
       "      <td>18.0</td>\n",
       "      <td>-0.217391</td>\n",
       "      <td>21.0</td>\n",
       "      <td>-0.160000</td>\n",
       "      <td>5.0</td>\n",
       "      <td>-0.545455</td>\n",
       "      <td>35.0</td>\n",
       "      <td>-0.054054</td>\n",
       "    </tr>\n",
       "    <tr>\n",
       "      <th>16968</th>\n",
       "      <td>2019-12-29</td>\n",
       "      <td>Hospital São Paulo</td>\n",
       "      <td>26877</td>\n",
       "      <td>22</td>\n",
       "      <td>47</td>\n",
       "      <td>65</td>\n",
       "      <td>27</td>\n",
       "      <td>11</td>\n",
       "      <td>16</td>\n",
       "      <td>39</td>\n",
       "      <td>...</td>\n",
       "      <td>28.0</td>\n",
       "      <td>-0.151515</td>\n",
       "      <td>15.0</td>\n",
       "      <td>-0.166667</td>\n",
       "      <td>16.0</td>\n",
       "      <td>-0.238095</td>\n",
       "      <td>43.0</td>\n",
       "      <td>7.600000</td>\n",
       "      <td>32.0</td>\n",
       "      <td>-0.085714</td>\n",
       "    </tr>\n",
       "    <tr>\n",
       "      <th>16969</th>\n",
       "      <td>2019-12-30</td>\n",
       "      <td>Hospital São Paulo</td>\n",
       "      <td>26759</td>\n",
       "      <td>9</td>\n",
       "      <td>42</td>\n",
       "      <td>56</td>\n",
       "      <td>22</td>\n",
       "      <td>8</td>\n",
       "      <td>10</td>\n",
       "      <td>35</td>\n",
       "      <td>...</td>\n",
       "      <td>27.0</td>\n",
       "      <td>-0.035714</td>\n",
       "      <td>11.0</td>\n",
       "      <td>-0.266667</td>\n",
       "      <td>16.0</td>\n",
       "      <td>0.000000</td>\n",
       "      <td>39.0</td>\n",
       "      <td>-0.093023</td>\n",
       "      <td>30.0</td>\n",
       "      <td>-0.062500</td>\n",
       "    </tr>\n",
       "  </tbody>\n",
       "</table>\n",
       "<p>5 rows × 31 columns</p>\n",
       "</div>"
      ],
      "text/plain": [
       "           Tempo             Estação  Movimentação  Original_473  \\\n",
       "16965 2019-12-26  Hospital São Paulo         25702            53   \n",
       "16966 2019-12-27  Hospital São Paulo         26236            43   \n",
       "16967 2019-12-28  Hospital São Paulo         27174            34   \n",
       "16968 2019-12-29  Hospital São Paulo         26877            22   \n",
       "16969 2019-12-30  Hospital São Paulo         26759             9   \n",
       "\n",
       "       Original_269  Zero  Maçã-Verde  Tangerina  Citrus  Açaí-Guaraná  ...  \\\n",
       "16965            54    26          38         23      25            11  ...   \n",
       "16966            52    17          33         18      21             5  ...   \n",
       "16967            50     9          28         15      16            43  ...   \n",
       "16968            47    65          27         11      16            39  ...   \n",
       "16969            42    56          22          8      10            35  ...   \n",
       "\n",
       "       LAST_Maçã-Verde DIFF_Maçã-Verde LAST_Tangerina  DIFF_Tangerina  \\\n",
       "16965             43.0        7.600000           29.0       -0.147059   \n",
       "16966             38.0       -0.116279           23.0       -0.206897   \n",
       "16967             33.0       -0.131579           18.0       -0.217391   \n",
       "16968             28.0       -0.151515           15.0       -0.166667   \n",
       "16969             27.0       -0.035714           11.0       -0.266667   \n",
       "\n",
       "       LAST_Citrus  DIFF_Citrus  LAST_Açaí-Guaraná  DIFF_Açaí-Guaraná  \\\n",
       "16965         31.0    -0.088235               17.0          -0.190476   \n",
       "16966         25.0    -0.193548               11.0          -0.352941   \n",
       "16967         21.0    -0.160000                5.0          -0.545455   \n",
       "16968         16.0    -0.238095               43.0           7.600000   \n",
       "16969         16.0     0.000000               39.0          -0.093023   \n",
       "\n",
       "       LAST_Pêssego  DIFF_Pêssego  \n",
       "16965          43.0     13.333333  \n",
       "16966          37.0     -0.139535  \n",
       "16967          35.0     -0.054054  \n",
       "16968          32.0     -0.085714  \n",
       "16969          30.0     -0.062500  \n",
       "\n",
       "[5 rows x 31 columns]"
      ]
     },
     "execution_count": 43,
     "metadata": {},
     "output_type": "execute_result"
    }
   ],
   "source": [
    "df_training_dataset_rmcolumns[\"Movimentação\"] = df_training_dataset_rmcolumns[\"Movimentação\"].astype(int)\n",
    "\n",
    "df_training_dataset_rmcolumns[\"LAST_MOV\"] = df_training_dataset_rmcolumns.groupby(['Estação'])['Movimentação'].shift()\n",
    "df_training_dataset_rmcolumns[\"DIFF_LAST_MOV\"] = df_training_dataset_rmcolumns.groupby(['Estação'])[\"LAST_MOV\"].pct_change()\n",
    "\n",
    "df_training_dataset_rmcolumns.tail()"
   ]
  },
  {
   "cell_type": "code",
   "execution_count": 44,
   "metadata": {},
   "outputs": [],
   "source": [
    "df_training_dataset_rmcolumns[\"Original_473\"] = df_training_dataset_rmcolumns[\"Original_473\"].astype(int)\n",
    "df_training_dataset_rmcolumns[\"Original_269\"] = df_training_dataset_rmcolumns[\"Original_269\"].astype(int)\n",
    "df_training_dataset_rmcolumns[\"Zero\"] = df_training_dataset_rmcolumns[\"Zero\"].astype(int)\n",
    "df_training_dataset_rmcolumns[\"Maçã-Verde\"] = df_training_dataset_rmcolumns[\"Maçã-Verde\"].astype(int)\n",
    "df_training_dataset_rmcolumns[\"Tangerina\"] = df_training_dataset_rmcolumns[\"Tangerina\"].astype(int)\n",
    "df_training_dataset_rmcolumns[\"Citrus\"] = df_training_dataset_rmcolumns[\"Citrus\"].astype(int)\n",
    "df_training_dataset_rmcolumns[\"Açaí-Guaraná\"] = df_training_dataset_rmcolumns[\"Açaí-Guaraná\"].astype(int)\n",
    "df_training_dataset_rmcolumns[\"Pêssego\"] = df_training_dataset_rmcolumns[\"Pêssego\"].astype(int)\n",
    "\n",
    "df_training_dataset_rmcolumns[\"LAST_Original_473\"] = df_training_dataset_rmcolumns.groupby(['Estação'])['Original_473'].shift()\n",
    "df_training_dataset_rmcolumns[\"DIFF_Original_473\"] = df_training_dataset_rmcolumns.groupby(['Estação'])['LAST_Original_473'].diff()\n",
    "\n",
    "df_training_dataset_rmcolumns[\"LAST_Original_269\"] = df_training_dataset_rmcolumns.groupby(['Estação'])['Original_269'].shift()\n",
    "df_training_dataset_rmcolumns[\"DIFF_Original_269\"] = df_training_dataset_rmcolumns.groupby(['Estação'])['LAST_Original_269'].diff()\n",
    "\n",
    "df_training_dataset_rmcolumns[\"LAST_Zero\"] = df_training_dataset_rmcolumns.groupby(['Estação'])['Zero'].shift()\n",
    "df_training_dataset_rmcolumns[\"DIFF_Zero\"] = df_training_dataset_rmcolumns.groupby(['Estação'])['LAST_Zero'].diff()\n",
    "\n",
    "df_training_dataset_rmcolumns[\"LAST_Maçã-Verde\"] = df_training_dataset_rmcolumns.groupby(['Estação'])['Maçã-Verde'].shift()\n",
    "df_training_dataset_rmcolumns[\"DIFF_Maçã-Verde\"] = df_training_dataset_rmcolumns.groupby(['Estação'])['LAST_Maçã-Verde'].diff()\n",
    "\n",
    "df_training_dataset_rmcolumns[\"LAST_Tangerina\"] = df_training_dataset_rmcolumns.groupby(['Estação'])['Tangerina'].shift()\n",
    "df_training_dataset_rmcolumns[\"DIFF_Tangerina\"] = df_training_dataset_rmcolumns.groupby(['Estação'])['LAST_Tangerina'].diff()\n",
    "\n",
    "df_training_dataset_rmcolumns[\"LAST_Citrus\"] = df_training_dataset_rmcolumns.groupby(['Estação'])['Citrus'].shift()\n",
    "df_training_dataset_rmcolumns[\"DIFF_Citrus\"] = df_training_dataset_rmcolumns.groupby(['Estação'])['LAST_Citrus'].diff()\n",
    "\n",
    "df_training_dataset_rmcolumns[\"LAST_Açaí-Guaraná\"] = df_training_dataset_rmcolumns.groupby(['Estação'])['Açaí-Guaraná'].shift()\n",
    "df_training_dataset_rmcolumns[\"DIFF_Açaí-Guaraná\"] = df_training_dataset_rmcolumns.groupby(['Estação'])['LAST_Açaí-Guaraná'].diff()\n",
    "\n",
    "df_training_dataset_rmcolumns[\"LAST_Pêssego\"] = df_training_dataset_rmcolumns.groupby(['Estação'])['Pêssego'].shift()\n",
    "df_training_dataset_rmcolumns[\"DIFF_Pêssego\"] = df_training_dataset_rmcolumns.groupby(['Estação'])['LAST_Pêssego'].diff()\n",
    "\n",
    "df_training_dataset_rmcolumns[\"Estação\"] = df_training_dataset_rmcolumns[\"Estação\"].astype(\"category\")\n",
    "df_training_dataset_rmcolumns[\"Workdays\"] = df_training_dataset_rmcolumns[\"Workdays\"].astype(\"category\")"
   ]
  },
  {
   "cell_type": "code",
   "execution_count": 45,
   "metadata": {},
   "outputs": [
    {
     "data": {
      "text/plain": [
       "Index(['Tempo', 'Estação', 'Movimentação', 'Original_473', 'Original_269',\n",
       "       'Zero', 'Maçã-Verde', 'Tangerina', 'Citrus', 'Açaí-Guaraná', 'Pêssego',\n",
       "       'TARGET', 'Workdays', 'LAST_MOV', 'DIFF_LAST_MOV', 'LAST_Original_473',\n",
       "       'DIFF_Original_473', 'LAST_Original_269', 'DIFF_Original_269',\n",
       "       'LAST_Zero', 'DIFF_Zero', 'LAST_Maçã-Verde', 'DIFF_Maçã-Verde',\n",
       "       'LAST_Tangerina', 'DIFF_Tangerina', 'LAST_Citrus', 'DIFF_Citrus',\n",
       "       'LAST_Açaí-Guaraná', 'DIFF_Açaí-Guaraná', 'LAST_Pêssego',\n",
       "       'DIFF_Pêssego'],\n",
       "      dtype='object')"
      ]
     },
     "execution_count": 45,
     "metadata": {},
     "output_type": "execute_result"
    }
   ],
   "source": [
    "df_training = df_training_dataset_rmcolumns.copy()\n",
    "df_training.columns"
   ]
  },
  {
   "cell_type": "code",
   "execution_count": 46,
   "metadata": {},
   "outputs": [],
   "source": [
    "df_training.dropna(inplace=True)"
   ]
  },
  {
   "cell_type": "code",
   "execution_count": 81,
   "metadata": {},
   "outputs": [],
   "source": [
    "features = df_training[\n",
    "    [\n",
    "        'Estação', 'Workdays', 'Original_473', 'Original_269', 'Zero', 'Maçã-Verde', 'Tangerina',\n",
    "       'Citrus', 'Açaí-Guaraná', 'Pêssego', 'LAST_MOV',\n",
    "       'DIFF_Original_473', 'DIFF_Original_269', 'DIFF_Zero', 'DIFF_Maçã-Verde', \n",
    "        'DIFF_Tangerina', 'DIFF_Citrus', 'DIFF_Açaí-Guaraná',\n",
    "    ]\n",
    "]\n",
    "target = df_training['TARGET']  ## NÃO TROQUE O NOME DA VARIÁVEL TARGET."
   ]
  },
  {
   "cell_type": "code",
   "execution_count": 82,
   "metadata": {},
   "outputs": [
    {
     "data": {
      "text/plain": [
       "Estação              category\n",
       "Workdays             category\n",
       "LAST_MOV              float64\n",
       "DIFF_Original_473     float64\n",
       "DIFF_Original_269     float64\n",
       "DIFF_Zero             float64\n",
       "DIFF_Maçã-Verde       float64\n",
       "DIFF_Tangerina        float64\n",
       "DIFF_Citrus           float64\n",
       "DIFF_Açaí-Guaraná     float64\n",
       "dtype: object"
      ]
     },
     "execution_count": 82,
     "metadata": {},
     "output_type": "execute_result"
    }
   ],
   "source": [
    "features.dtypes"
   ]
  },
  {
   "cell_type": "markdown",
   "metadata": {},
   "source": [
    "### Dividindo nosso conjunto de dados em conjuntos de treinamento e teste"
   ]
  },
  {
   "cell_type": "code",
   "execution_count": 83,
   "metadata": {},
   "outputs": [
    {
     "data": {
      "text/plain": [
       "Index(['LAST_MOV', 'DIFF_Original_473', 'DIFF_Original_269', 'DIFF_Zero',\n",
       "       'DIFF_Maçã-Verde', 'DIFF_Tangerina', 'DIFF_Citrus',\n",
       "       'DIFF_Açaí-Guaraná'],\n",
       "      dtype='object')"
      ]
     },
     "execution_count": 83,
     "metadata": {},
     "output_type": "execute_result"
    }
   ],
   "source": [
    "from sklearn import preprocessing\n",
    "\n",
    "num_d = features.select_dtypes(exclude=['category'])\n",
    "\n",
    "sc = preprocessing.StandardScaler().fit(num_d)\n",
    "num_d.columns"
   ]
  },
  {
   "cell_type": "code",
   "execution_count": 84,
   "metadata": {},
   "outputs": [
    {
     "name": "stderr",
     "output_type": "stream",
     "text": [
      "/usr/local/lib/python3.7/site-packages/ipykernel_launcher.py:1: SettingWithCopyWarning: \n",
      "A value is trying to be set on a copy of a slice from a DataFrame.\n",
      "Try using .loc[row_indexer,col_indexer] = value instead\n",
      "\n",
      "See the caveats in the documentation: https://pandas.pydata.org/pandas-docs/stable/user_guide/indexing.html#returning-a-view-versus-a-copy\n",
      "  \"\"\"Entry point for launching an IPython kernel.\n",
      "/usr/local/lib/python3.7/site-packages/pandas/core/indexing.py:1736: SettingWithCopyWarning: \n",
      "A value is trying to be set on a copy of a slice from a DataFrame.\n",
      "Try using .loc[row_indexer,col_indexer] = value instead\n",
      "\n",
      "See the caveats in the documentation: https://pandas.pydata.org/pandas-docs/stable/user_guide/indexing.html#returning-a-view-versus-a-copy\n",
      "  isetter(loc, value[:, i].tolist())\n"
     ]
    }
   ],
   "source": [
    "features[num_d.columns] = sc.transform(num_d)"
   ]
  },
  {
   "cell_type": "code",
   "execution_count": 85,
   "metadata": {},
   "outputs": [
    {
     "data": {
      "text/html": [
       "<div>\n",
       "<style scoped>\n",
       "    .dataframe tbody tr th:only-of-type {\n",
       "        vertical-align: middle;\n",
       "    }\n",
       "\n",
       "    .dataframe tbody tr th {\n",
       "        vertical-align: top;\n",
       "    }\n",
       "\n",
       "    .dataframe thead th {\n",
       "        text-align: right;\n",
       "    }\n",
       "</style>\n",
       "<table border=\"1\" class=\"dataframe\">\n",
       "  <thead>\n",
       "    <tr style=\"text-align: right;\">\n",
       "      <th></th>\n",
       "      <th>Estação</th>\n",
       "      <th>Workdays</th>\n",
       "      <th>LAST_MOV</th>\n",
       "      <th>DIFF_Original_473</th>\n",
       "      <th>DIFF_Original_269</th>\n",
       "      <th>DIFF_Zero</th>\n",
       "      <th>DIFF_Maçã-Verde</th>\n",
       "      <th>DIFF_Tangerina</th>\n",
       "      <th>DIFF_Citrus</th>\n",
       "      <th>DIFF_Açaí-Guaraná</th>\n",
       "    </tr>\n",
       "  </thead>\n",
       "  <tbody>\n",
       "    <tr>\n",
       "      <th>2</th>\n",
       "      <td>Paraíso</td>\n",
       "      <td>Workday</td>\n",
       "      <td>0.127308</td>\n",
       "      <td>-0.460941</td>\n",
       "      <td>-0.367085</td>\n",
       "      <td>-0.339635</td>\n",
       "      <td>-0.454975</td>\n",
       "      <td>-0.475823</td>\n",
       "      <td>-0.089682</td>\n",
       "      <td>-0.158942</td>\n",
       "    </tr>\n",
       "    <tr>\n",
       "      <th>3</th>\n",
       "      <td>Paraíso</td>\n",
       "      <td>Workday</td>\n",
       "      <td>0.090993</td>\n",
       "      <td>-0.318796</td>\n",
       "      <td>-0.419897</td>\n",
       "      <td>-0.388585</td>\n",
       "      <td>-0.454975</td>\n",
       "      <td>-0.236565</td>\n",
       "      <td>0.001850</td>\n",
       "      <td>-0.158942</td>\n",
       "    </tr>\n",
       "    <tr>\n",
       "      <th>4</th>\n",
       "      <td>Paraíso</td>\n",
       "      <td>Workday</td>\n",
       "      <td>0.091655</td>\n",
       "      <td>-0.425405</td>\n",
       "      <td>-0.103025</td>\n",
       "      <td>-0.388585</td>\n",
       "      <td>-0.546305</td>\n",
       "      <td>-0.396070</td>\n",
       "      <td>-0.547337</td>\n",
       "      <td>-0.158942</td>\n",
       "    </tr>\n",
       "    <tr>\n",
       "      <th>5</th>\n",
       "      <td>Paraíso</td>\n",
       "      <td>Weekend</td>\n",
       "      <td>0.075564</td>\n",
       "      <td>-0.389869</td>\n",
       "      <td>-0.419897</td>\n",
       "      <td>-0.486486</td>\n",
       "      <td>-0.546305</td>\n",
       "      <td>-0.475823</td>\n",
       "      <td>0.001850</td>\n",
       "      <td>-0.238750</td>\n",
       "    </tr>\n",
       "    <tr>\n",
       "      <th>6</th>\n",
       "      <td>Paraíso</td>\n",
       "      <td>Weekend</td>\n",
       "      <td>0.121830</td>\n",
       "      <td>-0.354332</td>\n",
       "      <td>-0.261461</td>\n",
       "      <td>-0.290685</td>\n",
       "      <td>-0.089653</td>\n",
       "      <td>-0.396070</td>\n",
       "      <td>-0.089682</td>\n",
       "      <td>-0.318557</td>\n",
       "    </tr>\n",
       "  </tbody>\n",
       "</table>\n",
       "</div>"
      ],
      "text/plain": [
       "   Estação Workdays  LAST_MOV  DIFF_Original_473  DIFF_Original_269  \\\n",
       "2  Paraíso  Workday  0.127308          -0.460941          -0.367085   \n",
       "3  Paraíso  Workday  0.090993          -0.318796          -0.419897   \n",
       "4  Paraíso  Workday  0.091655          -0.425405          -0.103025   \n",
       "5  Paraíso  Weekend  0.075564          -0.389869          -0.419897   \n",
       "6  Paraíso  Weekend  0.121830          -0.354332          -0.261461   \n",
       "\n",
       "   DIFF_Zero  DIFF_Maçã-Verde  DIFF_Tangerina  DIFF_Citrus  DIFF_Açaí-Guaraná  \n",
       "2  -0.339635        -0.454975       -0.475823    -0.089682          -0.158942  \n",
       "3  -0.388585        -0.454975       -0.236565     0.001850          -0.158942  \n",
       "4  -0.388585        -0.546305       -0.396070    -0.547337          -0.158942  \n",
       "5  -0.486486        -0.546305       -0.475823     0.001850          -0.238750  \n",
       "6  -0.290685        -0.089653       -0.396070    -0.089682          -0.318557  "
      ]
     },
     "execution_count": 85,
     "metadata": {},
     "output_type": "execute_result"
    }
   ],
   "source": [
    "features.head()"
   ]
  },
  {
   "cell_type": "code",
   "execution_count": 86,
   "metadata": {},
   "outputs": [],
   "source": [
    "from sklearn.model_selection import train_test_split\n",
    "from imblearn.over_sampling import SMOTENC\n",
    "# from imblearn.over_sampling import SMOTE\n",
    "\n",
    "X_train, X_test, y_train, y_test = train_test_split(features, target, test_size=0.3, random_state=1006)\n",
    "\n",
    "smc = SMOTENC(categorical_features=[0, 1], random_state=1006)\n",
    "# smc = SMOTE(random_state=1006)\n",
    "\n",
    "X_train, y_train = smc.fit_resample(X_train, y_train)"
   ]
  },
  {
   "cell_type": "markdown",
   "metadata": {},
   "source": [
    "### Treinando uma árvore de decisão"
   ]
  },
  {
   "cell_type": "code",
   "execution_count": 87,
   "metadata": {},
   "outputs": [
    {
     "name": "stderr",
     "output_type": "stream",
     "text": [
      "/usr/local/lib/python3.7/site-packages/lightgbm/basic.py:1551: UserWarning: Using categorical_feature in Dataset.\n",
      "  warnings.warn('Using categorical_feature in Dataset.')\n"
     ]
    },
    {
     "data": {
      "text/plain": [
       "LGBMClassifier(learning_rate=0.001, n_estimators=10000)"
      ]
     },
     "execution_count": 87,
     "metadata": {},
     "output_type": "execute_result"
    }
   ],
   "source": [
    "# Método para criar um árvore de decisão\n",
    "from lightgbm import LGBMClassifier\n",
    "\n",
    "dtc = LGBMClassifier(learning_rate=0.001, n_estimators=10000)\n",
    "dtc.fit(X_train, y_train, categorical_feature=[\"Estação\", \"Workdays\"])\n",
    "#dtc.fit(X_train, y_train)"
   ]
  },
  {
   "cell_type": "markdown",
   "metadata": {},
   "source": [
    "### Fazendo previsões na amostra de teste"
   ]
  },
  {
   "cell_type": "code",
   "execution_count": 88,
   "metadata": {},
   "outputs": [
    {
     "name": "stdout",
     "output_type": "stream",
     "text": [
      "['NORMAL' 'NORMAL' 'NORMAL' ... 'NORMAL' 'NORMAL' 'REABASTECER']\n"
     ]
    }
   ],
   "source": [
    "y_pred = dtc.predict(X_test)\n",
    "print(y_pred)"
   ]
  },
  {
   "cell_type": "code",
   "execution_count": 89,
   "metadata": {},
   "outputs": [
    {
     "data": {
      "text/plain": [
       "array([36497,  3371, 34230, 38560, 31726, 36205, 30949, 28303, 30757,\n",
       "       29402], dtype=int32)"
      ]
     },
     "execution_count": 89,
     "metadata": {},
     "output_type": "execute_result"
    }
   ],
   "source": [
    "dtc.feature_importances_"
   ]
  },
  {
   "cell_type": "markdown",
   "metadata": {},
   "source": [
    "### Analisando a qualidade do modelo através da matriz de confusão"
   ]
  },
  {
   "cell_type": "code",
   "execution_count": 90,
   "metadata": {},
   "outputs": [],
   "source": [
    "import matplotlib.pyplot as plt\n",
    "import numpy as np\n",
    "import itertools\n",
    "\n",
    "\n",
    "def plot_confusion_matrix(cm, target_names, title='Confusion matrix', cmap=None, normalize=True):\n",
    "    accuracy = np.trace(cm) / float(np.sum(cm))\n",
    "    misclass = 1 - accuracy\n",
    "    if cmap is None:\n",
    "        cmap = plt.get_cmap('Blues')\n",
    "    plt.figure(figsize=(9, 9))\n",
    "    plt.imshow(cm, interpolation='nearest', cmap=cmap)\n",
    "    plt.title(title)\n",
    "    plt.colorbar()\n",
    "    if target_names is not None:\n",
    "        tick_marks = np.arange(len(target_names))\n",
    "        plt.xticks(tick_marks, target_names, rotation=45)\n",
    "        plt.yticks(tick_marks, target_names)\n",
    "    if normalize:\n",
    "        cm = cm.astype('float') / cm.sum(axis=1)[:, np.newaxis]\n",
    "    thresh = cm.max() / 1.5 if normalize else cm.max() / 2\n",
    "    for i, j in itertools.product(range(cm.shape[0]), range(cm.shape[1])):\n",
    "        if normalize:\n",
    "            plt.text(j, i, \"{:0.2f}\".format(cm[i, j]),\n",
    "                     horizontalalignment=\"center\",\n",
    "                     color=\"white\" if cm[i, j] > thresh else \"black\")\n",
    "        else:\n",
    "            plt.text(j, i, \"{:,}\".format(cm[i, j]),\n",
    "                     horizontalalignment=\"center\",\n",
    "                     color=\"white\" if cm[i, j] > thresh else \"black\")\n",
    "    plt.tight_layout()\n",
    "    plt.ylabel('True label')\n",
    "    plt.xlabel('Predicted label\\naccuracy={:0.4f}; misclass={:0.4f}'.format(accuracy, misclass))\n",
    "    plt.show()"
   ]
  },
  {
   "cell_type": "code",
   "execution_count": 91,
   "metadata": {},
   "outputs": [
    {
     "data": {
      "image/png": "[encoded data removed]",
      "text/plain": [
       "<Figure size 648x648 with 2 Axes>"
      ]
     },
     "metadata": {
      "needs_background": "light"
     },
     "output_type": "display_data"
    }
   ],
   "source": [
    "from sklearn.metrics import confusion_matrix\n",
    "\n",
    "\n",
    "plot_confusion_matrix(confusion_matrix(y_test, y_pred), ['NORMAL', 'REABASTECER'])"
   ]
  },
  {
   "cell_type": "code",
   "execution_count": 92,
   "metadata": {},
   "outputs": [
    {
     "name": "stdout",
     "output_type": "stream",
     "text": [
      "              precision    recall  f1-score   support\n",
      "\n",
      "      NORMAL       0.68      0.98      0.80      3426\n",
      " REABASTECER       0.32      0.02      0.03      1622\n",
      "\n",
      "    accuracy                           0.67      5048\n",
      "   macro avg       0.50      0.50      0.42      5048\n",
      "weighted avg       0.56      0.67      0.55      5048\n",
      "\n"
     ]
    }
   ],
   "source": [
    "from sklearn.metrics import classification_report\n",
    "\n",
    "print(classification_report(y_test, y_pred))"
   ]
  },
  {
   "cell_type": "markdown",
   "metadata": {},
   "source": [
    "<hr>"
   ]
  },
  {
   "cell_type": "markdown",
   "metadata": {},
   "source": [
    "## Scoring dos dados necessários para entregar a solução"
   ]
  },
  {
   "cell_type": "markdown",
   "metadata": {},
   "source": [
    "Como entrega da sua solução, esperamos os resultados classificados no seguinte dataset chamado \"to_be_scored.csv\":"
   ]
  },
  {
   "cell_type": "markdown",
   "metadata": {},
   "source": [
    "### Download da \"folha de respostas\""
   ]
  },
  {
   "cell_type": "code",
   "execution_count": null,
   "metadata": {},
   "outputs": [],
   "source": [
    "!wget --no-check-certificate --content-disposition https://gitlab.com/JoaoPedroPP/datasets/-/raw/master/ntn/to_be_scored.csv\n",
    "df_to_be_scored = pd.read_csv(r'to_be_scored.csv')\n",
    "df_to_be_scored.tail()"
   ]
  },
  {
   "cell_type": "code",
   "execution_count": null,
   "metadata": {},
   "outputs": [],
   "source": [
    "#df_to_be_scored = pd.read_csv('to_be_scored.csv')\n",
    "#df_to_be_scored.tail()"
   ]
  },
  {
   "cell_type": "markdown",
   "metadata": {},
   "source": [
    "# Atenção!\n",
    "\n",
    "O dataframe ``to_be_scored`` é a sua \"folha de respostas\". Note que a coluna \"TARGET\" não existe nessa amostra, que não pode ser então utilizada para treino de modelos de aprendizado supervisionado."
   ]
  },
  {
   "cell_type": "code",
   "execution_count": null,
   "metadata": {
    "scrolled": true
   },
   "outputs": [],
   "source": [
    "df_to_be_scored.info()"
   ]
  },
  {
   "cell_type": "markdown",
   "metadata": {},
   "source": [
    "<hr>\n",
    "\n",
    "# Atenção!\n",
    "\n",
    "# Para poder aplicar seu modelo e classificar a folha de respostas, você precisa primeiro aplicar as mesmas transformações com colunas que você aplicou no dataset de treino.\n",
    "\n",
    "# Não remova ou adicione linhas na folha de respostas. \n",
    "\n",
    "# Não altere a ordem das linhas na folha de respostas.\n",
    "\n",
    "# Ao final, as 1000 entradas devem estar classificadas, com os valores previstos em uma coluna chamada \"target\"\n",
    "\n",
    "<hr>"
   ]
  },
  {
   "cell_type": "markdown",
   "metadata": {},
   "source": [
    "Na célula abaixo, repetimos rapidamente os mesmos passos de pré-processamento usados no exemplo dado com árvore de decisão"
   ]
  },
  {
   "cell_type": "code",
   "execution_count": null,
   "metadata": {},
   "outputs": [],
   "source": [
    "# 1 - Removendo linhas com valores NaN\n",
    "df_to_be_scored_1 = df_to_be_scored.dropna(axis='index', how='any', subset=['Tempo', 'Estação', 'LAT', 'LONG', 'Movimentação', 'Original_473', 'Original_269', 'Zero', 'Maçã-Verde', 'Tangerina', 'Citrus', 'Açaí-Guaraná', 'Pêssego'])\n",
    "\n",
    "# 2 - Inputando zeros nos valores faltantes\n",
    "impute_zeros.fit(X=df_to_be_scored_1)\n",
    "df_to_be_scored_2 = pd.DataFrame.from_records(\n",
    "    data=impute_zeros.transform(\n",
    "        X=df_to_be_scored_1\n",
    "    ),\n",
    "    columns=df_to_be_scored_1.columns\n",
    ")\n",
    "\n",
    "# 3 - Remoção de colunas\n",
    "df_to_be_scored_3 = df_to_be_scored_2.drop(columns=['LAT', 'LONG'], inplace=False)\n",
    "\n",
    "# 4 - Encoding com \"dummy variables\" (se necessário)\n",
    "# df_to_be_scored_4 = pd.get_dummies(df_to_be_scored_3, columns=['Váriavel com dummy'])\n",
    "# df_to_be_scored_4 = df_to_be_scored_3\n",
    "\n",
    "df_to_be_scored_4 = df_to_be_scored_3.copy()\n",
    "\n",
    "df_to_be_scored_4[\"Tempo\"] = pd.to_datetime(df_to_be_scored_4[\"Tempo\"], format='%Y-%m-%d', errors='coerce')\n",
    "df_to_be_scored_4[\"Workdays\"] = np.where(df_to_be_scored_4[\"Tempo\"].dt.dayofweek < 5, \"Workday\", \"Weekend\")\n",
    "df_to_be_scored_4[\"Estação\"] = df_to_be_scored_4[\"Estação\"].astype(\"category\")\n",
    "df_to_be_scored_4[\"Workdays\"] = df_to_be_scored_4[\"Workdays\"].astype(\"category\")\n",
    "df_to_be_scored_4[\"Movimentação\"] = df_to_be_scored_4[\"Movimentação\"].astype(int)\n",
    "df_to_be_scored_4[\"LAST_MOV\"] = df_to_be_scored_4.groupby(['Estação'])['Movimentação'].shift()\n",
    "df_to_be_scored_4[\"DIFF_LAST_MOV\"] = df_to_be_scored_4.groupby(['Estação'])[\"LAST_MOV\"].diff()\n",
    "df_to_be_scored_4['LAST_MOV'] = df_to_be_scored_4['LAST_MOV'].fillna(0)\n",
    "df_to_be_scored_4['DIFF_LAST_MOV'] = df_to_be_scored_4['DIFF_LAST_MOV'].fillna(0)\n",
    "df_to_be_scored_4.drop(['Tempo', 'Movimentação'], axis='columns', inplace=True)\n",
    "\n",
    "num_d = df_to_be_scored_4.select_dtypes(exclude=['category'])\n",
    "sc = preprocessing.StandardScaler().fit(num_d)\n",
    "df_to_be_scored_4[num_d.columns] = sc.transform(num_d)"
   ]
  },
  {
   "cell_type": "code",
   "execution_count": null,
   "metadata": {},
   "outputs": [],
   "source": [
    "df_to_be_scored_4.tail()"
   ]
  },
  {
   "cell_type": "code",
   "execution_count": null,
   "metadata": {},
   "outputs": [],
   "source": [
    "df_to_be_scored_4.dtypes"
   ]
  },
  {
   "cell_type": "markdown",
   "metadata": {},
   "source": [
    "<hr>\n",
    "\n",
    "Pode ser verificado abaixo que as colunas da folha de resposta agora são idênticas às que foram usadas para treinar o modelo:"
   ]
  },
  {
   "cell_type": "code",
   "execution_count": null,
   "metadata": {},
   "outputs": [],
   "source": [
    "df_training[\n",
    "    [\n",
    "          'Estação', 'Workdays', 'Original_473', 'Original_269', 'Zero', 'Maçã-Verde', 'Tangerina',\n",
    "       'Citrus', 'Açaí-Guaraná', 'Pêssego', 'LAST_MOV', 'DIFF_LAST_MOV'\n",
    "    ]\n",
    "].columns"
   ]
  },
  {
   "cell_type": "code",
   "execution_count": null,
   "metadata": {},
   "outputs": [],
   "source": [
    "df_to_be_scored_4.columns"
   ]
  },
  {
   "cell_type": "markdown",
   "metadata": {},
   "source": [
    "# Atenção\n",
    "\n",
    "Para todas colunas que não existirem no \"df_to_be_scored\", você pode usar a técnica abaixo para adicioná-las:"
   ]
  },
  {
   "cell_type": "code",
   "execution_count": null,
   "metadata": {},
   "outputs": [],
   "source": [
    "y_pred = dtc.predict(df_to_be_scored_4)\n",
    "df_to_be_scored_4['TARGET'] = y_pred\n",
    "df_to_be_scored_4.tail()"
   ]
  },
  {
   "cell_type": "markdown",
   "metadata": {},
   "source": [
    "### Salvando a folha de respostas como um arquivo .csv para ser submetido"
   ]
  },
  {
   "cell_type": "code",
   "execution_count": null,
   "metadata": {},
   "outputs": [],
   "source": [
    "df_to_be_scored_4.to_csv(\"results.csv\", index=False)"
   ]
  },
  {
   "cell_type": "markdown",
   "metadata": {},
   "source": [
    "# Atenção\n",
    "\n",
    "# A execução da célula acima irá criar um novo \"data asset\" no seu projeto no Watson Studio. Você precisará realizar o download deste arquivo juntamente com este notebook e criar um arquivo zip com os arquivos **results.csv** e **notebook.ipynb** para submissão. (os arquivos devem estar nomeados desta forma)"
   ]
  },
  {
   "cell_type": "markdown",
   "metadata": {},
   "source": [
    "<hr>\n",
    "\n",
    "## Parabéns!\n",
    "\n",
    "Se você já está satisfeito com a sua solução, vá até a página abaixo e envie os arquivos necessários para submissão.\n",
    "\n",
    "# https://tnt.maratona.dev\n"
   ]
  },
  {
   "cell_type": "code",
   "execution_count": null,
   "metadata": {},
   "outputs": [],
   "source": []
  }
 ],
 "metadata": {
  "kernelspec": {
   "display_name": "Python 3",
   "language": "python",
   "name": "python3"
  },
  "language_info": {
   "codemirror_mode": {
    "name": "ipython",
    "version": 3
   },
   "file_extension": ".py",
   "mimetype": "text/x-python",
   "name": "python",
   "nbconvert_exporter": "python",
   "pygments_lexer": "ipython3",
   "version": "3.7.5"
  }
 },
 "nbformat": 4,
 "nbformat_minor": 4
}
